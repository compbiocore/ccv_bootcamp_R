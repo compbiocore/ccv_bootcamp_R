{
 "cells": [
  {
   "cell_type": "markdown",
   "metadata": {},
   "source": [
    "# Using R on Oscar\n",
    "### In addition to installing R and Rstudio on your own computer, you can also use R on Oscar. We'll talk about installing packages on Oscar and using R console or RStudio on Oscar.\n",
    "\n",
    "## Installing packages \n",
    "\n",
    "### First, connect to Oscar\n",
    "\n",
    "```ssh username@ssh.ccv.brown.edu```"
   ]
  },
  {
   "cell_type": "markdown",
   "metadata": {},
   "source": [
    "- **You can use 'module avail' to see the R options**"
   ]
  },
  {
   "cell_type": "markdown",
   "metadata": {},
   "source": [
    "<p align=\"left\">\n",
    "<img src=\"images/Screen Shot 2021-05-04 at 1.20.47 PM.png\" width=600 height=150 />\n",
    "</p>"
   ]
  },
  {
   "cell_type": "markdown",
   "metadata": {},
   "source": [
    "### Then 'module load' to load R"
   ]
  },
  {
   "cell_type": "markdown",
   "metadata": {},
   "source": [
    "<p align=\"left\">\n",
    "<img src=\"images/Screen Shot 2021-05-04 at 1.22.09 PM.png\" width=800 height=450 />\n",
    "</p>"
   ]
  },
  {
   "cell_type": "markdown",
   "metadata": {},
   "source": [
    "### Then type 'R' and hit enter to start R"
   ]
  },
  {
   "cell_type": "markdown",
   "metadata": {},
   "source": [
    "<p align=\"center\">\n",
    "<img src=\"images/Screen Shot 2021-05-04 at 1.23.13 PM.png\" width=700 height=450 />\n",
    "</p>"
   ]
  },
  {
   "cell_type": "markdown",
   "metadata": {},
   "source": [
    "### Install a package using using `install.packages` and include the repos=\"http://cran.r-project.org\" argument. If you get a message asking if you would like to create or use a personal library, enter 'y'.  "
   ]
  },
  {
   "cell_type": "markdown",
   "metadata": {},
   "source": [
    "<p align=\"left\">\n",
    "<img src=\"images/Screen Shot 2021-05-04 at 1.30.27 PM.png\" width=800 height=450 />\n",
    "</p>"
   ]
  },
  {
   "cell_type": "markdown",
   "metadata": {},
   "source": [
    "## Using R interactively"
   ]
  },
  {
   "cell_type": "markdown",
   "metadata": {},
   "source": [
    "###  You can use R interactively, like this bit of code that calculates the mean of vector x:"
   ]
  },
  {
   "cell_type": "markdown",
   "metadata": {},
   "source": [
    "<p align=\"left\">\n",
    "<img src=\"images/Screen Shot 2021-05-04 at 1.32.32 PM.png\" width=800 height=450 />\n",
    "</p>"
   ]
  },
  {
   "cell_type": "markdown",
   "metadata": {},
   "source": [
    "## Using Rscript"
   ]
  },
  {
   "cell_type": "markdown",
   "metadata": {},
   "source": [
    "### - You can also run R scripts through the command line, which makes it easier to automate your scripts or call your R scripts inside other scripts\n",
    "### - You can achieve this using Rscript. Say you have a script called `myscript.R`, you can run is using the command `Rscript myscript.R`.\n",
    "### - The full usage is: Rscript [--options] [-e expr] file [args].\n",
    "### - One particularly useful option to include when running `Rscript` is the `--vanilla flag` -- this will avoid using hidden R profile objects.\n",
    "### - I made a simple example R script called `scriptA.R` (you can do this too -- I used vim but you could also use nano).\n",
    "### - It will also calculate the mean of a vector, here I am using `cat` to show you the contents and then running it using `RScript` with the `--vanilla` option:"
   ]
  },
  {
   "cell_type": "markdown",
   "metadata": {},
   "source": [
    "<p align=\"left\">\n",
    "<img src=\"images/Screen Shot 2021-05-04 at 1.38.31 PM.png\" width=700 height=450 />\n",
    "</p>"
   ]
  },
  {
   "cell_type": "markdown",
   "metadata": {},
   "source": [
    "## Redirecting output"
   ]
  },
  {
   "cell_type": "markdown",
   "metadata": {},
   "source": [
    "### - This will send the output to the standard output. You could also capture the output using a `>` to redirect the output to a text file. \n",
    "### - Using `>1` will so the same thing as, while '>2' will let you write an error log file (which would be useful if you wanted debug things later). \n",
    "### - You can also combine these two like I am showing in the last example."
   ]
  },
  {
   "cell_type": "markdown",
   "metadata": {},
   "source": [
    "<p align=\"left\">\n",
    "<img src=\"images/Screen Shot 2021-05-04 at 1.40.06 PM.png\" width=1000 height=450 />\n",
    "</p>"
   ]
  },
  {
   "cell_type": "markdown",
   "metadata": {},
   "source": [
    "## Using commandArgs"
   ]
  },
  {
   "cell_type": "markdown",
   "metadata": {},
   "source": [
    "### - You can also provide arguments to your R script using `commandArgs`\n",
    "### - Here's an example in a script called `scriptB.R`.\n",
    "### - After loading packages and data, we are assigning the command line arguments to an object called `args` (If `trailingOnly = TRUE`, only arguments after --args are returned, so the first element of `args` is the first argument, instead of the name of the command itself.)\n",
    "### - Then we are writing the `mpg` object to a table and parsing the first element nested in the arguments (`args`) as the name of the file.\n",
    "### - We can run the file like this, specifying the `--vanilla` flag to Rscript and also using 'output.txt' as the argument to `scriptB.R`"
   ]
  },
  {
   "cell_type": "markdown",
   "metadata": {},
   "source": [
    "<p align=\"left\">\n",
    "<img src=\"images/Screen Shot 2021-05-04 at 4.22.09 PM.png\" width=700 height=450 />\n",
    "</p>"
   ]
  },
  {
   "cell_type": "markdown",
   "metadata": {},
   "source": [
    "## Using R with SLURM"
   ]
  },
  {
   "cell_type": "markdown",
   "metadata": {},
   "source": [
    "### - You could also run an R script as a job on Oscar - here's what the shell script might look like:"
   ]
  },
  {
   "cell_type": "markdown",
   "metadata": {},
   "source": [
    "<p align=\"left\">\n",
    "<img src=\"images/Screen Shot 2021-05-04 at 5.52.54 PM.png\" width=1000 height=450 />\n",
    "</p>"
   ]
  },
  {
   "cell_type": "markdown",
   "metadata": {},
   "source": [
    "### - Then use sbatch to submit the job and myq to make sure its running or pending"
   ]
  },
  {
   "cell_type": "markdown",
   "metadata": {},
   "source": [
    "<p align=\"left\">\n",
    "<img src=\"images/Screen Shot 2021-05-04 at 5.54.25 PM.png\" width=1000 height=450 />\n",
    "</p>"
   ]
  },
  {
   "cell_type": "markdown",
   "metadata": {},
   "source": [
    "### - Oscar will automatically generate an output file for you based on the job ID, so we can look at that:"
   ]
  },
  {
   "cell_type": "markdown",
   "metadata": {},
   "source": [
    "<p align=\"left\">\n",
    "<img src=\"images/Screen Shot 2021-05-04 at 5.55.13 PM.png\" width=1000 height=450 />\n",
    "</p>"
   ]
  },
  {
   "cell_type": "markdown",
   "metadata": {},
   "source": [
    "### - Then we can confirm that the output looks ok"
   ]
  },
  {
   "cell_type": "markdown",
   "metadata": {},
   "source": [
    "<p align=\"left\">\n",
    "<img src=\"images/Screen Shot 2021-05-04 at 5.55.33 PM.png\" width=1000 height=450 />\n",
    "</p>"
   ]
  },
  {
   "cell_type": "markdown",
   "metadata": {},
   "source": [
    "## Using `Rstudio and VNC`\n"
   ]
  },
  {
   "cell_type": "markdown",
   "metadata": {},
   "source": [
    "### - You can also use RStudio if you connect to Oscar through the VNC. Information on how to set up the VNC is available on the CCV docs:\n",
    "\n",
    "### https://docs.ccv.brown.edu/oscar/connecting-to-oscar/vnc"
   ]
  },
  {
   "cell_type": "markdown",
   "metadata": {},
   "source": [
    "### After you have installed the VNC client, open up the program and enter your login details and click 'connect'. \n",
    "\n",
    "<img src=\"images/vnc.png\" width=600 height=200 />"
   ]
  },
  {
   "cell_type": "markdown",
   "metadata": {},
   "source": [
    "### - Pick what resources you want for your session. \n",
    "\n",
    "<img src=\"images/vnc_session.png\" width=600 height=200 />"
   ]
  },
  {
   "cell_type": "markdown",
   "metadata": {},
   "source": [
    "### - After you connect, you'll enter this desktop interface. Open up terminal inside VNC. \n",
    "<img src=\"images/vnc_desktop.png\" width=600 height=200 />"
   ]
  },
  {
   "cell_type": "markdown",
   "metadata": {},
   "source": [
    "### - Module load Rstudio, R, and any other modules you are prompted to load. Then type `rstudio` and hit enter. You are now using RStudio on Oscar. \n",
    "<img src=\"images/vnc_terminal.png\" width=600 height=200 />"
   ]
  }
 ],
 "metadata": {
  "kernelspec": {
   "display_name": "R",
   "language": "R",
   "name": "ir"
  },
  "language_info": {
   "codemirror_mode": "r",
   "file_extension": ".r",
   "mimetype": "text/x-r-source",
   "name": "R",
   "pygments_lexer": "r",
   "version": "4.0.3"
  }
 },
 "nbformat": 4,
 "nbformat_minor": 4
}
