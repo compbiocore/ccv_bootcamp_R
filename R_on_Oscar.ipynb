{
 "cells": [
  {
   "cell_type": "markdown",
   "metadata": {},
   "source": [
    "# Using R on Oscar\n",
    "In addition to installing R and Rstudio on your own computer, you can also use R on Oscar. We'll talk about installing packages on Oscar and using R console or RStudio on Oscar.\n",
    "\n",
    "### Installing packages \n",
    "\n",
    "<p style=\"font-weight:bold;\" >First, connect to Oscar:</p>\n",
    "\n",
    "```ssh username@ssh.ccv.brown.edu```"
   ]
  },
  {
   "cell_type": "markdown",
   "metadata": {},
   "source": [
    "<p style=\"font-weight:bold;\" >You can see which versions of R are installed on Oscar using `module avail R/`</p>\n",
    "\n",
    "<p align=\"center\">\n",
    "<img src=\"images/module_avail.png\" width=600 height=200 />\n",
    "</p>"
   ]
  },
  {
   "cell_type": "markdown",
   "metadata": {},
   "source": [
    "<p style=\"font-weight:bold;\" > Load the version of R you want using `module load`. You might be prompted to load some additional modules (pcre2/10.35 in this example), so load those as well. </p>\n",
    "\n",
    "<p align=\"center\">\n",
    "<img src=\"images/module_load.png\" width=450 height=150 />\n",
    "</p>"
   ]
  },
  {
   "cell_type": "markdown",
   "metadata": {},
   "source": [
    "<p style=\"font-weight:bold;\" > Start up R by typing `R` and hitting enter. </p>\n",
    "\n",
    "\n",
    "<img src=\"images/start_r.png\" width=600 height=200 />\n"
   ]
  },
  {
   "cell_type": "markdown",
   "metadata": {},
   "source": [
    "<p style=\"font-weight:bold;\" > Install a package using using `install.packages` and include the repos=\"http://cran.r-project.org\" argument. If you get a message asking if you would like to create or use a personal library, enter 'y'.  </p>\n",
    "\n",
    "<img src=\"images/install_packages.png\" width=600 height=200 />\n"
   ]
  },
  {
   "cell_type": "markdown",
   "metadata": {},
   "source": [
    "### Using `Rscript`\n",
    "\n",
    "- You can continue to use R interactively through the R console, typing `q()` to quit when you are done and entering `n` to quit without saving workspace image.\n",
    "<img src=\"images/r_interact.png\" width=600 height=200 />\n",
    "\n"
   ]
  },
  {
   "cell_type": "markdown",
   "metadata": {},
   "source": [
    "\n",
    "- You can also run R scripts through the command line, which makes it easier to automate your scripts or call your R scripts inside other scripts.\n",
    "- You can achieve this using `Rscript`. Say you have a script called `myscript.R`, you can run is using the command `Rscript myscript.R`.              \n",
    "- The full usage is:  `Rscript [--options] [-e expr] file [args]`.              \n",
    "- One particularly useful option to include when running `Rscript` is the `--vanilla` flag -- this will avoid using hidden R profile objects. "
   ]
  },
  {
   "cell_type": "markdown",
   "metadata": {},
   "source": [
    "<p style=\"font-weight:bold;\" > Let's create a very simple R script and try it. Type `vi myscript.R`, you'll see this:  </p>\n",
    "\n",
    "<img src=\"images/empty_vi.png\" width=600 height=200 />"
   ]
  },
  {
   "cell_type": "markdown",
   "metadata": {},
   "source": [
    "<p style=\"font-weight:bold;\" > Then hit the `i` key to get into insert mode, you'll see `-- INSERT --` at the bottom of the screen:  </p>\n",
    "<img src=\"images/insert_mode.png\" width=600 height=200 />\n"
   ]
  },
  {
   "cell_type": "markdown",
   "metadata": {},
   "source": [
    "<p style=\"font-weight:bold;\" > Now you can type in the document. Let's add some content to this R script: </p>\n",
    "<img src=\"images/r_script.png\" width=600 height=200 />"
   ]
  },
  {
   "cell_type": "markdown",
   "metadata": {},
   "source": [
    "<p style=\"font-weight:bold;\" > Then his the `esc` key: </p>\n",
    "<img src=\"images/vi_esc.png\" width=600 height=200 />"
   ]
  },
  {
   "cell_type": "markdown",
   "metadata": {},
   "source": [
    "<p style=\"font-weight:bold;\" > Then shift + ; -- you'll see the \":\" appear at the bottom of the screen </p>\n",
    " <img src=\"images/vi_shift.png\" width=600 height=200 />"
   ]
  },
  {
   "cell_type": "markdown",
   "metadata": {},
   "source": [
    "<p style=\"font-weight:bold;\" > Then type `wq` and hit enter to save your document (type q! to quit without saving). </p>\n",
    " <img src=\"images/vi_wq.png\" width=600 height=200 />"
   ]
  },
  {
   "cell_type": "markdown",
   "metadata": {},
   "source": [
    "<p style=\"font-weight:bold;\" > Try running the script: </p>\n",
    "<img src=\"images/myscript.png\" width=600 height=200 />"
   ]
  },
  {
   "cell_type": "markdown",
   "metadata": {},
   "source": [
    "<p style=\"font-weight:bold;\" > What if you want to run myscript.R, but you want to provide x as an argument to Rscript instead of hard-coding it in the script? Let's use the function `commandArgs`. First, let's just tell R to print back the commands we provide </p>\n",
    "<img src=\"images/command_args.png\" width=600 height=200 />\n",
    "<p style=\"font-weight:bold;\" >  </p>"
   ]
  },
  {
   "cell_type": "markdown",
   "metadata": {},
   "source": [
    "<p style=\"font-weight:bold;\" > Now try running it and see that it prints back the arguments as a single string [1]. </p>\n",
    "<img src=\"images/command_args_rscript.png\" width=600 height=200 />\n",
    "<p style=\"font-weight:bold;\" >  </p>"
   ]
  },
  {
   "cell_type": "markdown",
   "metadata": {},
   "source": [
    "<p style=\"font-weight:bold;\" > The line where we assign x is just saying take the first argument (the only argument we are using) and split it based on the presence of `,`.  </p>\n",
    "<img src=\"images/strsplit.png\" width=600 height=200 />\n",
    "<p style=\"font-weight:bold;\" >  </p>"
   ]
  },
  {
   "cell_type": "markdown",
   "metadata": {},
   "source": [
    "<p style=\"font-weight:bold;\" > Then we can try running it and see that we get back a nested list \"10\", \"20\", \"30\".  </p>\n",
    "<img src=\"images/strsplit_run.png\" width=600 height=200 />\n",
    "<p style=\"font-weight:bold;\" >  </p>"
   ]
  },
  {
   "cell_type": "markdown",
   "metadata": {},
   "source": [
    "<p style=\"font-weight:bold;\" > Almost there. Let's specify we want to take the first entry in the nested list and turn it into a numeric vector, then calculate the mean of the vector. </p>\n",
    "<img src=\"images/asnumeric.png\" width=600 height=200 />\n",
    "<p style=\"font-weight:bold;\" >  </p>"
   ]
  },
  {
   "cell_type": "markdown",
   "metadata": {},
   "source": [
    "<p style=\"font-weight:bold;\" > Then run it one last time</p>\n",
    "<img src=\"images/asnumeric_run.png\" width=600 height=200 />\n",
    "<p style=\"font-weight:bold;\" >  </p>"
   ]
  },
  {
   "cell_type": "markdown",
   "metadata": {},
   "source": [
    "### Using `Rstudio and VNC`\n"
   ]
  },
  {
   "cell_type": "markdown",
   "metadata": {},
   "source": [
    "\n",
    "<p style=\"font-weight:bold;\" >You can also use RStudio if you connect to Oscar through the VNC. Information on how to set up the VNC is available on the CCV docs:</p>\n",
    "\n",
    "https://docs.ccv.brown.edu/oscar/connecting-to-oscar/vnc"
   ]
  },
  {
   "cell_type": "markdown",
   "metadata": {},
   "source": [
    "<p style=\"font-weight:bold;\" > After you have installed the VNC client, open up the program and enter your login details and click 'connect'. </p>\n",
    "<img src=\"images/vnc.png\" width=600 height=200 />"
   ]
  },
  {
   "cell_type": "markdown",
   "metadata": {},
   "source": [
    "<p style=\"font-weight:bold;\" > Pick what resources you want for your session. </p>\n",
    "<img src=\"images/vnc_session.png\" width=600 height=200 />"
   ]
  },
  {
   "cell_type": "markdown",
   "metadata": {},
   "source": [
    "<p style=\"font-weight:bold;\" > After you connect, you'll enter this desktop interface. Open up terminal inside VNC.  </p>\n",
    "<img src=\"images/vnc_desktop.png\" width=600 height=200 />"
   ]
  },
  {
   "cell_type": "markdown",
   "metadata": {},
   "source": [
    "<p style=\"font-weight:bold;\" > Module load Rstudio, R, and any other modules you are prompted to load. Then type rstudio and hit enter. You are now using RStudio on Oscar. </p>\n",
    "<img src=\"images/vnc_terminal.png\" width=600 height=200 />"
   ]
  }
 ],
 "metadata": {
  "kernelspec": {
   "display_name": "R",
   "language": "R",
   "name": "ir"
  },
  "language_info": {
   "codemirror_mode": "r",
   "file_extension": ".r",
   "mimetype": "text/x-r-source",
   "name": "R",
   "pygments_lexer": "r",
   "version": "4.0.3"
  }
 },
 "nbformat": 4,
 "nbformat_minor": 4
}
