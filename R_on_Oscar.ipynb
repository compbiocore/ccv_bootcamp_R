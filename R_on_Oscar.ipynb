{
 "cells": [
  {
   "cell_type": "markdown",
   "metadata": {},
   "source": [
    "# Using R on Oscar\n",
    "In addition to installing R and Rstudio on your own computer, you can also use R on Oscar. We'll talk about installing packages on Oscar and using R console or RStudio on Oscar.\n",
    "\n",
    "### Installing packages \n",
    "\n",
    "<p style=\"font-weight:bold;\" >First, connect to Oscar:</p>\n",
    "\n",
    "```ssh username@ssh.ccv.brown.edu```"
   ]
  },
  {
   "cell_type": "markdown",
   "metadata": {},
   "source": [
    "- You can use 'module avail' to see the R options"
   ]
  },
  {
   "cell_type": "markdown",
   "metadata": {},
   "source": [
    "<p align=\"left\">\n",
    "<img src=\"images/Screen Shot 2021-05-04 at 1.20.47 PM.png\" width=600 height=150 />\n",
    "</p>"
   ]
  },
  {
   "cell_type": "markdown",
   "metadata": {},
   "source": [
    "- Then 'module load' to load R"
   ]
  },
  {
   "cell_type": "markdown",
   "metadata": {},
   "source": [
    "<p align=\"left\">\n",
    "<img src=\"images/Screen Shot 2021-05-04 at 1.22.09 PM.png\" width=800 height=450 />\n",
    "</p>"
   ]
  },
  {
   "cell_type": "markdown",
   "metadata": {},
   "source": [
    "- Then type 'R' and hit enter to start R"
   ]
  },
  {
   "cell_type": "markdown",
   "metadata": {},
   "source": [
    "<p align=\"center\">\n",
    "<img src=\"images/Screen Shot 2021-05-04 at 1.23.13 PM.png\" width=700 height=450 />\n",
    "</p>"
   ]
  },
  {
   "cell_type": "markdown",
   "metadata": {},
   "source": [
    "- Install a package using using `install.packages` and include the repos=\"http://cran.r-project.org\" argument. If you get a message asking if you would like to create or use a personal library, enter 'y'.  "
   ]
  },
  {
   "cell_type": "markdown",
   "metadata": {},
   "source": [
    "<p align=\"left\">\n",
    "<img src=\"images/Screen Shot 2021-05-04 at 1.30.27 PM.png\" width=800 height=450 />\n",
    "</p>"
   ]
  },
  {
   "cell_type": "code",
   "execution_count": null,
   "metadata": {},
   "outputs": [],
   "source": [
    "- You can use R interactively, like this bit of code that calculates the mean of vector x:"
   ]
  },
  {
   "cell_type": "markdown",
   "metadata": {},
   "source": [
    "<p align=\"left\">\n",
    "<img src=\"images/Screen Shot 2021-05-04 at 1.32.32 PM.png\" width=800 height=450 />\n",
    "</p>"
   ]
  },
  {
   "cell_type": "markdown",
   "metadata": {},
   "source": [
    "- I made a simple R script, which we can see here. I made it in vim, you can use vim or nano.\n",
    "- This script will calculate the mean of a vector here.\n",
    "- We can run it with Rscript and the output will go to the standardout, you can redirect using pipe or you can edit the file itself to write an output.\n",
    "- We can also run it interactively with source\n",
    "- We can also use commandArgs to provide command line arguments\n",
    "- You can also run your jobs using SLURM.\n"
   ]
  },
  {
   "cell_type": "markdown",
   "metadata": {},
   "source": [
    "- You can also run R scripts through the command line, which makes it easier to automate your scripts or call your R scripts inside other scripts\n",
    "- You can achieve this using Rscript. Say you have a script called myscript.R, you can run is using the command Rscript myscript.R.\n",
    "- The full usage is: Rscript [--options] [-e expr] file [args].\n",
    "- One particularly useful option to include when running Rscript is the --vanilla flag -- this will avoid using hidden R profile objects.\n",
    "- I made a simple example R script called scriptA.R (you can do this too -- I used vim but you could also use nano).\n",
    "- It will also calculate the mean of a vector, here I am using 'cat' to show you the contents and then running it using 'RScript' with the '--vanilla' option:"
   ]
  },
  {
   "cell_type": "markdown",
   "metadata": {},
   "source": [
    "<p align=\"left\">\n",
    "<img src=\"images/Screen Shot 2021-05-04 at 1.38.31 PM.png\" width=700 height=450 />\n",
    "</p>"
   ]
  },
  {
   "cell_type": "markdown",
   "metadata": {},
   "source": [
    "- This will send the output to the standard output. You could also capture the output using a '>' to redirect the output to a text file. Using '>1' will so the same thing, while '>2' will let you write an error log file (which would be useful if you wanted debug things later). You can also combine these two like I am showing in the last example."
   ]
  },
  {
   "cell_type": "markdown",
   "metadata": {},
   "source": [
    "<p align=\"left\">\n",
    "<img src=\"images/Screen Shot 2021-05-04 at 1.40.06 PM.png\" width=1000 height=450 />\n",
    "</p>"
   ]
  },
  {
   "cell_type": "markdown",
   "metadata": {},
   "source": [
    "- You can also provide arguments to your R script using 'commandArgs'\n",
    "- Here's an example in a script called 'scriptB.R' -- we are assigning the command line arguments to an object called args (If trailingOnly = TRUE, only arguments after --args are returned, so the first element of 'args' is the first argument, instead of the name of the command itself.)\n",
    "- Then we are writing the 'mpg' object to a table and parsing the first element nested in the arguments ('args') as the name of the file.\n",
    "- We can run the file like this, specifying the '--vanilla' flag to Rscript and also using 'output.txt' as the argument to 'scriptB.R'"
   ]
  },
  {
   "cell_type": "markdown",
   "metadata": {},
   "source": [
    "<p align=\"left\">\n",
    "<img src=\"images/Screen Shot 2021-05-04 at 4.22.09 PM.png\" width=700 height=450 />\n",
    "</p>"
   ]
  },
  {
   "cell_type": "markdown",
   "metadata": {},
   "source": [
    "You could also run an R script as a job on Oscar"
   ]
  },
  {
   "cell_type": "code",
   "execution_count": null,
   "metadata": {},
   "outputs": [],
   "source": []
  },
  {
   "cell_type": "code",
   "execution_count": null,
   "metadata": {},
   "outputs": [],
   "source": []
  },
  {
   "cell_type": "code",
   "execution_count": null,
   "metadata": {},
   "outputs": [],
   "source": []
  },
  {
   "cell_type": "code",
   "execution_count": null,
   "metadata": {},
   "outputs": [],
   "source": []
  },
  {
   "cell_type": "code",
   "execution_count": null,
   "metadata": {},
   "outputs": [],
   "source": []
  },
  {
   "cell_type": "code",
   "execution_count": null,
   "metadata": {},
   "outputs": [],
   "source": []
  },
  {
   "cell_type": "code",
   "execution_count": null,
   "metadata": {},
   "outputs": [],
   "source": []
  },
  {
   "cell_type": "markdown",
   "metadata": {},
   "source": [
    "<p style=\"font-weight:bold;\" >You can see which versions of R are installed on Oscar using `module avail R/`</p>\n",
    "\n",
    "<p align=\"center\">\n",
    "<img src=\"images/module_avail.png\" width=600 height=200 />\n",
    "</p>"
   ]
  },
  {
   "cell_type": "markdown",
   "metadata": {},
   "source": [
    "<p style=\"font-weight:bold;\" > Load the version of R you want using `module load`. You might be prompted to load some additional modules (pcre2/10.35 in this example), so load those as well. </p>\n",
    "\n",
    "<p align=\"center\">\n",
    "<img src=\"images/module_load.png\" width=450 height=150 />\n",
    "</p>"
   ]
  },
  {
   "cell_type": "markdown",
   "metadata": {},
   "source": [
    "<p style=\"font-weight:bold;\" > Start up R by typing `R` and hitting enter. </p>\n",
    "\n",
    "\n",
    "<img src=\"images/start_r.png\" width=600 height=200 />\n"
   ]
  },
  {
   "cell_type": "markdown",
   "metadata": {},
   "source": [
    "<p style=\"font-weight:bold;\" > Install a package using using `install.packages` and include the repos=\"http://cran.r-project.org\" argument. If you get a message asking if you would like to create or use a personal library, enter 'y'.  </p>\n",
    "\n",
    "<img src=\"images/install_packages.png\" width=600 height=200 />\n"
   ]
  },
  {
   "cell_type": "markdown",
   "metadata": {},
   "source": [
    "### Using `Rscript`\n",
    "\n",
    "- You can continue to use R interactively through the R console, typing `q()` to quit when you are done and entering `n` to quit without saving workspace image.\n",
    "<img src=\"images/r_interact.png\" width=600 height=200 />\n",
    "\n"
   ]
  },
  {
   "cell_type": "markdown",
   "metadata": {},
   "source": [
    "\n",
    "- You can also run R scripts through the command line, which makes it easier to automate your scripts or call your R scripts inside other scripts.\n",
    "- You can achieve this using `Rscript`. Say you have a script called `myscript.R`, you can run is using the command `Rscript myscript.R`.              \n",
    "- The full usage is:  `Rscript [--options] [-e expr] file [args]`.              \n",
    "- One particularly useful option to include when running `Rscript` is the `--vanilla` flag -- this will avoid using hidden R profile objects. "
   ]
  },
  {
   "cell_type": "markdown",
   "metadata": {},
   "source": [
    "<p style=\"font-weight:bold;\" > Let's create a very simple R script and try it. Type `vi myscript.R`, you'll see this:  </p>\n",
    "\n",
    "<img src=\"images/empty_vi.png\" width=600 height=200 />"
   ]
  },
  {
   "cell_type": "markdown",
   "metadata": {},
   "source": [
    "<p style=\"font-weight:bold;\" > Then hit the `i` key to get into insert mode, you'll see `-- INSERT --` at the bottom of the screen:  </p>\n",
    "<img src=\"images/insert_mode.png\" width=600 height=200 />\n"
   ]
  },
  {
   "cell_type": "markdown",
   "metadata": {},
   "source": [
    "<p style=\"font-weight:bold;\" > Now you can type in the document. Let's add some content to this R script: </p>\n",
    "<img src=\"images/r_script.png\" width=600 height=200 />"
   ]
  },
  {
   "cell_type": "markdown",
   "metadata": {},
   "source": [
    "<p style=\"font-weight:bold;\" > Then his the `esc` key: </p>\n",
    "<img src=\"images/vi_esc.png\" width=600 height=200 />"
   ]
  },
  {
   "cell_type": "markdown",
   "metadata": {},
   "source": [
    "<p style=\"font-weight:bold;\" > Then shift + ; -- you'll see the \":\" appear at the bottom of the screen </p>\n",
    " <img src=\"images/vi_shift.png\" width=600 height=200 />"
   ]
  },
  {
   "cell_type": "markdown",
   "metadata": {},
   "source": [
    "<p style=\"font-weight:bold;\" > Then type `wq` and hit enter to save your document (type q! to quit without saving). </p>\n",
    " <img src=\"images/vi_wq.png\" width=600 height=200 />"
   ]
  },
  {
   "cell_type": "markdown",
   "metadata": {},
   "source": [
    "<p style=\"font-weight:bold;\" > Try running the script: </p>\n",
    "<img src=\"images/myscript.png\" width=600 height=200 />"
   ]
  },
  {
   "cell_type": "markdown",
   "metadata": {},
   "source": [
    "<p style=\"font-weight:bold;\" > What if you want to run myscript.R, but you want to provide x as an argument to Rscript instead of hard-coding it in the script? Let's use the function `commandArgs`. First, let's just tell R to print back the commands we provide </p>\n",
    "<img src=\"images/command_args.png\" width=600 height=200 />\n",
    "<p style=\"font-weight:bold;\" >  </p>"
   ]
  },
  {
   "cell_type": "markdown",
   "metadata": {},
   "source": [
    "<p style=\"font-weight:bold;\" > Now try running it and see that it prints back the arguments as a single string [1]. </p>\n",
    "<img src=\"images/command_args_rscript.png\" width=600 height=200 />\n",
    "<p style=\"font-weight:bold;\" >  </p>"
   ]
  },
  {
   "cell_type": "markdown",
   "metadata": {},
   "source": [
    "<p style=\"font-weight:bold;\" > The line where we assign x is just saying take the first argument (the only argument we are using) and split it based on the presence of `,`.  </p>\n",
    "<img src=\"images/strsplit.png\" width=600 height=200 />\n",
    "<p style=\"font-weight:bold;\" >  </p>"
   ]
  },
  {
   "cell_type": "markdown",
   "metadata": {},
   "source": [
    "<p style=\"font-weight:bold;\" > Then we can try running it and see that we get back a nested list \"10\", \"20\", \"30\".  </p>\n",
    "<img src=\"images/strsplit_run.png\" width=600 height=200 />\n",
    "<p style=\"font-weight:bold;\" >  </p>"
   ]
  },
  {
   "cell_type": "markdown",
   "metadata": {},
   "source": [
    "<p style=\"font-weight:bold;\" > Almost there. Let's specify we want to take the first entry in the nested list and turn it into a numeric vector, then calculate the mean of the vector. </p>\n",
    "<img src=\"images/asnumeric.png\" width=600 height=200 />\n",
    "<p style=\"font-weight:bold;\" >  </p>"
   ]
  },
  {
   "cell_type": "markdown",
   "metadata": {},
   "source": [
    "<p style=\"font-weight:bold;\" > Then run it one last time</p>\n",
    "<img src=\"images/asnumeric_run.png\" width=600 height=200 />\n",
    "<p style=\"font-weight:bold;\" >  </p>"
   ]
  },
  {
   "cell_type": "markdown",
   "metadata": {},
   "source": [
    "### Using `Rstudio and VNC`\n"
   ]
  },
  {
   "cell_type": "markdown",
   "metadata": {},
   "source": [
    "\n",
    "<p style=\"font-weight:bold;\" >You can also use RStudio if you connect to Oscar through the VNC. Information on how to set up the VNC is available on the CCV docs:</p>\n",
    "\n",
    "https://docs.ccv.brown.edu/oscar/connecting-to-oscar/vnc"
   ]
  },
  {
   "cell_type": "markdown",
   "metadata": {},
   "source": [
    "<p style=\"font-weight:bold;\" > After you have installed the VNC client, open up the program and enter your login details and click 'connect'. </p>\n",
    "<img src=\"images/vnc.png\" width=600 height=200 />"
   ]
  },
  {
   "cell_type": "markdown",
   "metadata": {},
   "source": [
    "<p style=\"font-weight:bold;\" > Pick what resources you want for your session. </p>\n",
    "<img src=\"images/vnc_session.png\" width=600 height=200 />"
   ]
  },
  {
   "cell_type": "markdown",
   "metadata": {},
   "source": [
    "<p style=\"font-weight:bold;\" > After you connect, you'll enter this desktop interface. Open up terminal inside VNC.  </p>\n",
    "<img src=\"images/vnc_desktop.png\" width=600 height=200 />"
   ]
  },
  {
   "cell_type": "markdown",
   "metadata": {},
   "source": [
    "<p style=\"font-weight:bold;\" > Module load Rstudio, R, and any other modules you are prompted to load. Then type rstudio and hit enter. You are now using RStudio on Oscar. </p>\n",
    "<img src=\"images/vnc_terminal.png\" width=600 height=200 />"
   ]
  },
  {
   "cell_type": "markdown",
   "metadata": {},
   "source": [
    "Add something about using R with slurm (just put the commands in a shell script -- R CMD w -o and -e is there an equivalent thing in rscript?)\n",
    "\n",
    "make the fonts bigger on some of the pictures\n",
    "have the scripts already made and then just use like, cat to show them whats in the scripts and say that i made them in text editor vim, they can use vim or nano, here's a link for how to use them\n",
    "for rscript add some details about how to have logging enabled\n",
    "\n",
    "make sure they know where the outputs are going -stdout/console vs text and how you capture the stdout/console outputs\n"
   ]
  }
 ],
 "metadata": {
  "kernelspec": {
   "display_name": "R",
   "language": "R",
   "name": "ir"
  },
  "language_info": {
   "codemirror_mode": "r",
   "file_extension": ".r",
   "mimetype": "text/x-r-source",
   "name": "R",
   "pygments_lexer": "r",
   "version": "4.0.3"
  }
 },
 "nbformat": 4,
 "nbformat_minor": 4
}
