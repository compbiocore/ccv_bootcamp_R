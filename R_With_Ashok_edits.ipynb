{
 "cells": [
  {
   "cell_type": "markdown",
   "metadata": {
    "raw_mimetype": "text/markdown",
    "slideshow": {
     "slide_type": "slide"
    }
   },
   "source": [
    "# Welcome to the Introduction to R Workshop \n",
    "\n",
    "This workshop is intended to serve as an introduction to the R programming language for those with little to no experience in its use. \n",
    "\n",
    "## In this workshop you will learn:\n",
    "- Basics of R (objects, variables, data classes, vectors)\n",
    "- How to write R functions \n",
    "- How to import and export your own files \n",
    "- How to install and load R and Bioconductor packages\n",
    "\n",
    "### This workshop uses JupyterHub, which provides an environment to run Jupyter notebooks for Python, Julia, R, and other languages without the need to install any software or packages. Two helpful shortcuts:\n",
    "- Shift + Enter to run a cell and move to the next cell\n",
    "- Press 'b' to create a cell below (won't work if you cursor is showing up inside the cell itself).\n",
    "- See other shortcuts here https://towardsdatascience.com/jypyter-notebook-shortcuts-bf0101a98330.\n",
    "\n",
    "### If you want to continue using R outside of a Jupyter notebook, you'll need to install R - https://www.r-project.org/ and optionally Rstudio - https://rstudio.com/.\n",
    "\n",
    "# What is R?\n",
    "- R is a language and environment for statistical computing and graphics (https://www.r-project.org/about.html). \n",
    "- It is free and can be tailored to your needs by installing and using specific packages (https://cran.r-project.org/web/packages/available_packages_by_name.html).\n",
    "- You can use R interactively (e.g., enter commands into the R console or R Studio https://rstudio.com/) or into new cells in your Jupyter notebook.\n",
    "- You can write and run R scripts or generate reports and documents using R notebooks (https://blog.rstudio.com/2016/10/05/r-notebooks/) and markdown files (https://rmarkdown.rstudio.com/)."
   ]
  },
  {
   "cell_type": "markdown",
   "metadata": {},
   "source": [
    "# Basics - Interacting with R\n",
    "- You can use R interactively and have it do some simple math:"
   ]
  },
  {
   "cell_type": "code",
   "execution_count": null,
   "metadata": {},
   "outputs": [],
   "source": [
    "2 - 1"
   ]
  },
  {
   "cell_type": "markdown",
   "metadata": {
    "raw_mimetype": "text/markdown",
    "slideshow": {
     "slide_type": "slide"
    }
   },
   "source": [
    "- It is generally more useful to assign your values to **variables**, which are R objects.\n",
    "- You can assign values to R variables using the assignment operator **'<-'**, which assigns the value on the right to the variable on the left.\n",
    "- There are other operators as well (like the `=` sign) but I would suggest you stick with the `<-` operator for now.\n",
    "- Everything in R (including variables) is an object (https://cran.r-project.org/doc/manuals/r-release/R-lang.html#Objects)\n",
    "\n",
    "<div class=\"alert alert-block alert-info\">\n",
    "<b>Tip:</b> We will use the words `object` and `variable` interchangably in this workshop.\n",
    "</div>\n",
    "\n",
    "Let's assign a variable called `a`:"
   ]
  },
  {
   "cell_type": "code",
   "execution_count": null,
   "metadata": {},
   "outputs": [],
   "source": [
    "a <- 1"
   ]
  },
  {
   "cell_type": "markdown",
   "metadata": {},
   "source": [
    "R won't print anything when you assign a value to a variable. We can look at the output of our assignment by typing `a`."
   ]
  },
  {
   "cell_type": "code",
   "execution_count": null,
   "metadata": {},
   "outputs": [],
   "source": [
    "a"
   ]
  },
  {
   "cell_type": "markdown",
   "metadata": {},
   "source": [
    "- R also comes with a `print()` function that we can use to look at our variables.\n",
    "- We will talk more about functions later in this workshop, but a **function** is a series of statements that work together to perform a specific task.\n",
    "- All functions need pieces of information (or **arguments**) to perform their particular function, these arguments can be required or optional. \n",
    "- `print()` takes a single required argument -- the thing you want to print.\n",
    "\n",
    "<div class=\"alert alert-block alert-info\">\n",
    "<b>Tip:</b> You can use `?function` in R to learn more about a particular function (for example: `?print`).\n",
    "</div>\n",
    "\n",
    "- Let's print variable `a`:"
   ]
  },
  {
   "cell_type": "code",
   "execution_count": null,
   "metadata": {},
   "outputs": [],
   "source": [
    "print(a)"
   ]
  },
  {
   "cell_type": "markdown",
   "metadata": {},
   "source": [
    "We can name our variables any combination of letters, numbers, or underscores (`_`) with a few exceptions: (Add a warning box for variable name rules) \n",
    "- R has a few reserved words that can't be used as variable names in R:\n",
    "    - `if`, `else`, `repeat`, `while`, `function`, `for`, `in`\n",
    "    - see the whole list of reserved words here: https://stat.ethz.ch/R-manual/R-devel/library/base/html/Reserved.html). \n",
    "- Variables can't start with a number or an underscore\n",
    "- You can technically use `.` in your variable names, but this is best avoided for now.\n",
    "\n",
    "For example:"
   ]
  },
  {
   "cell_type": "code",
   "execution_count": null,
   "metadata": {},
   "outputs": [],
   "source": [
    "bar <- 11\n",
    "cat_1 <- 'cat' \n",
    "dog_ <- TRUE\n",
    "egg <- (1L)\n",
    "foo <- 2i"
   ]
  },
  {
   "cell_type": "markdown",
   "metadata": {},
   "source": [
    "Now that we have assigned some values to variables, we can start using them:"
   ]
  },
  {
   "cell_type": "code",
   "execution_count": null,
   "metadata": {},
   "outputs": [],
   "source": [
    "print(bar)"
   ]
  },
  {
   "cell_type": "code",
   "execution_count": null,
   "metadata": {},
   "outputs": [],
   "source": [
    "print(bar * 2)"
   ]
  },
  {
   "cell_type": "code",
   "execution_count": null,
   "metadata": {},
   "outputs": [],
   "source": [
    "print(a)"
   ]
  },
  {
   "cell_type": "code",
   "execution_count": null,
   "metadata": {},
   "outputs": [],
   "source": [
    "print(a + bar)"
   ]
  },
  {
   "cell_type": "markdown",
   "metadata": {},
   "source": [
    "# Data classes\n",
    "\n",
    "- The variables you assign have some sort of data class associated with them.\n",
    "- Data classes impact how functions will interact with your variables.\n",
    "- R has 5 basic data classes, including:\n",
    "\n",
    "1. `character`, which is a character \n",
    "2. `numeric`, which can be `real` (a rounded number) or `decimal` (a number including a decimal point).\n",
    "3. `integer`, which can be a rounded number (but not a decimal) \n",
    "4. `logical`, which can be either `TRUE` or `FALSE`\n",
    "5. `complex`, allows you to use imaginary numbers \n",
    "\n",
    "- You can also have missing data, which we will also talk about later in this workshop.\n",
    "- The difference between an integer and real numeric is subtle and probably isn't worth worrying about at this point.\n",
    "\n",
    "Let's look at the data classes of our variables we have just assigned:"
   ]
  },
  {
   "cell_type": "code",
   "execution_count": null,
   "metadata": {},
   "outputs": [],
   "source": [
    "class(a)\n",
    "class(bar)\n",
    "class(cat_1)\n",
    "class(dog_)\n",
    "class(egg)\n",
    "class(foo)"
   ]
  },
  {
   "cell_type": "markdown",
   "metadata": {},
   "source": [
    "- The `L` we included when we assigned `egg` tells R that this object is an integer.\n",
    "- The `i` we included when we assigned `foo` indicates an imaginary number, making `foo` complex data class object."
   ]
  },
  {
   "cell_type": "code",
   "execution_count": 1,
   "metadata": {},
   "outputs": [],
   "source": [
    "#?class"
   ]
  },
  {
   "cell_type": "markdown",
   "metadata": {},
   "source": [
    "- The `#` before `?class` in the above cell means that this piece of code is actually a comment and won't be run.\n",
    "- You can remove the `#` to run the cell and learn more about `class()`.\n",
    "- The `#` comment characters are helpful -- you can use them to explain your code to future you (or other users of your code)."
   ]
  },
  {
   "cell_type": "markdown",
   "metadata": {},
   "source": [
    "# R data structures\n",
    "- R objects can also contain more than one element.\n",
    "- Objects that contain more than one element are organized into different data structures.\n",
    "- Data structures in R include vectors (also referred to as 'atomic vectors' in R), lists, matrices, arrays, and data frames.\n",
    "\n",
    "### Vectors\n",
    "- Probably the simplest R object that contains more than one element is a **vector**. \n",
    "- You can create a vector using the concatenate function, `c()`, or directly assigning them. \n",
    "- The `c()` function will coerce all of the arguments to a common data type and combine them to form a vector. \n",
    "- Here's a few examples of how you can assign vectors:"
   ]
  },
  {
   "cell_type": "code",
   "execution_count": null,
   "metadata": {},
   "outputs": [],
   "source": [
    "numeric_vector <- c(1,2,3,4,5) \n",
    "character_vector <- c('one', 'two', 'three', 'four', 'five') \n",
    "integer_vector <- (6:12) \n",
    "logical_vector <- c(TRUE, TRUE, FALSE)\n",
    "character_vector_2 <- c('a', 'pug', 'is', 'not', 'a', 'big', 'dog')"
   ]
  },
  {
   "cell_type": "markdown",
   "metadata": {},
   "source": [
    "Note that I used `:` when assigning `integer_vector`, which just generates a list from 6 through 12."
   ]
  },
  {
   "cell_type": "code",
   "execution_count": null,
   "metadata": {},
   "outputs": [],
   "source": [
    "print(numeric_vector)\n",
    "print(character_vector)\n",
    "print(integer_vector)\n",
    "print(logical_vector) \n",
    "print(character_vector_2)"
   ]
  },
  {
   "cell_type": "markdown",
   "metadata": {},
   "source": [
    "Vectors also have class:"
   ]
  },
  {
   "cell_type": "code",
   "execution_count": null,
   "metadata": {},
   "outputs": [],
   "source": [
    "print(class(numeric_vector))\n",
    "print(class(character_vector))\n",
    "print(class(integer_vector))\n",
    "print(class(logical_vector)) \n",
    "print(class(character_vector_2))"
   ]
  },
  {
   "cell_type": "markdown",
   "metadata": {},
   "source": [
    "You can combine vectors using `c()`"
   ]
  },
  {
   "cell_type": "code",
   "execution_count": null,
   "metadata": {},
   "outputs": [],
   "source": [
    "combined_vector <- c(numeric_vector, integer_vector)"
   ]
  },
  {
   "cell_type": "code",
   "execution_count": null,
   "metadata": {},
   "outputs": [],
   "source": [
    "print(combined_vector)"
   ]
  },
  {
   "cell_type": "markdown",
   "metadata": {},
   "source": [
    "You can use the `length()` function to see how long your vectors are:"
   ]
  },
  {
   "cell_type": "code",
   "execution_count": null,
   "metadata": {},
   "outputs": [],
   "source": [
    "print(length(combined_vector))"
   ]
  },
  {
   "cell_type": "markdown",
   "metadata": {},
   "source": [
    "You can also access elements of the vector based on the index (or its position in the vector):"
   ]
  },
  {
   "cell_type": "code",
   "execution_count": null,
   "metadata": {},
   "outputs": [],
   "source": [
    "print(combined_vector[2])"
   ]
  },
  {
   "cell_type": "markdown",
   "metadata": {},
   "source": [
    "You can combine these operations, but note that R code evaluates from the inside out:"
   ]
  },
  {
   "cell_type": "code",
   "execution_count": null,
   "metadata": {},
   "outputs": [],
   "source": [
    "print(combined_vector[length(combined_vector)])"
   ]
  },
  {
   "cell_type": "markdown",
   "metadata": {},
   "source": [
    "Here, R is reading `length(combined_vector)` first. The value returned by the `length()` function is then used to access the last entry in the `combined_vector` vector."
   ]
  },
  {
   "cell_type": "markdown",
   "metadata": {},
   "source": [
    "You can also name vector elements and then access them by their names:"
   ]
  },
  {
   "cell_type": "code",
   "execution_count": null,
   "metadata": {},
   "outputs": [],
   "source": [
    "names(numeric_vector) <- c('one', 'two', 'three', 'four', 'five')\n",
    "print(numeric_vector)"
   ]
  },
  {
   "cell_type": "code",
   "execution_count": null,
   "metadata": {},
   "outputs": [],
   "source": [
    "print(numeric_vector['three'])"
   ]
  },
  {
   "cell_type": "markdown",
   "metadata": {},
   "source": [
    "We can use `-c` to remove vector elements:"
   ]
  },
  {
   "cell_type": "code",
   "execution_count": null,
   "metadata": {},
   "outputs": [],
   "source": [
    "print(combined_vector[-c(4)])"
   ]
  },
  {
   "cell_type": "markdown",
   "metadata": {},
   "source": [
    "If a vector is numerical, we can also perform some math operations on the entire vector. Here, we can calculate the sum of a vector:"
   ]
  },
  {
   "cell_type": "code",
   "execution_count": null,
   "metadata": {},
   "outputs": [],
   "source": [
    "print(combined_vector)\n",
    "print(sum(combined_vector))"
   ]
  },
  {
   "cell_type": "code",
   "execution_count": null,
   "metadata": {},
   "outputs": [],
   "source": [
    "print(combined_vector/sum(combined_vector))"
   ]
  },
  {
   "cell_type": "markdown",
   "metadata": {},
   "source": [
    "Use the `round()` function to specify you only want 3 digits reported and assign it to a variable called `rounded`"
   ]
  },
  {
   "cell_type": "code",
   "execution_count": null,
   "metadata": {},
   "outputs": [],
   "source": [
    "rounded <- round((combined_vector/sum(combined_vector)), digits = 3)\n",
    "print(rounded)"
   ]
  },
  {
   "cell_type": "markdown",
   "metadata": {},
   "source": [
    "You can also perform math operations on two vectors..."
   ]
  },
  {
   "cell_type": "code",
   "execution_count": null,
   "metadata": {},
   "outputs": [],
   "source": [
    "print(rounded + combined_vector)"
   ]
  },
  {
   "cell_type": "markdown",
   "metadata": {},
   "source": [
    "but you'll get weird results if the vectors are different lengths:"
   ]
  },
  {
   "cell_type": "code",
   "execution_count": null,
   "metadata": {},
   "outputs": [],
   "source": [
    "print(combined_vector)\n",
    "print(numeric_vector)"
   ]
  },
  {
   "cell_type": "code",
   "execution_count": null,
   "metadata": {},
   "outputs": [],
   "source": [
    "print(combined_vector + numeric_vector)"
   ]
  },
  {
   "cell_type": "markdown",
   "metadata": {},
   "source": [
    "It looks like R will give you an error message and then go back to the start of the shorter vector."
   ]
  },
  {
   "cell_type": "markdown",
   "metadata": {},
   "source": [
    "**Coercing between classes**"
   ]
  },
  {
   "cell_type": "markdown",
   "metadata": {},
   "source": [
    "Let's say you're trying to import some data into R, maybe a vector of measurements:"
   ]
  },
  {
   "cell_type": "code",
   "execution_count": null,
   "metadata": {},
   "outputs": [],
   "source": [
    "your_data <- c('6','5','3','2','11','0','9','9')\n",
    "class(your_data)"
   ]
  },
  {
   "cell_type": "markdown",
   "metadata": {},
   "source": [
    "You vector is a character vector because the elements of the vector are in quotes. You can coerce them back into numeric values using `as.numeric()`:"
   ]
  },
  {
   "cell_type": "code",
   "execution_count": null,
   "metadata": {},
   "outputs": [],
   "source": [
    "your_new_data <- as.numeric(your_data)\n",
    "print(your_new_data)\n",
    "class(your_new_data)"
   ]
  },
  {
   "cell_type": "markdown",
   "metadata": {},
   "source": [
    "What happens if we try to `as.numeric` things that aren't numbers?"
   ]
  },
  {
   "cell_type": "code",
   "execution_count": null,
   "metadata": {},
   "outputs": [],
   "source": [
    "as.numeric(character_vector_2)"
   ]
  },
  {
   "cell_type": "markdown",
   "metadata": {},
   "source": [
    "<div class=\"alert alert-block alert-warning\">\n",
    "<b>Example:</b> <b>&ltNA&gt</b> indicates that these are missing values, so be careful when converting between classes.\n",
    "</div>"
   ]
  },
  {
   "cell_type": "markdown",
   "metadata": {},
   "source": [
    "# Missing values\n",
    "Missing values can result from things like inappropriate coersion, Excel turning everything into a date, encoding format problems, etc."
   ]
  },
  {
   "cell_type": "code",
   "execution_count": null,
   "metadata": {},
   "outputs": [],
   "source": [
    "here_is_a_vector <- as.numeric(c(4/61, 35/52, '19-May', 3/40))"
   ]
  },
  {
   "cell_type": "markdown",
   "metadata": {},
   "source": [
    "We can use the `is.na()` function to see if our vector has any `<NA>` values in it:"
   ]
  },
  {
   "cell_type": "code",
   "execution_count": null,
   "metadata": {},
   "outputs": [],
   "source": [
    "is.na(here_is_a_vector)"
   ]
  },
  {
   "cell_type": "markdown",
   "metadata": {},
   "source": [
    "You can combine this with the `table()` function to see some tabulated results from `is.na()`:"
   ]
  },
  {
   "cell_type": "code",
   "execution_count": null,
   "metadata": {},
   "outputs": [],
   "source": [
    "table(is.na(here_is_a_vector))"
   ]
  },
  {
   "cell_type": "markdown",
   "metadata": {},
   "source": [
    "You might also encounter an `NaN`, which means 'not a number' and is the result of invalid math operations:"
   ]
  },
  {
   "cell_type": "code",
   "execution_count": null,
   "metadata": {},
   "outputs": [],
   "source": [
    "0/0"
   ]
  },
  {
   "cell_type": "markdown",
   "metadata": {},
   "source": [
    "`NULL` is another one you might encounter, and it is the result of trying to query a parameter that is undefined for a specific object. For example, you can use the `names()` function to retrieve names assigned to an object. What happens when you try to use this function on an object you haven't named?"
   ]
  },
  {
   "cell_type": "code",
   "execution_count": null,
   "metadata": {},
   "outputs": [],
   "source": [
    "names(here_is_a_vector)"
   ]
  },
  {
   "cell_type": "markdown",
   "metadata": {},
   "source": [
    "You might also see `Inf` or `-Inf` which are positive or negative infinity, which result from dividing by zero or operations that do not converge:"
   ]
  },
  {
   "cell_type": "code",
   "execution_count": null,
   "metadata": {},
   "outputs": [],
   "source": [
    "1/0"
   ]
  },
  {
   "cell_type": "markdown",
   "metadata": {},
   "source": [
    "# Matrices\n",
    "- A matrix in R is a collection of elements organized into rows and columns.\n",
    "- All columns must be the same data type and be the same length.\n",
    "- Generate a matrix using the following general format:\n",
    "\n",
    "```\n",
    "my_matrix <- matrix(\n",
    "    vector, \n",
    "    nrow = r, \n",
    "    ncol = c, \n",
    "    byrow = FALSE)\n",
    "```\n",
    "\n",
    "For example:"
   ]
  },
  {
   "cell_type": "code",
   "execution_count": null,
   "metadata": {},
   "outputs": [],
   "source": [
    "my_matrix <- matrix(\n",
    "    c(1:12), \n",
    "    nrow = 3, \n",
    "    ncol = 4, \n",
    "    byrow = FALSE)\n",
    "\n",
    "print(my_matrix)"
   ]
  },
  {
   "cell_type": "markdown",
   "metadata": {},
   "source": [
    "In the above code, we made `my_matrix`, we specified it should be populated by the vector `c(1:12)`, with 3 rows (`nrow = 3`) and 4 columns (`ncol = 4`) and be populated by column, not by row (`byrow = FALSE`)"
   ]
  },
  {
   "cell_type": "markdown",
   "metadata": {},
   "source": [
    "We can access the rows and columns by their numerical index using a `[row, column]` format.\n",
    "For example, here's how we access row 3 and column 4:"
   ]
  },
  {
   "cell_type": "code",
   "execution_count": null,
   "metadata": {},
   "outputs": [],
   "source": [
    "my_matrix[3,4]"
   ]
  },
  {
   "cell_type": "markdown",
   "metadata": {},
   "source": [
    "Access entire row 3:"
   ]
  },
  {
   "cell_type": "code",
   "execution_count": null,
   "metadata": {},
   "outputs": [],
   "source": [
    "print(my_matrix[3,])"
   ]
  },
  {
   "cell_type": "markdown",
   "metadata": {},
   "source": [
    "Access entire column 4:"
   ]
  },
  {
   "cell_type": "code",
   "execution_count": null,
   "metadata": {},
   "outputs": [],
   "source": [
    "print(my_matrix[,4])"
   ]
  },
  {
   "cell_type": "markdown",
   "metadata": {},
   "source": [
    "You can also name the rows and columns and then access them by name. \n",
    "For example, lets name the rows and columns of `my_matrix`"
   ]
  },
  {
   "cell_type": "code",
   "execution_count": null,
   "metadata": {},
   "outputs": [],
   "source": [
    "dimnames(my_matrix) <- list(\n",
    "    c('row_1', 'row_2', 'row_3'), \n",
    "    c('column_1', 'column_2', 'column_3', 'column_4'))"
   ]
  },
  {
   "cell_type": "markdown",
   "metadata": {},
   "source": [
    "You can also name the rows and columns separately using `rownames()` and `colnames()` "
   ]
  },
  {
   "cell_type": "code",
   "execution_count": null,
   "metadata": {},
   "outputs": [],
   "source": [
    "rownames(my_matrix) <- c('row_1', 'row_2', 'row_3')\n",
    "colnames(my_matrix) <- c('column_1', 'column_2', 'column_3', 'column_4')"
   ]
  },
  {
   "cell_type": "code",
   "execution_count": null,
   "metadata": {},
   "outputs": [],
   "source": [
    "print(my_matrix)"
   ]
  },
  {
   "cell_type": "code",
   "execution_count": null,
   "metadata": {},
   "outputs": [],
   "source": [
    "print(my_matrix['row_2',])"
   ]
  },
  {
   "cell_type": "code",
   "execution_count": null,
   "metadata": {},
   "outputs": [],
   "source": [
    "print(my_matrix[,'column_2'])"
   ]
  },
  {
   "cell_type": "markdown",
   "metadata": {},
   "source": [
    "# Arrays (Put this in appendix as additional) \n",
    "- An array can be similar to a matrix but they can have more than 2 dimensions (e.g., more than rows and columns)\n",
    "- So, an array with 1 dimension is similar to a vector and an array with 2 dimensions is similar to a matrix.\n",
    "- Generate an array with the following generic format:\n",
    "\n",
    "```\n",
    "my_array <- array(vector),dim = c(rows, columns, other_dims))\n",
    "```"
   ]
  },
  {
   "cell_type": "code",
   "execution_count": null,
   "metadata": {},
   "outputs": [],
   "source": [
    "my_col_array <- array(\n",
    "    c(1:12),\n",
    "    dim = c(12,1,1))\n",
    "print(my_col_array)"
   ]
  },
  {
   "cell_type": "code",
   "execution_count": null,
   "metadata": {},
   "outputs": [],
   "source": [
    "my_row_array <- array(\n",
    "    c(1:12),\n",
    "    dim = c(1,12,1))\n",
    "print(my_row_array)"
   ]
  },
  {
   "cell_type": "code",
   "execution_count": null,
   "metadata": {},
   "outputs": [],
   "source": [
    "my_array <- array(\n",
    "    c(1:12),\n",
    "    dim = c(3,4,1))\n",
    "print(my_array)"
   ]
  },
  {
   "cell_type": "code",
   "execution_count": null,
   "metadata": {},
   "outputs": [],
   "source": [
    "another_array <- array(\n",
    "    c(1:24),\n",
    "    dim = c(3,4,2))\n",
    "print(another_array)"
   ]
  },
  {
   "cell_type": "markdown",
   "metadata": {},
   "source": [
    "Access elements of arrays like this `[row, column, other_dims]`"
   ]
  },
  {
   "cell_type": "code",
   "execution_count": null,
   "metadata": {},
   "outputs": [],
   "source": [
    "print(another_array[3,2,1])"
   ]
  },
  {
   "cell_type": "code",
   "execution_count": null,
   "metadata": {},
   "outputs": [],
   "source": [
    "print(another_array[3,2,2])"
   ]
  },
  {
   "cell_type": "markdown",
   "metadata": {},
   "source": [
    "You can also give your array some `dimnames()`:"
   ]
  },
  {
   "cell_type": "code",
   "execution_count": null,
   "metadata": {},
   "outputs": [],
   "source": [
    "dimnames(another_array) <- list(\n",
    "    c('row_1', 'row_2', 'row_3'), \n",
    "    c('column_1', 'column_2', 'column_3', 'column_4'),\n",
    "    c('matrix_1', 'matrix_2'))\n",
    "print(another_array)"
   ]
  },
  {
   "cell_type": "markdown",
   "metadata": {},
   "source": [
    "Then access your array elements by name:"
   ]
  },
  {
   "cell_type": "code",
   "execution_count": null,
   "metadata": {},
   "outputs": [],
   "source": [
    "print(another_array['row_3', 'column_2', 'matrix_1'])"
   ]
  },
  {
   "cell_type": "code",
   "execution_count": null,
   "metadata": {},
   "outputs": [],
   "source": [
    "print(another_array['row_3',,'matrix_1'])"
   ]
  },
  {
   "cell_type": "markdown",
   "metadata": {},
   "source": [
    "# Lists"
   ]
  },
  {
   "cell_type": "markdown",
   "metadata": {},
   "source": [
    "- Lists in R are very flexible, they are collections of elements that can be different classes, structures, whatever. You can even have lists of lists.\n",
    "- You make lists using the `list()` function (or by coersion using `as.list()`."
   ]
  },
  {
   "cell_type": "code",
   "execution_count": null,
   "metadata": {},
   "outputs": [],
   "source": [
    "my_list <- list(character_vector, my_array, my_matrix)\n",
    "print(my_list)"
   ]
  },
  {
   "cell_type": "markdown",
   "metadata": {},
   "source": [
    "Use `[[]]` to access list elements:"
   ]
  },
  {
   "cell_type": "code",
   "execution_count": null,
   "metadata": {},
   "outputs": [],
   "source": [
    "print(my_list[[3]])"
   ]
  },
  {
   "cell_type": "markdown",
   "metadata": {},
   "source": [
    "Add more brackets to access sub-elements of a list:"
   ]
  },
  {
   "cell_type": "code",
   "execution_count": null,
   "metadata": {},
   "outputs": [],
   "source": [
    "print(my_list[[3]][1])"
   ]
  },
  {
   "cell_type": "code",
   "execution_count": null,
   "metadata": {},
   "outputs": [],
   "source": [
    "print(my_list[[3]][1,])"
   ]
  },
  {
   "cell_type": "markdown",
   "metadata": {},
   "source": [
    "Name the list elements:"
   ]
  },
  {
   "cell_type": "code",
   "execution_count": null,
   "metadata": {},
   "outputs": [],
   "source": [
    "names(my_list) <- c('character_vector', 'my_array', 'my_matrix')\n",
    "print(my_list)"
   ]
  },
  {
   "cell_type": "markdown",
   "metadata": {},
   "source": [
    "Use `unlist()` if you want to convert a list to a vector, let's make a new list (`list_1`)"
   ]
  },
  {
   "cell_type": "code",
   "execution_count": null,
   "metadata": {},
   "outputs": [],
   "source": [
    "list_1 <- list(1:5)\n",
    "print(list_1)"
   ]
  },
  {
   "cell_type": "markdown",
   "metadata": {},
   "source": [
    "Use `str()` to look at the structure"
   ]
  },
  {
   "cell_type": "code",
   "execution_count": null,
   "metadata": {},
   "outputs": [],
   "source": [
    "str(list_1)"
   ]
  },
  {
   "cell_type": "markdown",
   "metadata": {},
   "source": [
    "Then `unlist()` and look at the structure"
   ]
  },
  {
   "cell_type": "code",
   "execution_count": null,
   "metadata": {},
   "outputs": [],
   "source": [
    "print(unlist(list_1))\n",
    "str(unlist(list_1))"
   ]
  },
  {
   "cell_type": "markdown",
   "metadata": {},
   "source": [
    "# Data Frames (Move this down to data wrangling section) - can briefly show a little then move on and say this is in Tidyverse section; instead focus on if/then control flow \n",
    "\n",
    "- A data frame is another way to organize a collection of rows and columns.\n",
    "- It is a collection of lists organized into columns.\n",
    "- It is similar to a matrix, except data frames allow different data types in different columns.\n",
    "- We can use the `data.frame()` function to create a data frame from vectors using the following format:\n",
    "\n",
    "```\n",
    "dataframe <- data.frame(column_1, column_2, column_3)\n",
    "```"
   ]
  },
  {
   "cell_type": "code",
   "execution_count": null,
   "metadata": {},
   "outputs": [],
   "source": [
    "example_df <- data.frame(\n",
    "    c('a','b','c'), \n",
    "    c(1, 3, 5), \n",
    "    c(TRUE, TRUE, FALSE))\n",
    "\n",
    "print(example_df)"
   ]
  },
  {
   "cell_type": "markdown",
   "metadata": {},
   "source": [
    "Use `names()` or `colnames()` to name columns,  `rownames()` to name rows, or `dimnames()` to assign both column and row names to the data frame:"
   ]
  },
  {
   "cell_type": "code",
   "execution_count": null,
   "metadata": {},
   "outputs": [],
   "source": [
    "colnames(example_df) <- c('letters', 'numbers', 'boolean')\n",
    "rownames(example_df) <- c('first', 'second', '')\n",
    "print(example_df)"
   ]
  },
  {
   "cell_type": "code",
   "execution_count": null,
   "metadata": {},
   "outputs": [],
   "source": [
    "names(example_df) <- c('_letters_', '_numbers_', '_boolean_')\n",
    "print(example_df)"
   ]
  },
  {
   "cell_type": "code",
   "execution_count": null,
   "metadata": {},
   "outputs": [],
   "source": [
    "dimnames(example_df) <- list(c('__first', '__second', '__third'), c('__letters', '__numbers', '__boolean'))\n",
    "print(example_df)"
   ]
  },
  {
   "cell_type": "markdown",
   "metadata": {},
   "source": [
    "We can use the `attributes()` and `str()` functions to get some information about our data frame:"
   ]
  },
  {
   "cell_type": "code",
   "execution_count": null,
   "metadata": {},
   "outputs": [],
   "source": [
    "attributes(example_df)"
   ]
  },
  {
   "cell_type": "code",
   "execution_count": null,
   "metadata": {},
   "outputs": [],
   "source": [
    "str(example_df)"
   ]
  },
  {
   "cell_type": "markdown",
   "metadata": {},
   "source": [
    "# Adding columns to a data frame"
   ]
  },
  {
   "cell_type": "markdown",
   "metadata": {},
   "source": [
    "Let's make a new example dataframe to work with:"
   ]
  },
  {
   "cell_type": "code",
   "execution_count": null,
   "metadata": {},
   "outputs": [],
   "source": [
    "patients_1 <- data.frame(\n",
    "    c('Boo','Rex','Chuckles'), \n",
    "    c(1, 3, 5), \n",
    "    c('dog', 'dog', 'dog'))\n",
    "print(patients_1)"
   ]
  },
  {
   "cell_type": "markdown",
   "metadata": {},
   "source": [
    "Use `names()` or `colnames()` to name columns,  `rownames()` to name rows, or `dimnames()` to assign both column and row names to the data frame.\n",
    "Here we will use `names()` to name the columns:"
   ]
  },
  {
   "cell_type": "code",
   "execution_count": null,
   "metadata": {},
   "outputs": [],
   "source": [
    "names(patients_1) <- c('name', 'number_of_visits', 'type')\n",
    "print(patients_1)"
   ]
  },
  {
   "cell_type": "markdown",
   "metadata": {},
   "source": [
    "We can use the column names to extract a single column using the notation `dataframe$column`, e.g.:"
   ]
  },
  {
   "cell_type": "code",
   "execution_count": null,
   "metadata": {},
   "outputs": [],
   "source": [
    "print(patients_1$name)"
   ]
  },
  {
   "cell_type": "markdown",
   "metadata": {},
   "source": [
    "The `cbind()` function can be used to add more columns to a dataframe:"
   ]
  },
  {
   "cell_type": "code",
   "execution_count": null,
   "metadata": {},
   "outputs": [],
   "source": [
    "column_4 <- c(4, 2, 6)\n",
    "patients_1 <- cbind(patients_1, column_4)\n",
    "print(patients_1)"
   ]
  },
  {
   "cell_type": "markdown",
   "metadata": {},
   "source": [
    "We can also rename individual columns of the dataframe using index notation, lets rename the 4th column we just added:"
   ]
  },
  {
   "cell_type": "code",
   "execution_count": null,
   "metadata": {},
   "outputs": [],
   "source": [
    "colnames(patients_1)[4] <- 'age_in_years'\n",
    "print(patients_1)"
   ]
  },
  {
   "cell_type": "markdown",
   "metadata": {},
   "source": [
    "We can also use the `dataframe$column` notation to add a new column and name it at the same time:"
   ]
  },
  {
   "cell_type": "code",
   "execution_count": null,
   "metadata": {},
   "outputs": [],
   "source": [
    "patients_1$weight_in_pounds <- c(35, 75, 15)\n",
    "print(patients_1)"
   ]
  },
  {
   "cell_type": "markdown",
   "metadata": {},
   "source": [
    "Let's use `str()` and `attributes()` functions to look at the structure and attributes of this data frame:"
   ]
  },
  {
   "cell_type": "code",
   "execution_count": null,
   "metadata": {},
   "outputs": [],
   "source": [
    "str(patients_1)"
   ]
  },
  {
   "cell_type": "code",
   "execution_count": null,
   "metadata": {},
   "outputs": [],
   "source": [
    "attributes(patients_1$name)"
   ]
  },
  {
   "cell_type": "markdown",
   "metadata": {},
   "source": [
    "**Notice that `patients_1$name` is a factor with three levels...**"
   ]
  },
  {
   "cell_type": "markdown",
   "metadata": {},
   "source": [
    "# Factors\n",
    "- In some situations, you might be dealing with categorical variable, which is known as a factor variable in R. \n",
    "- A factor is a type of variable that has a set number of distinct categories into which all observations fall, which are the levels.\n",
    "\n",
    "*Factor variables are important because R's default behavior when reading in text files is to convert that text into a factor variable rather than a character variable, which can often lead to weird behavior if the user is trying to e.g. search that text.*\n",
    "- In addition to `cbind()` for adding columns, there is another function in R called `rbind()`, which adds new rows to a data frame.\n",
    "- Let's see what happens when we try to add a new row to our data frame:"
   ]
  },
  {
   "cell_type": "code",
   "execution_count": null,
   "metadata": {},
   "outputs": [],
   "source": [
    "patients_1_rbind <- rbind(patients_1, c('Fluffy', 2, 'dog', 8, 105))\n",
    "print(patients_1_rbind)"
   ]
  },
  {
   "cell_type": "markdown",
   "metadata": {},
   "source": [
    "- The `patients_1$name` column is classed as a `factor`, and the factors levels are `Boo`, `Chuckles`, and `Rex`. \n",
    "- Recall that a factor is a type of variable that has a **set number of distinct categories into which all observations fall, which are the levels.**\n",
    "- R isn't sure what to do with the new level we are trying to add (`Fluffy`), so we have to turn those factors into strings."
   ]
  },
  {
   "cell_type": "markdown",
   "metadata": {},
   "source": [
    "We can convert the `patients_1$name` column to a character as follows:"
   ]
  },
  {
   "cell_type": "code",
   "execution_count": null,
   "metadata": {},
   "outputs": [],
   "source": [
    "patients_1$name <- as.character(patients_1$name)\n",
    "str(patients_1)"
   ]
  },
  {
   "cell_type": "markdown",
   "metadata": {},
   "source": [
    "Now we can use `rbind()` to add a new row:"
   ]
  },
  {
   "cell_type": "code",
   "execution_count": null,
   "metadata": {},
   "outputs": [],
   "source": [
    "patients_1 <- rbind(patients_1, c('Fluffy', 2, 'dog', 8, 105))\n",
    "print(patients_1)"
   ]
  },
  {
   "cell_type": "markdown",
   "metadata": {},
   "source": [
    "# Re-ordering factor levels\n",
    "- You might have ordinal data, like the following:"
   ]
  },
  {
   "cell_type": "code",
   "execution_count": null,
   "metadata": {},
   "outputs": [],
   "source": [
    "sizes <- factor(c('extra small', 'small', 'large', 'extra large', 'large', 'small', 'medium', 'medium', 'medium', 'medium', 'medium'))"
   ]
  },
  {
   "cell_type": "markdown",
   "metadata": {},
   "source": [
    "Use the `table()` function to look at the vector:"
   ]
  },
  {
   "cell_type": "code",
   "execution_count": null,
   "metadata": {},
   "outputs": [],
   "source": [
    "table(sizes)"
   ]
  },
  {
   "cell_type": "markdown",
   "metadata": {},
   "source": [
    "We might not necessarily want the factor levels in alphabetical order. You can re-order them like so:"
   ]
  },
  {
   "cell_type": "code",
   "execution_count": null,
   "metadata": {},
   "outputs": [],
   "source": [
    "sizes_sorted <- factor(sizes, levels = c('extra small', 'small', 'medium', 'large', 'extra large'))\n",
    "table(sizes_sorted)"
   ]
  },
  {
   "cell_type": "markdown",
   "metadata": {},
   "source": [
    "You can also use the `relevel()` function to specify that there's a single factor you'd like to use as the reference factor, which will now be the first factor:"
   ]
  },
  {
   "cell_type": "code",
   "execution_count": null,
   "metadata": {},
   "outputs": [],
   "source": [
    "sizes_releveled <- relevel(sizes, 'medium')\n",
    "table(sizes_releveled)"
   ]
  },
  {
   "cell_type": "markdown",
   "metadata": {},
   "source": [
    "You can also coerce a factor to a character:"
   ]
  },
  {
   "cell_type": "code",
   "execution_count": null,
   "metadata": {},
   "outputs": [],
   "source": [
    "character_vector <- as.character(sizes)\n",
    "class(character_vector)\n",
    "print(character_vector)"
   ]
  },
  {
   "cell_type": "markdown",
   "metadata": {},
   "source": [
    "Notice that print doesn't return the `Levels` and each element of the vector is now in quotes.\n",
    "It is also possible to convert a factor into a numeric vector if you want to:"
   ]
  },
  {
   "cell_type": "code",
   "execution_count": null,
   "metadata": {},
   "outputs": [],
   "source": [
    "print(sizes)\n",
    "numeric_vector <- as.numeric(sizes)\n",
    "print(numeric_vector)"
   ]
  },
  {
   "cell_type": "markdown",
   "metadata": {},
   "source": [
    "This assigns numerical values based on alphabetical order of `sizes`"
   ]
  },
  {
   "cell_type": "code",
   "execution_count": null,
   "metadata": {},
   "outputs": [],
   "source": [
    "print(sizes_sorted)\n",
    "ordered_numeric_vector <- as.numeric(sizes_sorted)\n",
    "print(ordered_numeric_vector)"
   ]
  },
  {
   "cell_type": "markdown",
   "metadata": {},
   "source": [
    "This assigns numerical values based on the levels you set when you created `sizes_sorted`"
   ]
  },
  {
   "cell_type": "markdown",
   "metadata": {},
   "source": [
    "# Data frame merging\n",
    "- Data is often spread across more than one file, reading each file into R will result in more than one data frame. \n",
    "- If the data frames have some common identifying column, we can use that common ID to combine the data frames. \n",
    "\n",
    "For example:"
   ]
  },
  {
   "cell_type": "code",
   "execution_count": null,
   "metadata": {},
   "outputs": [],
   "source": [
    "print(patients_1)"
   ]
  },
  {
   "cell_type": "markdown",
   "metadata": {},
   "source": [
    "Let's make another data frame:"
   ]
  },
  {
   "cell_type": "code",
   "execution_count": null,
   "metadata": {},
   "outputs": [],
   "source": [
    "patients_2 <- data.frame(\n",
    "    c('Fluffy', 'Smokey', 'Kitty'), \n",
    "    c(1, 1, 2), \n",
    "    c('cat', 'dog', 'cat'),\n",
    "    c(1, 3, 5))\n",
    "colnames(patients_2) <- c('name', 'number_of_visits', 'type', 'age_in_years')\n",
    "print(patients_2)"
   ]
  },
  {
   "cell_type": "markdown",
   "metadata": {},
   "source": [
    "We can use the `merge()` function to combine them:"
   ]
  },
  {
   "cell_type": "code",
   "execution_count": null,
   "metadata": {},
   "outputs": [],
   "source": [
    "patients_df <- merge(patients_1, patients_2, all = TRUE)\n",
    "print(patients_df)"
   ]
  },
  {
   "cell_type": "markdown",
   "metadata": {},
   "source": [
    "- Using `all = TRUE` will fill in blank values if needed (for example, the weight of any of the animals in `patients_2`).\n",
    "- Using the `all.x = TRUE` argument will return all values in the `patients_1` dataframe, as well as any entries with the same ID column(s) from `patients_2`."
   ]
  },
  {
   "cell_type": "code",
   "execution_count": null,
   "metadata": {},
   "outputs": [],
   "source": [
    "patients_df <- merge(patients_1, patients_2, all.x = TRUE)\n",
    "print(patients_df)"
   ]
  },
  {
   "cell_type": "markdown",
   "metadata": {},
   "source": [
    "- Using the `all.y = TRUE` argument will return all values in the `patients_2` dataframe, as well as any entries with the same ID column(s) from `patients_1`."
   ]
  },
  {
   "cell_type": "code",
   "execution_count": null,
   "metadata": {},
   "outputs": [],
   "source": [
    "patients_df <- merge(patients_1, patients_2, all.y = TRUE)\n",
    "print(patients_df)"
   ]
  },
  {
   "cell_type": "markdown",
   "metadata": {},
   "source": [
    "You can also specify which columns to join on:"
   ]
  },
  {
   "cell_type": "code",
   "execution_count": null,
   "metadata": {},
   "outputs": [],
   "source": [
    "patients_df <- merge(patients_1, patients_2, by = c('name', 'type', 'number_of_visits', 'age_in_years'), all = TRUE)\n",
    "print(patients_df)"
   ]
  },
  {
   "cell_type": "markdown",
   "metadata": {},
   "source": [
    "# Built-in functions\n",
    "- We have already used a few functions in this workshop (like print). \n",
    "- Functions are a series of statements that work together to form a specific task.\n",
    "- All functions need pieces of information (or arguments) to perform their particular function. \n",
    "- Sometimes arguments are required, sometimes arguments are optional -- for example, `print()` requires only one argument -- the thing you want to print.\n",
    "- R comes with some pre-loaded data sets -- you see the list by typing `print(data())`, but it is quite long.\n",
    "\n",
    "Load the `DNase` data and turn it into a data frame:\n"
   ]
  },
  {
   "cell_type": "code",
   "execution_count": null,
   "metadata": {},
   "outputs": [],
   "source": [
    "data(DNase)\n",
    "DNase <- data.frame(DNase)"
   ]
  },
  {
   "cell_type": "markdown",
   "metadata": {},
   "source": [
    "Let's use the `dim()`, `nrow()`, and `ncol()` functions to get the number of rows (`nrow()`), number of columns (`nrow()`), and number of both rows and columns (`dim()`)"
   ]
  },
  {
   "cell_type": "code",
   "execution_count": null,
   "metadata": {},
   "outputs": [],
   "source": [
    "dim(DNase)"
   ]
  },
  {
   "cell_type": "code",
   "execution_count": null,
   "metadata": {},
   "outputs": [],
   "source": [
    "nrow(DNase)"
   ]
  },
  {
   "cell_type": "code",
   "execution_count": null,
   "metadata": {},
   "outputs": [],
   "source": [
    "ncol(DNase)"
   ]
  },
  {
   "cell_type": "markdown",
   "metadata": {},
   "source": [
    "We can use the `head()` function to look at the first few lines of the data frame:"
   ]
  },
  {
   "cell_type": "code",
   "execution_count": null,
   "metadata": {},
   "outputs": [],
   "source": [
    "head(DNase)"
   ]
  },
  {
   "cell_type": "markdown",
   "metadata": {},
   "source": [
    "You can use the `n` argument to look at a different number of lines"
   ]
  },
  {
   "cell_type": "code",
   "execution_count": null,
   "metadata": {},
   "outputs": [],
   "source": [
    "head(DNase, n = 3)"
   ]
  },
  {
   "cell_type": "markdown",
   "metadata": {},
   "source": [
    "We can use the `tail()` function to look at the last few lines of the data frame:"
   ]
  },
  {
   "cell_type": "code",
   "execution_count": null,
   "metadata": {},
   "outputs": [],
   "source": [
    "tail(DNase, n = 5)"
   ]
  },
  {
   "cell_type": "markdown",
   "metadata": {},
   "source": [
    "The summary function, which can be applied to either a vector or a data frame (in the latter case, R applies it separately to each column in the data frame) yields a variety of summary statistics about each variable. "
   ]
  },
  {
   "cell_type": "code",
   "execution_count": null,
   "metadata": {},
   "outputs": [],
   "source": [
    "summary(DNase)"
   ]
  },
  {
   "cell_type": "markdown",
   "metadata": {},
   "source": [
    "`summary()` is informative for numerical data, but not so helpful for factor data, as in the `Run` column. \n",
    "Let's make a smaller subset of the `DNase` data to work with:"
   ]
  },
  {
   "cell_type": "code",
   "execution_count": null,
   "metadata": {},
   "outputs": [],
   "source": [
    "DNase_subset <- DNase[1:20, ]\n",
    "DNase_subset"
   ]
  },
  {
   "cell_type": "markdown",
   "metadata": {},
   "source": [
    "We can also sort our data. Let's look at the `conc` column:"
   ]
  },
  {
   "cell_type": "code",
   "execution_count": null,
   "metadata": {},
   "outputs": [],
   "source": [
    "print(DNase_subset$conc)"
   ]
  },
  {
   "cell_type": "markdown",
   "metadata": {},
   "source": [
    "Use the `order()` function to figure out the ascending rankings of the values"
   ]
  },
  {
   "cell_type": "code",
   "execution_count": null,
   "metadata": {},
   "outputs": [],
   "source": [
    "order(DNase_subset$conc)"
   ]
  },
  {
   "cell_type": "markdown",
   "metadata": {},
   "source": [
    "We can assign this ordering to a vector:"
   ]
  },
  {
   "cell_type": "code",
   "execution_count": null,
   "metadata": {},
   "outputs": [],
   "source": [
    "reorder_vector <- order(DNase_subset$conc)"
   ]
  },
  {
   "cell_type": "markdown",
   "metadata": {},
   "source": [
    "And use it to reorder our data frame:"
   ]
  },
  {
   "cell_type": "code",
   "execution_count": null,
   "metadata": {},
   "outputs": [],
   "source": [
    "DNase_subset[reorder_vector, ]"
   ]
  },
  {
   "cell_type": "markdown",
   "metadata": {},
   "source": [
    "Data frames can be classified into two broad categories: wide format and long format. All data frames shown so far have been presented in wide format. A wide format data frame has each row describe a sample and each column describe a feature. Here is a short example of a data frame in wide format, tabulating counts for three genes in three patients:"
   ]
  },
  {
   "cell_type": "code",
   "execution_count": null,
   "metadata": {},
   "outputs": [],
   "source": [
    "wide_df <- data.frame(c(\"A\", \"B\", \"C\"), c(1, 1, 2), c(5, 6, 7), c(0, 1, 0))\n",
    "colnames(wide_df) <- c(\"id\", \"gene.1\", \"gene.2\", \"gene.3\")\n",
    "wide_df"
   ]
  },
  {
   "cell_type": "markdown",
   "metadata": {},
   "source": [
    "Long format stacks features on top of one another; each row is the combination of a sample and a feature.  One column exists to denote the feature in question, and another column exists to denote that feature' value:"
   ]
  },
  {
   "cell_type": "code",
   "execution_count": null,
   "metadata": {},
   "outputs": [],
   "source": [
    "long_df <- data.frame(c(\"A\", \"A\", \"A\", \"B\", \"B\", \"B\", \"C\", \"C\", \"C\"), c(\"gene.1\", \"gene.2\", \"gene.3\", \"gene.1\", \"gene.2\", \"gene.3\", \"gene.1\", \"gene.2\", \"gene.3\"), c(1, 5, 0, 1, 6, 1, 2, 7, 0))\n",
    "colnames(long_df) <- c(\"id\", \"gene\", \"count\")\n",
    "long_df"
   ]
  },
  {
   "cell_type": "markdown",
   "metadata": {},
   "source": [
    "These formats both contain the exact same data but represent it in different ways. Various functions exist to convert between wide and long format but these are beyond the scope of today's discussion. You can look up the `reshape2` or `tidyr` packages if you're interested in learning more about converting between long and wide formats -- alternatively, check out our tidyverse workshop."
   ]
  },
  {
   "cell_type": "markdown",
   "metadata": {},
   "source": [
    "# User defined functions\n",
    "- In addition to the already available functions in R, you can also create your own functions. \n",
    "- Generally, if you find yourself re-writing the same pieces of code over and over again, it might be time to write a function. \n",
    "\n",
    "Functions take the following basic format:"
   ]
  },
  {
   "cell_type": "markdown",
   "metadata": {},
   "source": [
    "```\n",
    "myfunction <- function(argument_name){\n",
    "  stuff <- this is the body of the function(\n",
    "    it contains statements that use argument_names\n",
    "    to do things and make stuff)\n",
    "  return(stuff)\n",
    "}\n",
    "```"
   ]
  },
  {
   "cell_type": "markdown",
   "metadata": {},
   "source": [
    "More formally, R functions are broken up into 3 pieces:\n",
    "1. formals() - the list of arguments\n",
    "2. body() - code inside the function\n",
    "3. environment() - how the function finds the values associated with function names"
   ]
  },
  {
   "cell_type": "markdown",
   "metadata": {},
   "source": [
    "Here's an example of a function called `roll()` that rolls any number of 6-sided dice:"
   ]
  },
  {
   "cell_type": "code",
   "execution_count": null,
   "metadata": {},
   "outputs": [],
   "source": [
    "roll <- function(number_of_dice){\n",
    "    rolled_dice <- sample(\n",
    "        x = 6, \n",
    "        size = number_of_dice, \n",
    "        replace = TRUE)\n",
    "    return(rolled_dice)\n",
    "}"
   ]
  },
  {
   "cell_type": "markdown",
   "metadata": {},
   "source": [
    "- The built-in R function `sample()` is nested inside our `roll()` function.\n",
    "- `roll()` uses the argument `number_of_dice` as the `size`, `x` is the number of sides on the die, which we have hard-coded as `6`, and `replace = TRUE` means that we are sampling the space of all potential die roll outcomes with replacement.\n",
    "- Lastly, we tell the function what it should return (`rolled_dice`).\n",
    "\n",
    "To call that function and print the output:"
   ]
  },
  {
   "cell_type": "code",
   "execution_count": null,
   "metadata": {},
   "outputs": [],
   "source": [
    "print(roll(number_of_dice = 10))"
   ]
  },
  {
   "cell_type": "markdown",
   "metadata": {},
   "source": [
    "Lets look at the `formals()`"
   ]
  },
  {
   "cell_type": "code",
   "execution_count": null,
   "metadata": {},
   "outputs": [],
   "source": [
    "formals(roll)"
   ]
  },
  {
   "cell_type": "markdown",
   "metadata": {},
   "source": [
    "What about `body()`?"
   ]
  },
  {
   "cell_type": "code",
   "execution_count": null,
   "metadata": {},
   "outputs": [],
   "source": [
    "body(roll)"
   ]
  },
  {
   "cell_type": "markdown",
   "metadata": {},
   "source": [
    "What about `environment()`? "
   ]
  },
  {
   "cell_type": "code",
   "execution_count": null,
   "metadata": {},
   "outputs": [],
   "source": [
    "environment(roll)"
   ]
  },
  {
   "cell_type": "markdown",
   "metadata": {},
   "source": [
    "So, the function itself is called `roll`, it takes the argument or formals `number_of_dice` and the body of the function uses the built-in `sample` function in R to simulate dice rolls (use ?sample to learn more about the `sample()` function). "
   ]
  },
  {
   "cell_type": "markdown",
   "metadata": {},
   "source": [
    "## Anonymous functions (Appendix) "
   ]
  },
  {
   "cell_type": "markdown",
   "metadata": {},
   "source": [
    "- You can also have something called an **anonymous function**, where you write the function but don't assign it to an object.\n",
    "- The general format is:\n",
    "```\n",
    "(function(\n",
    "     argument_name) \n",
    "     statements that use argument_name to create an object\n",
    "  )(\n",
    "    argument_name = argument)\n",
    "```"
   ]
  },
  {
   "cell_type": "code",
   "execution_count": null,
   "metadata": {},
   "outputs": [],
   "source": [
    "(function(\n",
    "    anonymous_dice) \n",
    "    sample(\n",
    "        x = 6, \n",
    "        size = anonymous_dice, \n",
    "        replace = TRUE)\n",
    " )(\n",
    "    anonymous_dice = 5)"
   ]
  },
  {
   "cell_type": "markdown",
   "metadata": {},
   "source": [
    "## More on user defined functions\n",
    "- We can also have functions that take more than one argument. \n",
    "- Lets say we want to roll different numbers of dice (`number_of_dice`) and we want to change the size of the dice we roll (`number_of_sides`)."
   ]
  },
  {
   "cell_type": "code",
   "execution_count": null,
   "metadata": {},
   "outputs": [],
   "source": [
    "roll <- function(\n",
    "    number_of_dice, \n",
    "    number_of_sides){\n",
    "    rolled_dice <- sample(\n",
    "        x = number_of_sides, \n",
    "        size = number_of_dice, \n",
    "        replace = TRUE)\n",
    "    return(rolled_dice)\n",
    "}"
   ]
  },
  {
   "cell_type": "markdown",
   "metadata": {},
   "source": [
    "- The new `roll()` uses the `sample()` function again, but this time it uses the `number_of_dice` and `number_of_sides`"
   ]
  },
  {
   "cell_type": "code",
   "execution_count": null,
   "metadata": {},
   "outputs": [],
   "source": [
    "print(roll(number_of_dice = 5, number_of_sides = 20))"
   ]
  },
  {
   "cell_type": "markdown",
   "metadata": {},
   "source": [
    "- Lets say we want to roll different numbers of dice (`number_of_dice`) and we want to change the size of the dice we roll (`number_of_sides`) as well as tweak the number of times we roll the dice (`number_of_rolls`).\n",
    "- We can use `replicate()` and `sample()`"
   ]
  },
  {
   "cell_type": "code",
   "execution_count": null,
   "metadata": {},
   "outputs": [],
   "source": [
    "roll <- function(\n",
    "    number_of_rolls, \n",
    "    number_of_sides, \n",
    "    number_of_dice){\n",
    "    rolled_dice <- replicate(\n",
    "        number_of_rolls, \n",
    "        sample(\n",
    "            x = number_of_sides, \n",
    "            size = number_of_dice, \n",
    "            replace = TRUE))\n",
    "    return(rolled_dice)\n",
    "}"
   ]
  },
  {
   "cell_type": "markdown",
   "metadata": {},
   "source": [
    "- So, in the above function we use `number_of_dice`, `number_of_sides`, and `number_of_rolls` as arguments. \n",
    "- The `sample()` function takes the arguments `number_of_sides` and `number_of_dice`\n",
    "- The `replicate()` function is takine `number_of_rolls` as an argument."
   ]
  },
  {
   "cell_type": "code",
   "execution_count": null,
   "metadata": {},
   "outputs": [],
   "source": [
    "rolled_dice <- roll(number_of_rolls = 10, number_of_sides = 20, number_of_dice = 5)\n",
    "print(rolled_dice)"
   ]
  },
  {
   "cell_type": "markdown",
   "metadata": {},
   "source": [
    "You can use `colSums()` or `rowSums()` to calculate the sum of the columns and rows:"
   ]
  },
  {
   "cell_type": "code",
   "execution_count": null,
   "metadata": {},
   "outputs": [],
   "source": [
    "print(colSums(rolled_dice))"
   ]
  },
  {
   "cell_type": "code",
   "execution_count": null,
   "metadata": {},
   "outputs": [],
   "source": [
    "print(rowSums(rolled_dice))"
   ]
  },
  {
   "cell_type": "markdown",
   "metadata": {},
   "source": [
    "We can make `rolled_dice` into an **anonymous function**: #(Cut off from here down - appendix) "
   ]
  },
  {
   "cell_type": "code",
   "execution_count": null,
   "metadata": {},
   "outputs": [],
   "source": [
    "print(\n",
    "    (function(\n",
    "        number_of_dice, \n",
    "        number_of_sides, \n",
    "        number_of_rolls) \n",
    "        replicate(\n",
    "            number_of_dice, \n",
    "            sample(\n",
    "                1:number_of_sides, \n",
    "                number_of_rolls, \n",
    "                replace = TRUE))\n",
    "     )(\n",
    "        number_of_dice = 5, \n",
    "        number_of_rolls = 10, \n",
    "        number_of_sides = 20))"
   ]
  },
  {
   "cell_type": "markdown",
   "metadata": {},
   "source": [
    "Lets make another anonymous function that makes a boxplot of our dice rolls:"
   ]
  },
  {
   "cell_type": "code",
   "execution_count": null,
   "metadata": {},
   "outputs": [],
   "source": [
    "(function(number_of_dice, \n",
    "          number_of_sides, \n",
    "          number_of_rolls) \n",
    "    boxplot((\n",
    "        replicate(\n",
    "            number_of_dice, \n",
    "            sample(\n",
    "                1:number_of_sides, \n",
    "                number_of_rolls, \n",
    "                replace = TRUE))))\n",
    " )(\n",
    "    number_of_dice = 5, \n",
    "    number_of_rolls = 10, \n",
    "    number_of_sides = 20)"
   ]
  },
  {
   "cell_type": "markdown",
   "metadata": {},
   "source": [
    "We can give the boxplot a title:"
   ]
  },
  {
   "cell_type": "code",
   "execution_count": null,
   "metadata": {},
   "outputs": [],
   "source": [
    "(function(number_of_dice, \n",
    "          number_of_sides, \n",
    "          number_of_rolls) \n",
    "    boxplot((\n",
    "        replicate(\n",
    "            number_of_dice, \n",
    "            sample(\n",
    "                1:number_of_sides, \n",
    "                number_of_rolls, \n",
    "                replace = TRUE))), \n",
    "            main = 'here is a boxplot of some dice rolls')\n",
    " )(\n",
    "    number_of_dice = 5, \n",
    "    number_of_rolls = 10, \n",
    "    number_of_sides = 20)"
   ]
  },
  {
   "cell_type": "markdown",
   "metadata": {},
   "source": [
    "We can use `paste()` to pass the function arguments as parts of the title for the figure, by adding `main = paste('the ' , number_of_dice, ' ', number_of_sides, '-sided dice were rolled ', number_of_rolls, ' times', sep='')`"
   ]
  },
  {
   "cell_type": "code",
   "execution_count": null,
   "metadata": {},
   "outputs": [],
   "source": [
    "(function(number_of_dice, \n",
    "          number_of_sides, \n",
    "          number_of_rolls) \n",
    "    boxplot((\n",
    "        replicate(\n",
    "            number_of_dice, \n",
    "            sample(\n",
    "                1:number_of_sides, \n",
    "                number_of_rolls, \n",
    "                replace = TRUE))), \n",
    "            main = paste(\n",
    "        'the ' , number_of_dice, ' ', number_of_sides, '-sided dice were rolled ', number_of_rolls, ' times', \n",
    "                sep=''))\n",
    " )(\n",
    "    number_of_dice = 5, \n",
    "    number_of_rolls = 10, \n",
    "    number_of_sides = 20)"
   ]
  },
  {
   "cell_type": "markdown",
   "metadata": {},
   "source": [
    "We can add some colors to the figure by adding `col = c(1:number_of_dice)`, this will generate enough colors so that each bar has a different color:"
   ]
  },
  {
   "cell_type": "code",
   "execution_count": null,
   "metadata": {},
   "outputs": [],
   "source": [
    "(function(number_of_dice, \n",
    "          number_of_sides, \n",
    "          number_of_rolls) \n",
    "    boxplot((\n",
    "        replicate(\n",
    "            number_of_dice, \n",
    "            sample(\n",
    "                1:number_of_sides, \n",
    "                number_of_rolls, \n",
    "                replace = TRUE))), \n",
    "            main = paste(\n",
    "        'the ' , number_of_dice, ' ', number_of_sides, '-sided dice were rolled ', number_of_rolls, ' times', \n",
    "                sep=''), \n",
    "           col = c(1:number_of_dice))\n",
    " )(\n",
    "    number_of_dice = 5, \n",
    "    number_of_rolls = 10, \n",
    "    number_of_sides = 20)"
   ]
  },
  {
   "cell_type": "markdown",
   "metadata": {},
   "source": [
    "# Importing and Exporting files\n",
    "- There are a few different ways to read and write files in R.\n",
    "- We will use `read.table()` and `write.table()`.\n",
    "- Lets use some of the pre-loaded data that comes with R. \n",
    "- First, let's import the `iris` data as a data frame and use `head()` to look at the first few lines"
   ]
  },
  {
   "cell_type": "code",
   "execution_count": null,
   "metadata": {},
   "outputs": [],
   "source": [
    "iris <- data.frame(iris)\n",
    "head(iris)"
   ]
  },
  {
   "cell_type": "markdown",
   "metadata": {},
   "source": [
    "You can write the output to a file using `write.table`:"
   ]
  },
  {
   "cell_type": "code",
   "execution_count": null,
   "metadata": {},
   "outputs": [],
   "source": [
    "write.table(iris, file = '~/iris_table.txt')"
   ]
  },
  {
   "cell_type": "markdown",
   "metadata": {},
   "source": [
    "Use `read.table()` to pull data into R:"
   ]
  },
  {
   "cell_type": "code",
   "execution_count": null,
   "metadata": {},
   "outputs": [],
   "source": [
    "iris_table_2 <- read.table('~/iris_table.txt')"
   ]
  },
  {
   "cell_type": "code",
   "execution_count": null,
   "metadata": {},
   "outputs": [],
   "source": [
    "head(iris_table_2)"
   ]
  },
  {
   "cell_type": "markdown",
   "metadata": {},
   "source": [
    "Notice that the `Species` column is a factor (`<fct>`). If we'd like text strings to be characters instead of factors when we import we can use `stringsAsFactors = FALSE`:"
   ]
  },
  {
   "cell_type": "code",
   "execution_count": null,
   "metadata": {},
   "outputs": [],
   "source": [
    "iris_table_3 <- read.table('~/iris_table.txt', stringsAsFactors = FALSE)"
   ]
  },
  {
   "cell_type": "code",
   "execution_count": null,
   "metadata": {},
   "outputs": [],
   "source": [
    "head(iris_table_3)"
   ]
  },
  {
   "cell_type": "markdown",
   "metadata": {},
   "source": [
    "Notice that the `Species` column is a character (`<chr>`)\n",
    "To convert back into a factor:"
   ]
  },
  {
   "cell_type": "code",
   "execution_count": null,
   "metadata": {},
   "outputs": [],
   "source": [
    "iris_table_3$Species <- as.factor(iris_table_3$Species)"
   ]
  },
  {
   "cell_type": "code",
   "execution_count": null,
   "metadata": {},
   "outputs": [],
   "source": [
    "head(iris_table_3)"
   ]
  },
  {
   "cell_type": "markdown",
   "metadata": {},
   "source": [
    "Another convenient function is `list.files()`, which you can use with a wildcard (`*`) to return a list of all files in a directory (specified in `path =`) that start with `iris_`:"
   ]
  },
  {
   "cell_type": "code",
   "execution_count": null,
   "metadata": {},
   "outputs": [],
   "source": [
    "list.files(path = '~', pattern = 'iris_*')"
   ]
  },
  {
   "cell_type": "markdown",
   "metadata": {},
   "source": [
    "# R packages\n",
    "- Although R comes with many built in functions, you will probably want to install and use various R packages.\n",
    "- You can install the packages using `install.packages('package_name_here')` (where you would replace 'package_name_here' with your package of choice, in quotes). \n",
    "- This will download the package and any additional required dependencies. \n",
    "- Run the next cell to install the `ggplot2` package:"
   ]
  },
  {
   "cell_type": "code",
   "execution_count": null,
   "metadata": {},
   "outputs": [],
   "source": [
    "install.packages('ggplot2')"
   ]
  },
  {
   "cell_type": "markdown",
   "metadata": {},
   "source": [
    "Before you can actually use the package, you have to load it as follows:"
   ]
  },
  {
   "cell_type": "code",
   "execution_count": null,
   "metadata": {},
   "outputs": [],
   "source": [
    "library('ggplot2')"
   ]
  },
  {
   "cell_type": "markdown",
   "metadata": {},
   "source": [
    "### Most R packages are found in CRAN - the central repository for R packages. However, packages can be found in different places. Many of the packages of interest for biologists will be in Bioconductor. \n",
    "\n",
    "There are two steps to downloading a package from Bioconductor -- first, install BiocManager."
   ]
  },
  {
   "cell_type": "code",
   "execution_count": null,
   "metadata": {},
   "outputs": [],
   "source": [
    "install.packages(\"BiocManager\")"
   ]
  },
  {
   "cell_type": "markdown",
   "metadata": {},
   "source": [
    "Then, load `BiocManager` and use `BiocManager::install()` to install a package."
   ]
  },
  {
   "cell_type": "code",
   "execution_count": null,
   "metadata": {},
   "outputs": [],
   "source": [
    "library('BiocManager')\n",
    "BiocManager::install(\"org.Hs.eg.db\")"
   ]
  },
  {
   "cell_type": "markdown",
   "metadata": {},
   "source": [
    "Use the `sessionInfo()` function to see more information about your loaded R packages and namespace:"
   ]
  },
  {
   "cell_type": "code",
   "execution_count": null,
   "metadata": {},
   "outputs": [],
   "source": [
    "print(sessionInfo())"
   ]
  },
  {
   "cell_type": "markdown",
   "metadata": {},
   "source": [
    "# If we have time, we can talk about some `apply()` functions: (Appendix) "
   ]
  },
  {
   "cell_type": "markdown",
   "metadata": {},
   "source": [
    "## The `apply()` functions\n",
    "- R uses a family of `apply()` functions to repetitively manipulate objects while avoiding for loops. \n",
    "- How you use them will depend on the format of your data and what operations you're trying to perform.\n",
    "- We will talk about `apply()`, `lapply()`, and `sapply()`.\n",
    "- There is also `mapply()`, `vapply()`, `rapply()`, and `tapply()`, but we won't talk about those today.\n",
    "\n",
    "- **`apply()`** Applies a function to an array (or matrix) and returns an array (or matrix)\n",
    "- **`lapply()`** Applies a function to each element of a list or vector and returns a list\n",
    "- **`sapply()`** Applies a function to each element of a list or vector and returns a vector\n"
   ]
  },
  {
   "cell_type": "markdown",
   "metadata": {},
   "source": [
    "### `apply()` \n",
    "- `apply()` applies a function to an array (or matrix) and returns an array (or matrix)\n",
    "- The general format of an `apply()` call is as follows:\n",
    "\n",
    "```\n",
    "apply(X, MARGIN, FUN, ...)\n",
    "\n",
    "```\n",
    "- `X` is the array or matrix to apply the function\n",
    "- `MARGIN` is where the function should be applied - `1` is for rows, `2` is for columns, `c(1,2)` is rows and columns, can also be a character vector of dimension names if `X` has dimnames.\n",
    "- `FUN` Function to be applied\n",
    "Let's go back to the dice rolling function:"
   ]
  },
  {
   "cell_type": "code",
   "execution_count": null,
   "metadata": {},
   "outputs": [],
   "source": [
    "rolled_dice <- roll(number_of_rolls = 10, number_of_sides = 20, number_of_dice = 5)"
   ]
  },
  {
   "cell_type": "code",
   "execution_count": null,
   "metadata": {},
   "outputs": [],
   "source": [
    "print(rolled_dice)"
   ]
  },
  {
   "cell_type": "code",
   "execution_count": null,
   "metadata": {},
   "outputs": [],
   "source": [
    "class(rolled_dice)"
   ]
  },
  {
   "cell_type": "markdown",
   "metadata": {},
   "source": [
    "I'm going to name the rows and columns using the `paste()` and `dimnames()`:"
   ]
  },
  {
   "cell_type": "code",
   "execution_count": null,
   "metadata": {},
   "outputs": [],
   "source": [
    "dimnames(rolled_dice) <- list(\n",
    "paste('roll', 1:5, sep = '_'),\n",
    "    paste('die', 1:10, sep = '_'))\n",
    "\n",
    "print(rolled_dice)"
   ]
  },
  {
   "cell_type": "markdown",
   "metadata": {},
   "source": [
    "Let's try using `apply()` to increase every value by 1:"
   ]
  },
  {
   "cell_type": "code",
   "execution_count": null,
   "metadata": {},
   "outputs": [],
   "source": [
    "add_one <- apply(rolled_dice, c(1,2), function(element) element + 1)\n",
    "class(add_one)\n",
    "print(add_one)"
   ]
  },
  {
   "cell_type": "markdown",
   "metadata": {},
   "source": [
    "- The `c(1,2)` argument to `apply()` means that the function should apply to all rows and columns.\n",
    "- What about if we use apply to calculate sums for each row and column?"
   ]
  },
  {
   "cell_type": "markdown",
   "metadata": {},
   "source": [
    "If we use `1` it will apply the function to each row:"
   ]
  },
  {
   "cell_type": "code",
   "execution_count": null,
   "metadata": {},
   "outputs": [],
   "source": [
    "row_sums <- apply(rolled_dice, 1, function(element) sum(element))\n",
    "print(row_sums)       "
   ]
  },
  {
   "cell_type": "code",
   "execution_count": null,
   "metadata": {},
   "outputs": [],
   "source": [
    "If we use `2` it will apply the function to each column:"
   ]
  },
  {
   "cell_type": "code",
   "execution_count": null,
   "metadata": {},
   "outputs": [],
   "source": [
    "col_sums <- apply(rolled_dice, 2, function(element) sum(element))\n",
    "print(col_sums) "
   ]
  },
  {
   "cell_type": "markdown",
   "metadata": {},
   "source": [
    "### `lapply()`"
   ]
  },
  {
   "cell_type": "markdown",
   "metadata": {},
   "source": [
    "- `lapply()` works on lists and returns a list.\n",
    "- Since a data frame is a series of lists, if you apply it to a data frame it will execute the function on each column of the data frame.\n",
    "- The general format is as follows:\n",
    "\n",
    "```\n",
    "lapply(X, FUN)\n",
    "\n",
    "```\n",
    "- `X`  A vector or an object\n",
    "- `FUN` Function applied to each element of X\n"
   ]
  },
  {
   "cell_type": "code",
   "execution_count": null,
   "metadata": {},
   "outputs": [],
   "source": [
    "rolled_dice_df <- as.data.frame(rolled_dice)\n",
    "class(rolled_dice_df)"
   ]
  },
  {
   "cell_type": "code",
   "execution_count": null,
   "metadata": {},
   "outputs": [],
   "source": [
    "print(rolled_dice_df)"
   ]
  },
  {
   "cell_type": "code",
   "execution_count": null,
   "metadata": {},
   "outputs": [],
   "source": [
    "col_sums_df <- lapply(rolled_dice_df, sum)"
   ]
  },
  {
   "cell_type": "code",
   "execution_count": null,
   "metadata": {},
   "outputs": [],
   "source": [
    "str(col_sums_df)"
   ]
  },
  {
   "cell_type": "code",
   "execution_count": null,
   "metadata": {},
   "outputs": [],
   "source": [
    "rolled_dice"
   ]
  },
  {
   "cell_type": "markdown",
   "metadata": {},
   "source": [
    "However, if you use `lapply()` to calculate sums on the `rolled_dice` matrix, you get back a very long list (since `lapply()` wants to return a list)."
   ]
  },
  {
   "cell_type": "code",
   "execution_count": null,
   "metadata": {},
   "outputs": [],
   "source": [
    "class(rolled_dice)"
   ]
  },
  {
   "cell_type": "code",
   "execution_count": null,
   "metadata": {},
   "outputs": [],
   "source": [
    "col_sums <- lapply(rolled_dice, sum)\n",
    "str(col_sums)"
   ]
  },
  {
   "cell_type": "markdown",
   "metadata": {},
   "source": [
    "### `sapply`"
   ]
  },
  {
   "cell_type": "code",
   "execution_count": null,
   "metadata": {},
   "outputs": [],
   "source": [
    "- `sapply()` is similar to `lapply()`, but it returns a vector rather than a list.\n",
    "- The general format for an `sapply()` call is as follows:\n",
    "\n",
    "```\n",
    "sapply(X, FUN)\n",
    "\n",
    "```\n",
    "- `X`  A vector or an object\n",
    "- `FUN` Function applied to each element of x"
   ]
  },
  {
   "cell_type": "code",
   "execution_count": null,
   "metadata": {},
   "outputs": [],
   "source": [
    "col_sums_df <- sapply(rolled_dice_df, sum)"
   ]
  },
  {
   "cell_type": "code",
   "execution_count": null,
   "metadata": {},
   "outputs": [],
   "source": [
    "class(col_sums_df)\n",
    "is.vector(col_sums_df)"
   ]
  },
  {
   "cell_type": "code",
   "execution_count": null,
   "metadata": {},
   "outputs": [],
   "source": [
    "print(col_sums_df)"
   ]
  },
  {
   "cell_type": "markdown",
   "metadata": {},
   "source": [
    "# Data Wrangling and Tidyverse (Different notebook!) \n",
    "\n",
    "In this section you'll learn principles behind exploratory data analysis and visualization, including tidying and transforming data to answer questions you might want to ask. \n",
    "\n",
    "## Some useful notes\n",
    "\n",
    "With Jupyter Notebook you can get a nice popup of function definitions just like you can in RStudio. Simply navigate to a cell or start a new one, and enter in ?function like you would normally. A popup will appear.\n",
    "\n",
    "You should see an Insert dropdown menu and Run button at the top which lets you add cells as well as run code or render Markdown in the cells, but these are very useful keyboard shortcuts for the same functions: \n",
    "\n",
    "- Shift+Enter: Run code or render Markdown in the current cell you're on\n",
    "- Esc+a: Add a cell above\n",
    "- Esc+b: Add a cell below\n",
    "- Esc+dd: Delete a cell"
   ]
  },
  {
   "cell_type": "markdown",
   "metadata": {},
   "source": [
    "## Package prerequisites \n",
    "\n",
    "Packages that required in this workshop are tidyverse, which includes the packages ggplot2, dplyr, purrr, and others, gridExtra which helps with arranging plots next to each other, ggrepel which helps with plot labels and maps which is for map data. "
   ]
  },
  {
   "cell_type": "code",
   "execution_count": null,
   "metadata": {},
   "outputs": [],
   "source": [
    "library(tidyverse)\n",
    "library(gridExtra)\n",
    "library(ggrepel)\n",
    "library(maps)"
   ]
  },
  {
   "cell_type": "markdown",
   "metadata": {},
   "source": [
    "If you get an error message “there is no package called ‘xyz’” then you need to install the packages first. (They should have been preloaded on your notebooks but if not it's ok, it won't take long.)"
   ]
  },
  {
   "cell_type": "code",
   "execution_count": 10,
   "metadata": {},
   "outputs": [],
   "source": [
    "#install.packages('tidyverse')\n",
    "#install.packages('pillar')\n",
    "#install.packages('gridExtra')\n",
    "#install.packages('ggrepel')\n",
    "#install.packages('map')"
   ]
  },
  {
   "cell_type": "markdown",
   "metadata": {},
   "source": [
    "# Tidying Data\n",
    "\n",
    "Most datasets are data frames made up of rows and columns. However, talking about data frames just in terms of what rows and columns it has is not enough.\n",
    "\n",
    " * **Variable:** quantity, quality, property that can be measured.\n",
    " * **Value:** State of variable when measured.\n",
    " * **Observation:** Set of measurements made under similar conditions\n",
    " * **Tabular data:** Set of values, each associated with a variable and an observation.\n",
    "\n",
    "Tidy data:\n",
    " * Each variable is its own column\n",
    " * Each observation is its own row\n",
    " * Each value is in a single cell\n",
    " \n",
    "Benefits:\n",
    " * Easy to manipulate\n",
    " * Easy to model\n",
    " * Easy to visualize\n",
    " * Has a specific and consistent structure\n",
    " * Stucture makes it easy to tidy other data\n",
    " \n",
    "Cons:\n",
    " * Data frame is not as easy to look at\n",
    "\n",
    "Consider the following tables:"
   ]
  },
  {
   "cell_type": "code",
   "execution_count": 13,
   "metadata": {},
   "outputs": [
    {
     "data": {
      "text/html": [
       "<table class=\"dataframe\">\n",
       "<caption>A data.frame: 6 × 4</caption>\n",
       "<thead>\n",
       "\t<tr><th scope=col>makemodel</th><th scope=col>year</th><th scope=col>cty</th><th scope=col>hwy</th></tr>\n",
       "\t<tr><th scope=col>&lt;chr&gt;</th><th scope=col>&lt;dbl&gt;</th><th scope=col>&lt;dbl&gt;</th><th scope=col>&lt;dbl&gt;</th></tr>\n",
       "</thead>\n",
       "<tbody>\n",
       "\t<tr><td>audi a4           </td><td>1999</td><td>18</td><td>29</td></tr>\n",
       "\t<tr><td>audi a4           </td><td>2008</td><td>21</td><td>30</td></tr>\n",
       "\t<tr><td>chevrolet corvette</td><td>1999</td><td>15</td><td>23</td></tr>\n",
       "\t<tr><td>chevrolet corvette</td><td>2008</td><td>15</td><td>25</td></tr>\n",
       "\t<tr><td>honda civic       </td><td>1999</td><td>24</td><td>32</td></tr>\n",
       "\t<tr><td>honda civic       </td><td>2008</td><td>25</td><td>36</td></tr>\n",
       "</tbody>\n",
       "</table>\n"
      ],
      "text/latex": [
       "A data.frame: 6 × 4\n",
       "\\begin{tabular}{llll}\n",
       " makemodel & year & cty & hwy\\\\\n",
       " <chr> & <dbl> & <dbl> & <dbl>\\\\\n",
       "\\hline\n",
       "\t audi a4            & 1999 & 18 & 29\\\\\n",
       "\t audi a4            & 2008 & 21 & 30\\\\\n",
       "\t chevrolet corvette & 1999 & 15 & 23\\\\\n",
       "\t chevrolet corvette & 2008 & 15 & 25\\\\\n",
       "\t honda civic        & 1999 & 24 & 32\\\\\n",
       "\t honda civic        & 2008 & 25 & 36\\\\\n",
       "\\end{tabular}\n"
      ],
      "text/markdown": [
       "\n",
       "A data.frame: 6 × 4\n",
       "\n",
       "| makemodel &lt;chr&gt; | year &lt;dbl&gt; | cty &lt;dbl&gt; | hwy &lt;dbl&gt; |\n",
       "|---|---|---|---|\n",
       "| audi a4            | 1999 | 18 | 29 |\n",
       "| audi a4            | 2008 | 21 | 30 |\n",
       "| chevrolet corvette | 1999 | 15 | 23 |\n",
       "| chevrolet corvette | 2008 | 15 | 25 |\n",
       "| honda civic        | 1999 | 24 | 32 |\n",
       "| honda civic        | 2008 | 25 | 36 |\n",
       "\n"
      ],
      "text/plain": [
       "  makemodel          year cty hwy\n",
       "1 audi a4            1999 18  29 \n",
       "2 audi a4            2008 21  30 \n",
       "3 chevrolet corvette 1999 15  23 \n",
       "4 chevrolet corvette 2008 15  25 \n",
       "5 honda civic        1999 24  32 \n",
       "6 honda civic        2008 25  36 "
      ]
     },
     "metadata": {},
     "output_type": "display_data"
    }
   ],
   "source": [
    "table1 <- data.frame(makemodel=c(\"audi a4\",\"audi a4\",\"chevrolet corvette\",\"chevrolet corvette\",\"honda civic\",\"honda civic\"),\n",
    "                    year=rep(c(1999,2008),3),\n",
    "                    cty=c(18,21,15,15,24,25),\n",
    "                    hwy=c(29,30,23,25,32,36))\n",
    "table1"
   ]
  },
  {
   "cell_type": "markdown",
   "metadata": {},
   "source": [
    "This is tidy data, because each column is a variable, each observation is a row, and each value is in a single cell\n",
    "\n",
    "Next we will look at some non-tidy data and operations from the **tidyr** package (part of **tidyverse**) to make the data tidy. Many of you might be more used to using operations from **reshape2**, like melting and casting. It's a very useful package with more functionality including aggregating data, but syntax with **tidyr** commands is more simpler and intuitive for the purposes of tidying data."
   ]
  },
  {
   "cell_type": "markdown",
   "metadata": {},
   "source": [
    "## Gathering"
   ]
  },
  {
   "cell_type": "code",
   "execution_count": 14,
   "metadata": {},
   "outputs": [
    {
     "data": {
      "text/html": [
       "<table class=\"dataframe\">\n",
       "<caption>A data.frame: 3 × 3</caption>\n",
       "<thead>\n",
       "\t<tr><th scope=col>makemodel</th><th scope=col>1999</th><th scope=col>2008</th></tr>\n",
       "\t<tr><th scope=col>&lt;chr&gt;</th><th scope=col>&lt;dbl&gt;</th><th scope=col>&lt;dbl&gt;</th></tr>\n",
       "</thead>\n",
       "<tbody>\n",
       "\t<tr><td>audi a4           </td><td>18</td><td>21</td></tr>\n",
       "\t<tr><td>chevrolet corvette</td><td>15</td><td>15</td></tr>\n",
       "\t<tr><td>honda civic       </td><td>24</td><td>25</td></tr>\n",
       "</tbody>\n",
       "</table>\n"
      ],
      "text/latex": [
       "A data.frame: 3 × 3\n",
       "\\begin{tabular}{lll}\n",
       " makemodel & 1999 & 2008\\\\\n",
       " <chr> & <dbl> & <dbl>\\\\\n",
       "\\hline\n",
       "\t audi a4            & 18 & 21\\\\\n",
       "\t chevrolet corvette & 15 & 15\\\\\n",
       "\t honda civic        & 24 & 25\\\\\n",
       "\\end{tabular}\n"
      ],
      "text/markdown": [
       "\n",
       "A data.frame: 3 × 3\n",
       "\n",
       "| makemodel &lt;chr&gt; | 1999 &lt;dbl&gt; | 2008 &lt;dbl&gt; |\n",
       "|---|---|---|\n",
       "| audi a4            | 18 | 21 |\n",
       "| chevrolet corvette | 15 | 15 |\n",
       "| honda civic        | 24 | 25 |\n",
       "\n"
      ],
      "text/plain": [
       "  makemodel          1999 2008\n",
       "1 audi a4            18   21  \n",
       "2 chevrolet corvette 15   15  \n",
       "3 honda civic        24   25  "
      ]
     },
     "metadata": {},
     "output_type": "display_data"
    },
    {
     "data": {
      "text/html": [
       "<table class=\"dataframe\">\n",
       "<caption>A data.frame: 3 × 3</caption>\n",
       "<thead>\n",
       "\t<tr><th scope=col>makemodel</th><th scope=col>1999</th><th scope=col>2008</th></tr>\n",
       "\t<tr><th scope=col>&lt;chr&gt;</th><th scope=col>&lt;dbl&gt;</th><th scope=col>&lt;dbl&gt;</th></tr>\n",
       "</thead>\n",
       "<tbody>\n",
       "\t<tr><td>audi a4           </td><td>29</td><td>30</td></tr>\n",
       "\t<tr><td>chevrolet corvette</td><td>23</td><td>25</td></tr>\n",
       "\t<tr><td>honda civic       </td><td>32</td><td>36</td></tr>\n",
       "</tbody>\n",
       "</table>\n"
      ],
      "text/latex": [
       "A data.frame: 3 × 3\n",
       "\\begin{tabular}{lll}\n",
       " makemodel & 1999 & 2008\\\\\n",
       " <chr> & <dbl> & <dbl>\\\\\n",
       "\\hline\n",
       "\t audi a4            & 29 & 30\\\\\n",
       "\t chevrolet corvette & 23 & 25\\\\\n",
       "\t honda civic        & 32 & 36\\\\\n",
       "\\end{tabular}\n"
      ],
      "text/markdown": [
       "\n",
       "A data.frame: 3 × 3\n",
       "\n",
       "| makemodel &lt;chr&gt; | 1999 &lt;dbl&gt; | 2008 &lt;dbl&gt; |\n",
       "|---|---|---|\n",
       "| audi a4            | 29 | 30 |\n",
       "| chevrolet corvette | 23 | 25 |\n",
       "| honda civic        | 32 | 36 |\n",
       "\n"
      ],
      "text/plain": [
       "  makemodel          1999 2008\n",
       "1 audi a4            29   30  \n",
       "2 chevrolet corvette 23   25  \n",
       "3 honda civic        32   36  "
      ]
     },
     "metadata": {},
     "output_type": "display_data"
    }
   ],
   "source": [
    "table2a <- data.frame(makemodel=c(\"audi a4\",\"chevrolet corvette\",\"honda civic\"),`1999`=c(18,15,24),'2008'=c(21,15,25),check.names=FALSE)\n",
    "table2b <- data.frame(makemodel=c(\"audi a4\",\"chevrolet corvette\",\"honda civic\"),`1999`=c(29,23,32),'2008'=c(30,25,36),check.names=FALSE)\n",
    "table2a\n",
    "table2b"
   ]
  },
  {
   "cell_type": "markdown",
   "metadata": {},
   "source": [
    "`table2a` column names `1999` and `2008` represent values of `year` variable. `table2b` is the same. Each row represents 2 observations, not 1. Need to gather columns into new pair of variables.\n",
    "\n",
    "Parameters:\n",
    " * Set of columns that represent values, not variables.\n",
    " * `key`: name of variable whose values are currently column names.\n",
    " * `value`: name of variable whose values are currently spread out across multiple columns.\n",
    "\n",
    "Experiments often report data in the format of `table4a` and `table4b`. One reason is for presentation purposes it's very easy to look at. Another is storage is efficient for completely crossed designs and can allow matrix operations."
   ]
  },
  {
   "cell_type": "code",
   "execution_count": null,
   "metadata": {},
   "outputs": [],
   "source": [
    "tidy2a <- gather(table2a,`1999`,`2008`,key=\"year\",value=\"cty\")\n",
    "tidy2a"
   ]
  },
  {
   "cell_type": "code",
   "execution_count": null,
   "metadata": {},
   "outputs": [],
   "source": [
    "tidy2b <- gather(table2b, `1999`, `2008`, key = \"year\", value = \"hwy\")\n",
    "tidy2b"
   ]
  },
  {
   "cell_type": "markdown",
   "metadata": {},
   "source": [
    "Merge tables using `left_join()` (many other types of [table joins](https://dplyr.tidyverse.org/reference/join.html) as well)"
   ]
  },
  {
   "cell_type": "code",
   "execution_count": null,
   "metadata": {},
   "outputs": [],
   "source": [
    "right_join(tidy2a,tidy2b)"
   ]
  },
  {
   "cell_type": "markdown",
   "metadata": {},
   "source": [
    "## Spreading"
   ]
  },
  {
   "cell_type": "code",
   "execution_count": null,
   "metadata": {},
   "outputs": [],
   "source": [
    "table3 <- data.frame(makemodel=c(rep(\"audi a4\",4),rep(\"chevrolet corvette\",4),rep(\"honda civic\",4)),\n",
    "                    year=rep(c(1999,1999,2008,2008),3),\n",
    "                    type=rep(c(\"cty\",\"hwy\"),6),\n",
    "                     mileage=c(18,29,21,30,15,23,15,25,24,32,25,36))\n",
    "table3"
   ]
  },
  {
   "cell_type": "markdown",
   "metadata": {},
   "source": [
    "`table3` has each observation in two rows. Need to spread observations across columns with appropriate variable names instead.\n",
    "\n",
    "Parameters:\n",
    " * `key`: Column that contains variable names.\n",
    " * `value`: Column that contains values for each variable."
   ]
  },
  {
   "cell_type": "code",
   "execution_count": null,
   "metadata": {},
   "outputs": [],
   "source": [
    "spread(table3, key=type,value=mileage)"
   ]
  },
  {
   "cell_type": "markdown",
   "metadata": {},
   "source": [
    "### Exercises\n",
    "\n",
    "1. Consider the example below, where we spread and then gather observations from the same columns in `stocks`. Why are `gather()` and `spread()` not perfectly symmetrical? (Hint: look at the variable types and column names)"
   ]
  },
  {
   "cell_type": "code",
   "execution_count": 15,
   "metadata": {},
   "outputs": [
    {
     "ename": "ERROR",
     "evalue": "Error in tibble(year = c(2015, 2015, 2016, 2016), half = c(1, 2, 1, 2), : could not find function \"tibble\"\n",
     "output_type": "error",
     "traceback": [
      "Error in tibble(year = c(2015, 2015, 2016, 2016), half = c(1, 2, 1, 2), : could not find function \"tibble\"\nTraceback:\n"
     ]
    }
   ],
   "source": [
    "stocks <- tibble(\n",
    "  year   = c(2015, 2015, 2016, 2016),\n",
    "  half  = c(   1,    2,     1,    2),\n",
    "  return = c(1.88, 0.59, 0.92, 0.17)\n",
    ")\n",
    "\n",
    "stocks\n",
    "\n",
    "stocks %>% \n",
    "  spread(year, return) %>% \n",
    "  gather(\"year\", \"return\", `2015`:`2016`)"
   ]
  },
  {
   "cell_type": "markdown",
   "metadata": {},
   "source": [
    "2. Why does the code below fail?"
   ]
  },
  {
   "cell_type": "code",
   "execution_count": null,
   "metadata": {},
   "outputs": [],
   "source": [
    "table4a %>% \n",
    "  gather(1999, 2000, key = \"year\", value = \"cases\")"
   ]
  },
  {
   "cell_type": "markdown",
   "metadata": {},
   "source": [
    "3. Why does spreading this tibble fail? How could you fix it?"
   ]
  },
  {
   "cell_type": "code",
   "execution_count": null,
   "metadata": {},
   "outputs": [],
   "source": [
    "people <- tribble(\n",
    "  ~name,             ~key,    ~value,\n",
    "  #-----------------|--------|------\n",
    "  \"Phillip Woods\",   \"age\",       45,\n",
    "  \"Phillip Woods\",   \"height\",   186,\n",
    "  \"Phillip Woods\",   \"age\",       50,\n",
    "  \"Jessica Cordero\", \"age\",       37,\n",
    "  \"Jessica Cordero\", \"height\",   156\n",
    ")"
   ]
  },
  {
   "cell_type": "markdown",
   "metadata": {},
   "source": [
    "## Separating"
   ]
  },
  {
   "cell_type": "code",
   "execution_count": null,
   "metadata": {},
   "outputs": [],
   "source": [
    "table4 <- data.frame(makemodel=c(\"audi a4\",\"audi a4\",\"chevrolet corvette\",\"chevrolet corvette\",\"honda civic\",\"honda civic\"),\n",
    "                     year=rep(c(1999,2008),3),\n",
    "                    mileages=c('18/29','21/30','15/23','15/25','24/32','25/36'))\n",
    "table4"
   ]
  },
  {
   "cell_type": "markdown",
   "metadata": {},
   "source": [
    "`table4` has `mileages` column that actually contains two variables (`cty` and `hwy`). Need to separate into two columns.\n",
    "\n",
    "Parameters:\n",
    " * column/variable that needs to be separated.\n",
    " * `into`: columns to split into\n",
    " * `sep`: separator value. Can be regexp or positions to split at. If not provided then splits at non-alphanumeric characters."
   ]
  },
  {
   "cell_type": "code",
   "execution_count": 17,
   "metadata": {},
   "outputs": [
    {
     "ename": "ERROR",
     "evalue": "Error in separate(table4, mileages, into = c(\"cty\", \"hwy\"), sep = \"/\"): could not find function \"separate\"\n",
     "output_type": "error",
     "traceback": [
      "Error in separate(table4, mileages, into = c(\"cty\", \"hwy\"), sep = \"/\"): could not find function \"separate\"\nTraceback:\n"
     ]
    }
   ],
   "source": [
    "separate(table4, mileages, into = c(\"cty\", \"hwy\"), sep=\"/\")"
   ]
  },
  {
   "cell_type": "code",
   "execution_count": null,
   "metadata": {},
   "outputs": [],
   "source": [
    "sep <- separate(table4, makemodel, into = c(\"make\", \"model\"), sep = ' ')\n",
    "sep"
   ]
  },
  {
   "cell_type": "markdown",
   "metadata": {},
   "source": [
    "## Uniting\n",
    "\n",
    "Now `sep` has `make` and `model` columns that can be combined into a single column. In other words, we want to unite them.\n",
    "\n",
    "Parameters:\n",
    " * Name of united column/variable\n",
    " * Names of columns/variables to be united\n",
    " * `sep`: Separator value. Default is '_'\n",
    "\n"
   ]
  },
  {
   "cell_type": "code",
   "execution_count": null,
   "metadata": {},
   "outputs": [],
   "source": [
    "unite(sep, new, make, model)"
   ]
  },
  {
   "cell_type": "code",
   "execution_count": null,
   "metadata": {},
   "outputs": [],
   "source": [
    "unite(sep, makemodel, make, model, sep=' ')"
   ]
  },
  {
   "cell_type": "markdown",
   "metadata": {},
   "source": [
    "## Piping\n",
    "\n",
    "**dplyr** from **tidyverse** contains the 'pipe' (`%>%`) which allows you to combine multiple operations, directly taking output from a funtion as input to the next. Can save time and memory as well as make code easier to read. Can think of it this way: `x %>% f(y)` becomes `f(x,y)`, and `x %>% f(y) %>% g(z)` becomes `g(f(x,y),z)`, etc."
   ]
  },
  {
   "cell_type": "code",
   "execution_count": null,
   "metadata": {},
   "outputs": [],
   "source": [
    "unite(sep, makemodel, make, model, sep=' ') %>%\n",
    "    separate(mileages, into=c(\"cty\",\"hwy\"))"
   ]
  },
  {
   "cell_type": "markdown",
   "metadata": {},
   "source": [
    "### Exercises\n",
    "\n",
    "1. What do the `extra` and `fill` arguments do in `separate()`? Experiment with the various options for the following two toy datasets."
   ]
  },
  {
   "cell_type": "code",
   "execution_count": null,
   "metadata": {},
   "outputs": [],
   "source": [
    "tibble(x = c(\"a,b,c\", \"d,e,f,g\", \"h,i,j\")) %>% \n",
    "  separate(x, c(\"one\", \"two\", \"three\"))\n",
    "\n",
    "tibble(x = c(\"a,b,c\", \"d,e\", \"f,g,i\")) %>% \n",
    "  separate(x, c(\"one\", \"two\", \"three\"))"
   ]
  },
  {
   "cell_type": "markdown",
   "metadata": {},
   "source": [
    "## Not all data should be tidy\n",
    "\n",
    "Matrices, phylogenetic trees (although `ggtree` and `treeio` have tidy representations that help with annotating trees), etc."
   ]
  },
  {
   "cell_type": "markdown",
   "metadata": {},
   "source": [
    "# Transforming (Tidy) Data\n",
    "\n",
    "Now we know how to get tidy data. At this point we can already start visualizing our data. However in many cases we will need to further transform our data to narrow down variables and observations we are really interested in or to create new variables that are functions of our existing variables and data. This is known as **transforming** data.\n",
    "\n",
    " * `filter()` to pick observations (rows) by their values\n",
    " * `arrange()` to reorder rows, default is by ascending value\n",
    " * `select()` to pick variables (columns) by their names\n",
    " * `mutate()` to create new variables with functions of existing variables\n",
    " * `summarise()` to collapes many values down to a single summary\n",
    " * `group_by()` to set up functions to operate on groups rather than the whole data set\n",
    " * `%>%` propagates the output from a function as input to another. eg: x %>% f(y) becomes f(x,y), and x %>% f(y) %>% g(z) becomes g(f(x,y),z).\n",
    " \n",
    "All functions have similar structure:\n",
    " 1. First argument is data frame\n",
    " 2. Next arguments describe what to do with data frame using variable names\n",
    " 3. Result is new data frame\n",
    " \n",
    "Will be working with data frame **mpg** for rest of workshop which comes with the **tidyverse** library."
   ]
  },
  {
   "cell_type": "code",
   "execution_count": null,
   "metadata": {},
   "outputs": [],
   "source": [
    "head(mpg)"
   ]
  },
  {
   "cell_type": "markdown",
   "metadata": {},
   "source": [
    "## `filter()` rows/observations\n",
    "\n",
    "As name suggests filters out rows. First argument is name of data frame, next arguments are expressions that filter the data frame."
   ]
  },
  {
   "cell_type": "code",
   "execution_count": null,
   "metadata": {},
   "outputs": [],
   "source": [
    "# filter out 2seater cars\n",
    "no_2seaters <- filter(mpg, class != \"2seater\")\n",
    "head(no_2seaters)"
   ]
  },
  {
   "cell_type": "code",
   "execution_count": null,
   "metadata": {},
   "outputs": [],
   "source": [
    "# filter out audis, chevys, and hondas\n",
    "mpg %>% filter(!manufacturer %in% c(\"audi\",\"chevrolet\",\"honda\")) %>% head"
   ]
  },
  {
   "cell_type": "markdown",
   "metadata": {},
   "source": [
    "## `arrange()` rows/observations\n",
    "\n",
    "Changes order of rows. First argument is name of data frame, next arguments are column names (or more complicated expressions) to order by. Default column ordering is by ascending order, can use `desc()` to do descending order. Missing values get sorted at the end regardless of what column ordering is chosen."
   ]
  },
  {
   "cell_type": "code",
   "execution_count": null,
   "metadata": {},
   "outputs": [],
   "source": [
    "# arrange/reorder mpg by class\n",
    "arrange(mpg, class) %>% head"
   ]
  },
  {
   "cell_type": "code",
   "execution_count": null,
   "metadata": {},
   "outputs": [],
   "source": [
    "# arrange/reorder data frame with 2seaters filtered out by class\n",
    "# 2seaters does not appear which is as it should be\n",
    "arrange(no_2seaters, class) %>% head"
   ]
  },
  {
   "cell_type": "markdown",
   "metadata": {},
   "source": [
    "What kinds of cars have the best highway and city gas mileage?"
   ]
  },
  {
   "cell_type": "code",
   "execution_count": 19,
   "metadata": {},
   "outputs": [
    {
     "ename": "ERROR",
     "evalue": "Error in arrange(mpg, desc(hwy), desc(cty)) %>% head: could not find function \"%>%\"\n",
     "output_type": "error",
     "traceback": [
      "Error in arrange(mpg, desc(hwy), desc(cty)) %>% head: could not find function \"%>%\"\nTraceback:\n"
     ]
    }
   ],
   "source": [
    "# arrange mpg so that first hwy mileage is by descending order, then cty mileage is by descending order\n",
    "arrange(mpg, desc(hwy), desc(cty)) %>% head"
   ]
  },
  {
   "cell_type": "markdown",
   "metadata": {},
   "source": [
    "Example of missing data getting placed at bottom."
   ]
  },
  {
   "cell_type": "code",
   "execution_count": 20,
   "metadata": {},
   "outputs": [
    {
     "data": {
      "text/html": [
       "<table class=\"dataframe\">\n",
       "<caption>A data.frame: 4 × 1</caption>\n",
       "<thead>\n",
       "\t<tr><th scope=col>x</th></tr>\n",
       "\t<tr><th scope=col>&lt;dbl&gt;</th></tr>\n",
       "</thead>\n",
       "<tbody>\n",
       "\t<tr><td> 5</td></tr>\n",
       "\t<tr><td> 2</td></tr>\n",
       "\t<tr><td>NA</td></tr>\n",
       "\t<tr><td> 6</td></tr>\n",
       "</tbody>\n",
       "</table>\n"
      ],
      "text/latex": [
       "A data.frame: 4 × 1\n",
       "\\begin{tabular}{l}\n",
       " x\\\\\n",
       " <dbl>\\\\\n",
       "\\hline\n",
       "\t  5\\\\\n",
       "\t  2\\\\\n",
       "\t NA\\\\\n",
       "\t  6\\\\\n",
       "\\end{tabular}\n"
      ],
      "text/markdown": [
       "\n",
       "A data.frame: 4 × 1\n",
       "\n",
       "| x &lt;dbl&gt; |\n",
       "|---|\n",
       "|  5 |\n",
       "|  2 |\n",
       "| NA |\n",
       "|  6 |\n",
       "\n"
      ],
      "text/plain": [
       "  x \n",
       "1  5\n",
       "2  2\n",
       "3 NA\n",
       "4  6"
      ]
     },
     "metadata": {},
     "output_type": "display_data"
    }
   ],
   "source": [
    "df <- data.frame(x=c(5,2,NA,6))\n",
    "df"
   ]
  },
  {
   "cell_type": "code",
   "execution_count": 21,
   "metadata": {},
   "outputs": [
    {
     "ename": "ERROR",
     "evalue": "Error in arrange(df, x): could not find function \"arrange\"\n",
     "output_type": "error",
     "traceback": [
      "Error in arrange(df, x): could not find function \"arrange\"\nTraceback:\n"
     ]
    }
   ],
   "source": [
    "# arrange df by ascending order, NA will be at bottom\n",
    "arrange(df, x)"
   ]
  },
  {
   "cell_type": "code",
   "execution_count": 22,
   "metadata": {},
   "outputs": [
    {
     "ename": "ERROR",
     "evalue": "Error in arrange(df, desc(x)): could not find function \"arrange\"\n",
     "output_type": "error",
     "traceback": [
      "Error in arrange(df, desc(x)): could not find function \"arrange\"\nTraceback:\n"
     ]
    }
   ],
   "source": [
    "# arrange df by descending order, NA will be at bottom\n",
    "arrange(df, desc(x))"
   ]
  },
  {
   "cell_type": "code",
   "execution_count": 23,
   "metadata": {},
   "outputs": [
    {
     "ename": "ERROR",
     "evalue": "Error in arrange(df, !is.na(x)): could not find function \"arrange\"\n",
     "output_type": "error",
     "traceback": [
      "Error in arrange(df, !is.na(x)): could not find function \"arrange\"\nTraceback:\n"
     ]
    }
   ],
   "source": [
    "# rest of the values are unsorted because they are all T for !is.na(x)\n",
    "arrange(df,!is.na(x))"
   ]
  },
  {
   "cell_type": "code",
   "execution_count": 24,
   "metadata": {},
   "outputs": [
    {
     "ename": "ERROR",
     "evalue": "Error in arrange(df, !is.na(x), desc(x)): could not find function \"arrange\"\n",
     "output_type": "error",
     "traceback": [
      "Error in arrange(df, !is.na(x), desc(x)): could not find function \"arrange\"\nTraceback:\n"
     ]
    }
   ],
   "source": [
    "# can arrange by x again to get ascending order\n",
    "arrange(df,!is.na(x),desc(x))"
   ]
  },
  {
   "cell_type": "markdown",
   "metadata": {},
   "source": [
    "## `select()` columns/variables\n",
    "\n",
    "Selects columns, which can be useful when you have hundreds or thousands of variables in order to narrow down to what variables you're actually interested in. First argument is name of data frame, subsequent arguments are columns to select. Can use `a:b` to select all columns between `a` and `b`, or use `-a` to select all columns *except* a."
   ]
  },
  {
   "cell_type": "code",
   "execution_count": 25,
   "metadata": {},
   "outputs": [
    {
     "ename": "ERROR",
     "evalue": "Error in select(mpg, manufacturer, model, year, cty, hwy) %>% head: could not find function \"%>%\"\n",
     "output_type": "error",
     "traceback": [
      "Error in select(mpg, manufacturer, model, year, cty, hwy) %>% head: could not find function \"%>%\"\nTraceback:\n"
     ]
    }
   ],
   "source": [
    "# select manufacturer, model, year, cty, hwy\n",
    "select(mpg, manufacturer, model, year, cty, hwy) %>% head"
   ]
  },
  {
   "cell_type": "code",
   "execution_count": 26,
   "metadata": {},
   "outputs": [
    {
     "ename": "ERROR",
     "evalue": "Error in select(mpg, model:hwy) %>% head: could not find function \"%>%\"\n",
     "output_type": "error",
     "traceback": [
      "Error in select(mpg, model:hwy) %>% head: could not find function \"%>%\"\nTraceback:\n"
     ]
    }
   ],
   "source": [
    "# select all columns model thru hwy\n",
    "select(mpg, model:hwy) %>% head\n",
    "head(mpg)"
   ]
  },
  {
   "cell_type": "code",
   "execution_count": 27,
   "metadata": {},
   "outputs": [
    {
     "ename": "ERROR",
     "evalue": "Error in select(mpg, -(cyl:drv), -class) %>% head: could not find function \"%>%\"\n",
     "output_type": "error",
     "traceback": [
      "Error in select(mpg, -(cyl:drv), -class) %>% head: could not find function \"%>%\"\nTraceback:\n"
     ]
    }
   ],
   "source": [
    "# select all columns except cyl thru drv and class\n",
    "select(mpg, -(cyl:drv), -class) %>% head"
   ]
  },
  {
   "cell_type": "markdown",
   "metadata": {},
   "source": [
    "## `mutate()` to add new variables or `transmute()` to keep only new variables\n",
    "\n",
    "Adds new columns that are functions of existing columns. First argument is name of data frame, next arguments are of the form `new_column_name = f(existing columns)`."
   ]
  },
  {
   "cell_type": "code",
   "execution_count": 28,
   "metadata": {},
   "outputs": [
    {
     "ename": "ERROR",
     "evalue": "Error in mutate(mpg, avg_mileage = (cty + hwy)/2) %>% head: could not find function \"%>%\"\n",
     "output_type": "error",
     "traceback": [
      "Error in mutate(mpg, avg_mileage = (cty + hwy)/2) %>% head: could not find function \"%>%\"\nTraceback:\n"
     ]
    }
   ],
   "source": [
    "# add a new column that takes average mileage between city and highway\n",
    "mutate(mpg, avg_mileage = (cty+hwy)/2) %>% head"
   ]
  },
  {
   "cell_type": "code",
   "execution_count": 29,
   "metadata": {},
   "outputs": [
    {
     "ename": "ERROR",
     "evalue": "Error in transmute(mpg, cty, avg_mileage = (cty + hwy)/2) %>% head: could not find function \"%>%\"\n",
     "output_type": "error",
     "traceback": [
      "Error in transmute(mpg, cty, avg_mileage = (cty + hwy)/2) %>% head: could not find function \"%>%\"\nTraceback:\n"
     ]
    }
   ],
   "source": [
    "# keep only average mileage between city and highway\n",
    "transmute(mpg,cty,avg_mileage=(cty+hwy)/2) %>% head"
   ]
  },
  {
   "cell_type": "markdown",
   "metadata": {},
   "source": [
    "## `summarise()` and `group_by()` for grouped summaries\n",
    "\n",
    "`summarise()` collapses a data frame into a single row, and `group_by()` changes analysis from entire data frame into individual groups."
   ]
  },
  {
   "cell_type": "code",
   "execution_count": 30,
   "metadata": {},
   "outputs": [
    {
     "ename": "ERROR",
     "evalue": "Error in mutate(mpg, avg_mileage = (cty + hwy)/2): could not find function \"mutate\"\n",
     "output_type": "error",
     "traceback": [
      "Error in mutate(mpg, avg_mileage = (cty + hwy)/2): could not find function \"mutate\"\nTraceback:\n"
     ]
    }
   ],
   "source": [
    "# get average mileage grouped by engine cylinder\n",
    "m <- mutate(mpg, avg_mileage=(cty+hwy)/2)\n",
    "# behavior is actually different in R/RStudio compared to notebooks\n",
    "m %>% group_by(cyl) %>%\n",
    "    summarise(avg=mean(avg_mileage)) %>%\n",
    "    head"
   ]
  },
  {
   "cell_type": "markdown",
   "metadata": {},
   "source": [
    "**Note:** If you look at the output of `group_by` in R/RStudio you will actually be able to see what your groupings are as well as how many of them you have. For example if we did `group_by(mpg, cyl)` the output would include `cyl [4]` which shows that our grouping is by `cyl` and there are 4 groups. Jupyter notebook doesn't display this for reasons having to do with [how data frames are outputted](https://github.com/IRkernel/repr/issues/113). Some other differences exist between how certain objects from **tidyverse** are displayed as well."
   ]
  },
  {
   "cell_type": "code",
   "execution_count": 31,
   "metadata": {},
   "outputs": [
    {
     "ename": "ERROR",
     "evalue": "Error in group_by(m, drv) %>% summarise(avg = mean(avg_mileage)): could not find function \"%>%\"\n",
     "output_type": "error",
     "traceback": [
      "Error in group_by(m, drv) %>% summarise(avg = mean(avg_mileage)): could not find function \"%>%\"\nTraceback:\n"
     ]
    }
   ],
   "source": [
    "group_by(m, drv) %>%\n",
    "    summarise(avg=mean(avg_mileage))"
   ]
  },
  {
   "cell_type": "code",
   "execution_count": 32,
   "metadata": {},
   "outputs": [
    {
     "ename": "ERROR",
     "evalue": "Error in group_by(m, drv, cyl) %>% summarise(avg = mean(avg_mileage)) %>% : could not find function \"%>%\"\n",
     "output_type": "error",
     "traceback": [
      "Error in group_by(m, drv, cyl) %>% summarise(avg = mean(avg_mileage)) %>% : could not find function \"%>%\"\nTraceback:\n"
     ]
    }
   ],
   "source": [
    "# df after group_by would show that we have 9 groups\n",
    "drv_cyl <- group_by(m, drv, cyl) %>%\n",
    "    summarise(avg=mean(avg_mileage)) %>%\n",
    "    arrange(desc(avg))\n",
    "drv_cyl"
   ]
  },
  {
   "cell_type": "markdown",
   "metadata": {},
   "source": [
    "Can also run `ungroup` to ungroup your observations."
   ]
  },
  {
   "cell_type": "code",
   "execution_count": 33,
   "metadata": {},
   "outputs": [
    {
     "ename": "ERROR",
     "evalue": "Error in drv_cyl %>% summarise(max = max(avg)): could not find function \"%>%\"\n",
     "output_type": "error",
     "traceback": [
      "Error in drv_cyl %>% summarise(max = max(avg)): could not find function \"%>%\"\nTraceback:\n"
     ]
    }
   ],
   "source": [
    "drv_cyl %>% summarise(max=max(avg))"
   ]
  },
  {
   "cell_type": "code",
   "execution_count": 34,
   "metadata": {},
   "outputs": [
    {
     "ename": "ERROR",
     "evalue": "Error in ungroup(drv_cyl) %>% summarise(max = max(avg)): could not find function \"%>%\"\n",
     "output_type": "error",
     "traceback": [
      "Error in ungroup(drv_cyl) %>% summarise(max = max(avg)): could not find function \"%>%\"\nTraceback:\n"
     ]
    }
   ],
   "source": [
    "ungroup(drv_cyl) %>% summarise(max=max(avg))"
   ]
  },
  {
   "cell_type": "markdown",
   "metadata": {},
   "source": [
    "### Exercises (Appendix - also add a base R example to compare it to Tidyverse and show how clumsy it is) \n",
    "\n",
    "1. Find all cars that:\n",
    "    * Have an average gas mileage greater than 20mpg\n",
    "    * Have an automatic transmission\n",
    "    * Are 4-wheel drive\n",
    "    \n",
    "2. Earlier we computed the average mileage with an explicit formula by taking city mileage + highway mileage and dividing the sum by two. How can you do this without typing out the exact formula? What happens if there are `NA`s? Feel free to experiment on the dataframe `ex2_df` to arrive at an answer.\n",
    "    \n",
    "3. Find all cars grouped by manufacturer, model, cylinder, and auto/manual transmission that improved on gas mileage (either city, highway, or both, you choose) by at least 1mpg between 1999 and 2008. (This one might take some time, if you just look at city mileage you should end up with 26 rows in your data frame.)"
   ]
  },
  {
   "cell_type": "code",
   "execution_count": 35,
   "metadata": {},
   "outputs": [],
   "source": [
    "ex2_df <- data.frame(x=c(5,2,NA,6),y=c(NA,5,10,3))"
   ]
  }
 ],
 "metadata": {
  "kernelspec": {
   "display_name": "R",
   "language": "R",
   "name": "ir"
  },
  "language_info": {
   "codemirror_mode": "r",
   "file_extension": ".r",
   "mimetype": "text/x-r-source",
   "name": "R",
   "pygments_lexer": "r",
   "version": "4.0.3"
  }
 },
 "nbformat": 4,
 "nbformat_minor": 4
}
