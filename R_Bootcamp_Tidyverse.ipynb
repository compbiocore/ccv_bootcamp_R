{
 "cells": [
  {
   "cell_type": "markdown",
   "metadata": {},
   "source": [
    "# Data Wrangling and Tidyverse  \n",
    "\n",
    "In this notebook you'll learn principles behind data wrangling and management, including tidying and transforming data to answer questions you might want to ask. \n",
    "\n",
    "## Some useful notes\n",
    "\n",
    "With Jupyter Notebook you can get a nice popup of function definitions just like you can in RStudio. Simply navigate to a cell or start a new one, and enter in ?function like you would normally. A popup will appear.\n",
    "\n",
    "You should see an Insert dropdown menu and Run button at the top which lets you add cells as well as run code or render Markdown in the cells, but these are very useful keyboard shortcuts for the same functions: \n",
    "\n",
    "- Shift+Enter: Run code or render Markdown in the current cell you're on\n",
    "- Esc+a: Add a cell above\n",
    "- Esc+b: Add a cell below\n",
    "- Esc+dd: Delete a cell"
   ]
  },
  {
   "cell_type": "markdown",
   "metadata": {},
   "source": [
    "## Package prerequisites \n",
    "\n",
    "Packages that are required in this workshop are tidyverse (which includes the packages ggplot2, dplyr, purrr, and others), gridExtra, which helps with arranging plots next to each other, ggrepel, which helps with plotting labels, and maps, which is for map data. "
   ]
  },
  {
   "cell_type": "code",
   "execution_count": null,
   "metadata": {},
   "outputs": [],
   "source": [
    "library(tidyverse)\n",
    "library(gridExtra)\n",
    "library(ggrepel)\n",
    "library(maps)"
   ]
  },
  {
   "cell_type": "markdown",
   "metadata": {},
   "source": [
    "If you get an error message “there is no package called ‘xyz’” then you need to install the packages first. (They should have been preloaded on your notebooks but if not it's ok, it won't take long.)"
   ]
  },
  {
   "cell_type": "code",
   "execution_count": null,
   "metadata": {},
   "outputs": [],
   "source": [
    "install.packages('tidyverse')\n",
    "install.packages('pillar')\n",
    "install.packages('gridExtra')\n",
    "install.packages('ggrepel')\n",
    "install.packages('maps')"
   ]
  },
  {
   "cell_type": "markdown",
   "metadata": {},
   "source": [
    "# Data Frames\n",
    "\n",
    "- A data frame is another way to organize a collection of rows and columns.\n",
    "- It is a collection of lists organized into columns.\n",
    "- It is similar to a matrix, except data frames allow different data types in different columns.\n",
    "- We can use the `data.frame()` function to create a data frame from vectors using the following format:\n",
    "\n",
    "```\n",
    "dataframe <- data.frame(column_1, column_2, column_3)\n",
    "```"
   ]
  },
  {
   "cell_type": "code",
   "execution_count": null,
   "metadata": {},
   "outputs": [],
   "source": [
    "example_df <- data.frame(\n",
    "    c('a','b','c'), \n",
    "    c(1, 3, 5), \n",
    "    c(TRUE, TRUE, FALSE))\n",
    "\n",
    "print(example_df)"
   ]
  },
  {
   "cell_type": "markdown",
   "metadata": {},
   "source": [
    "Use `names()` or `colnames()` to name columns,  `rownames()` to name rows, or `dimnames()` to assign both column and row names to the data frame:"
   ]
  },
  {
   "cell_type": "code",
   "execution_count": null,
   "metadata": {},
   "outputs": [],
   "source": [
    "colnames(example_df) <- c('letters', 'numbers', 'boolean')\n",
    "rownames(example_df) <- c('first', 'second', '')\n",
    "print(example_df)"
   ]
  },
  {
   "cell_type": "code",
   "execution_count": null,
   "metadata": {},
   "outputs": [],
   "source": [
    "names(example_df) <- c('_letters_', '_numbers_', '_boolean_')\n",
    "print(example_df)"
   ]
  },
  {
   "cell_type": "code",
   "execution_count": null,
   "metadata": {},
   "outputs": [],
   "source": [
    "dimnames(example_df) <- list(c('__first', '__second', '__third'), c('__letters', '__numbers', '__boolean'))\n",
    "print(example_df)"
   ]
  },
  {
   "cell_type": "markdown",
   "metadata": {},
   "source": [
    "We can use the `attributes()` and `str()` functions to get some information about our data frame:"
   ]
  },
  {
   "cell_type": "code",
   "execution_count": null,
   "metadata": {},
   "outputs": [],
   "source": [
    "attributes(example_df)"
   ]
  },
  {
   "cell_type": "code",
   "execution_count": null,
   "metadata": {},
   "outputs": [],
   "source": [
    "str(example_df)"
   ]
  },
  {
   "cell_type": "markdown",
   "metadata": {},
   "source": [
    "Data frames can be classified into two broad categories: wide format and long format. All data frames shown so far have been presented in wide format. A wide format data frame has each row describe a sample and each column describe a feature. Here is a short example of a data frame in wide format, tabulating counts for three genes in three patients:"
   ]
  },
  {
   "cell_type": "code",
   "execution_count": null,
   "metadata": {},
   "outputs": [],
   "source": [
    "wide_df <- data.frame(c(\"A\", \"B\", \"C\"), c(1, 1, 2), c(5, 6, 7), c(0, 1, 0))\n",
    "colnames(wide_df) <- c(\"id\", \"gene.1\", \"gene.2\", \"gene.3\")\n",
    "wide_df"
   ]
  },
  {
   "cell_type": "markdown",
   "metadata": {},
   "source": [
    "Long format stacks features on top of one another; each row is the combination of a sample and a feature.  One column exists to denote the feature in question, and another column exists to denote that feature' value:"
   ]
  },
  {
   "cell_type": "code",
   "execution_count": null,
   "metadata": {},
   "outputs": [],
   "source": [
    "long_df <- data.frame(c(\"A\", \"A\", \"A\", \"B\", \"B\", \"B\", \"C\", \"C\", \"C\"), c(\"gene.1\", \"gene.2\", \"gene.3\", \"gene.1\", \"gene.2\", \"gene.3\", \"gene.1\", \"gene.2\", \"gene.3\"), c(1, 5, 0, 1, 6, 1, 2, 7, 0))\n",
    "colnames(long_df) <- c(\"id\", \"gene\", \"count\")\n",
    "long_df"
   ]
  },
  {
   "cell_type": "markdown",
   "metadata": {},
   "source": [
    "These formats both contain the exact same data but represent it in different ways. Various functions exist to convert between wide and long format and we'll get into this a bit more shortly when discussing the `tidyr` package.  "
   ]
  },
  {
   "cell_type": "markdown",
   "metadata": {},
   "source": [
    "# Adding columns to a data frame"
   ]
  },
  {
   "cell_type": "markdown",
   "metadata": {},
   "source": [
    "Let's make a new example dataframe to work with:"
   ]
  },
  {
   "cell_type": "code",
   "execution_count": null,
   "metadata": {},
   "outputs": [],
   "source": [
    "patients_1 <- data.frame(\n",
    "    c('Boo','Rex','Chuckles'), \n",
    "    c(1, 3, 5), \n",
    "    c('dog', 'dog', 'dog'))\n",
    "print(patients_1)"
   ]
  },
  {
   "cell_type": "markdown",
   "metadata": {},
   "source": [
    "Use `names()` or `colnames()` to name columns,  `rownames()` to name rows, or `dimnames()` to assign both column and row names to the data frame.\n",
    "Here we will use `names()` to name the columns:"
   ]
  },
  {
   "cell_type": "code",
   "execution_count": null,
   "metadata": {},
   "outputs": [],
   "source": [
    "names(patients_1) <- c('name', 'number_of_visits', 'type')\n",
    "print(patients_1)"
   ]
  },
  {
   "cell_type": "markdown",
   "metadata": {},
   "source": [
    "We can use the column names to extract a single column using the notation `dataframe$column`, e.g.:"
   ]
  },
  {
   "cell_type": "code",
   "execution_count": null,
   "metadata": {},
   "outputs": [],
   "source": [
    "print(patients_1$name)"
   ]
  },
  {
   "cell_type": "markdown",
   "metadata": {},
   "source": [
    "The `cbind()` function can be used to add more columns to a dataframe:"
   ]
  },
  {
   "cell_type": "code",
   "execution_count": null,
   "metadata": {},
   "outputs": [],
   "source": [
    "column_4 <- c(4, 2, 6)\n",
    "patients_1 <- cbind(patients_1, column_4)\n",
    "print(patients_1)"
   ]
  },
  {
   "cell_type": "markdown",
   "metadata": {},
   "source": [
    "We can also rename individual columns of the dataframe using index notation, lets rename the 4th column we just added:"
   ]
  },
  {
   "cell_type": "code",
   "execution_count": null,
   "metadata": {},
   "outputs": [],
   "source": [
    "colnames(patients_1)[4] <- 'age_in_years'\n",
    "print(patients_1)"
   ]
  },
  {
   "cell_type": "markdown",
   "metadata": {},
   "source": [
    "We can also use the `dataframe$column` notation to add a new column and name it at the same time:"
   ]
  },
  {
   "cell_type": "code",
   "execution_count": null,
   "metadata": {},
   "outputs": [],
   "source": [
    "patients_1$weight_in_pounds <- c(35, 75, 15)\n",
    "print(patients_1)"
   ]
  },
  {
   "cell_type": "markdown",
   "metadata": {},
   "source": [
    "Let's use `str()` and `attributes()` functions to look at the structure and attributes of this data frame:"
   ]
  },
  {
   "cell_type": "code",
   "execution_count": null,
   "metadata": {},
   "outputs": [],
   "source": [
    "str(patients_1)"
   ]
  },
  {
   "cell_type": "code",
   "execution_count": null,
   "metadata": {},
   "outputs": [],
   "source": [
    "attributes(patients_1)"
   ]
  },
  {
   "cell_type": "markdown",
   "metadata": {},
   "source": [
    "# Data frame merging\n",
    "- Data is often spread across more than one file, reading each file into R will result in more than one data frame. \n",
    "- If the data frames have some common identifying column, we can use that common ID to combine the data frames. \n",
    "\n",
    "For example:"
   ]
  },
  {
   "cell_type": "code",
   "execution_count": null,
   "metadata": {},
   "outputs": [],
   "source": [
    "print(patients_1)"
   ]
  },
  {
   "cell_type": "markdown",
   "metadata": {},
   "source": [
    "Let's make another data frame:"
   ]
  },
  {
   "cell_type": "code",
   "execution_count": null,
   "metadata": {},
   "outputs": [],
   "source": [
    "patients_2 <- data.frame(\n",
    "    c('Fluffy', 'Smokey', 'Kitty'), \n",
    "    c(1, 1, 2), \n",
    "    c('cat', 'dog', 'cat'),\n",
    "    c(1, 3, 5))\n",
    "colnames(patients_2) <- c('name', 'number_of_visits', 'type', 'age_in_years')\n",
    "print(patients_2)"
   ]
  },
  {
   "cell_type": "markdown",
   "metadata": {},
   "source": [
    "We can use the `merge()` function to combine them:"
   ]
  },
  {
   "cell_type": "code",
   "execution_count": null,
   "metadata": {},
   "outputs": [],
   "source": [
    "patients_df <- merge(patients_1, patients_2, all = TRUE)\n",
    "print(patients_df)"
   ]
  },
  {
   "cell_type": "markdown",
   "metadata": {},
   "source": [
    "- Using `all = TRUE` will fill in blank values if needed (for example, the weight of any of the animals in `patients_2`).\n",
    "- Using the `all.x = TRUE` argument will return all values in the `patients_1` dataframe, as well as any entries with the same ID column(s) from `patients_2`."
   ]
  },
  {
   "cell_type": "code",
   "execution_count": null,
   "metadata": {},
   "outputs": [],
   "source": [
    "patients_df <- merge(patients_1, patients_2, all.x = TRUE)\n",
    "print(patients_df)"
   ]
  },
  {
   "cell_type": "markdown",
   "metadata": {},
   "source": [
    "- Using the `all.y = TRUE` argument will return all values in the `patients_2` dataframe, as well as any entries with the same ID column(s) from `patients_1`."
   ]
  },
  {
   "cell_type": "code",
   "execution_count": null,
   "metadata": {},
   "outputs": [],
   "source": [
    "patients_df <- merge(patients_1, patients_2, all.y = TRUE)\n",
    "print(patients_df)"
   ]
  },
  {
   "cell_type": "markdown",
   "metadata": {},
   "source": [
    "You can also specify which columns to join on:"
   ]
  },
  {
   "cell_type": "code",
   "execution_count": null,
   "metadata": {},
   "outputs": [],
   "source": [
    "patients_df <- merge(patients_1, patients_2, by = c('name', 'type', 'number_of_visits', 'age_in_years'), all = TRUE)\n",
    "print(patients_df)"
   ]
  },
  {
   "cell_type": "markdown",
   "metadata": {},
   "source": [
    "# Tidying Data\n",
    "\n",
    "Most datasets are data frames made up of rows and columns. However, talking about data frames just in terms of what rows and columns it has is not enough.\n",
    "\n",
    " * **Variable:** quantity, quality, property that can be measured.\n",
    " * **Value:** State of variable when measured.\n",
    " * **Observation:** Set of measurements made under similar conditions\n",
    " * **Tabular data:** Set of values, each associated with a variable and an observation.\n",
    "\n",
    "Tidy data:\n",
    " * Each variable is its own column\n",
    " * Each observation is its own row\n",
    " * Each value is in a single cell\n",
    " \n",
    "Benefits:\n",
    " * Easy to manipulate\n",
    " * Easy to model\n",
    " * Easy to visualize\n",
    " * Has a specific and consistent structure\n",
    " * Stucture makes it easy to tidy other data\n",
    " \n",
    "Cons:\n",
    " * Data frame is not as easy to look at\n",
    "\n",
    "Consider the following tables:"
   ]
  },
  {
   "cell_type": "code",
   "execution_count": null,
   "metadata": {},
   "outputs": [],
   "source": [
    "table1 <- data.frame(makemodel=c(\"audi a4\",\"audi a4\",\"chevrolet corvette\",\"chevrolet corvette\",\"honda civic\",\"honda civic\"),\n",
    "                    year=rep(c(1999,2008),3),\n",
    "                    cty=c(18,21,15,15,24,25),\n",
    "                    hwy=c(29,30,23,25,32,36))\n",
    "table1"
   ]
  },
  {
   "cell_type": "markdown",
   "metadata": {},
   "source": [
    "This is tidy data, because each column is a variable, each observation is a row, and each value is in a single cell\n",
    "\n",
    "Next we will look at some non-tidy data and operations from the **tidyr** package (part of **tidyverse**) to make the data tidy. Note that many of you might be more used to using operations from **reshape2**, like melting and casting. It's a very useful package with more functionality including aggregating data, but syntax with **tidyr** commands is simpler and more intuitive for the purposes of tidying data."
   ]
  },
  {
   "cell_type": "markdown",
   "metadata": {},
   "source": [
    "## Gathering"
   ]
  },
  {
   "cell_type": "code",
   "execution_count": null,
   "metadata": {},
   "outputs": [],
   "source": [
    "table2a <- data.frame(makemodel=c(\"audi a4\",\"chevrolet corvette\",\"honda civic\"),`1999`=c(18,15,24),'2008'=c(21,15,25),check.names=FALSE)\n",
    "table2b <- data.frame(makemodel=c(\"audi a4\",\"chevrolet corvette\",\"honda civic\"),`1999`=c(29,23,32),'2008'=c(30,25,36),check.names=FALSE)\n",
    "table2a\n",
    "table2b"
   ]
  },
  {
   "cell_type": "markdown",
   "metadata": {},
   "source": [
    "`table2a` column names `1999` and `2008` represent values of `year` variable. `table2b` is the same. Each row represents 2 observations, not 1. Need to gather columns into new pair of variables.\n",
    "\n",
    "Parameters:\n",
    " * Set of columns that represent values, not variables.\n",
    " * `key`: name of variable whose values are currently column names.\n",
    " * `value`: name of variable whose values are currently spread out across multiple columns.\n",
    "\n",
    "Experiments often report data in the format of `table2a` and `table2b`. One reason is for presentation purposes it's very easy to look at. Another is storage is efficient for completely crossed designs and can allow matrix operations."
   ]
  },
  {
   "cell_type": "code",
   "execution_count": null,
   "metadata": {},
   "outputs": [],
   "source": [
    "tidy2a <- gather(table2a,`1999`,`2008`,key=\"year\",value=\"cty\")\n",
    "tidy2a"
   ]
  },
  {
   "cell_type": "code",
   "execution_count": null,
   "metadata": {},
   "outputs": [],
   "source": [
    "tidy2b <- gather(table2b, `1999`, `2008`, key = \"year\", value = \"hwy\")\n",
    "tidy2b"
   ]
  },
  {
   "cell_type": "markdown",
   "metadata": {},
   "source": [
    "Merge tables using `left_join()` (many other types of [table joins](https://dplyr.tidyverse.org/reference/join.html) as well)"
   ]
  },
  {
   "cell_type": "code",
   "execution_count": null,
   "metadata": {},
   "outputs": [],
   "source": [
    "left_join(tidy2a,tidy2b)"
   ]
  },
  {
   "cell_type": "markdown",
   "metadata": {},
   "source": [
    "## Spreading"
   ]
  },
  {
   "cell_type": "code",
   "execution_count": null,
   "metadata": {},
   "outputs": [],
   "source": [
    "table3 <- data.frame(makemodel=c(rep(\"audi a4\",4),rep(\"chevrolet corvette\",4),rep(\"honda civic\",4)),\n",
    "                    year=rep(c(1999,1999,2008,2008),3),\n",
    "                    type=rep(c(\"cty\",\"hwy\"),6),\n",
    "                     mileage=c(18,29,21,30,15,23,15,25,24,32,25,36))\n",
    "table3"
   ]
  },
  {
   "cell_type": "markdown",
   "metadata": {},
   "source": [
    "`table3` has each observation in two rows. Need to spread observations across columns with appropriate variable names instead.\n",
    "\n",
    "Parameters:\n",
    " * `key`: Column that contains variable names.\n",
    " * `value`: Column that contains values for each variable."
   ]
  },
  {
   "cell_type": "code",
   "execution_count": null,
   "metadata": {},
   "outputs": [],
   "source": [
    "spread(table3, key=type,value=mileage)"
   ]
  },
  {
   "cell_type": "markdown",
   "metadata": {},
   "source": [
    "## Separating"
   ]
  },
  {
   "cell_type": "code",
   "execution_count": null,
   "metadata": {},
   "outputs": [],
   "source": [
    "table4 <- data.frame(makemodel=c(\"audi a4\",\"audi a4\",\"chevrolet corvette\",\"chevrolet corvette\",\"honda civic\",\"honda civic\"),\n",
    "                     year=rep(c(1999,2008),3),\n",
    "                    mileages=c('18/29','21/30','15/23','15/25','24/32','25/36'))\n",
    "table4"
   ]
  },
  {
   "cell_type": "markdown",
   "metadata": {},
   "source": [
    "`table4` has a `mileages` column that actually contains two variables (`cty` and `hwy`). Need to separate into two columns.\n",
    "\n",
    "Parameters:\n",
    " * table and column/variable that needs to be separated.\n",
    " * `into`: columns to split into\n",
    " * `sep`: separator value. Can be regexp or positions to split at. If not provided then splits at non-alphanumeric characters."
   ]
  },
  {
   "cell_type": "code",
   "execution_count": null,
   "metadata": {},
   "outputs": [],
   "source": [
    "separate(table4, mileages, into = c(\"cty\", \"hwy\"), sep=\"/\")"
   ]
  },
  {
   "cell_type": "code",
   "execution_count": null,
   "metadata": {},
   "outputs": [],
   "source": [
    "sep <- separate(table4, makemodel, into = c(\"make\", \"model\"), sep = ' ')\n",
    "sep"
   ]
  },
  {
   "cell_type": "markdown",
   "metadata": {},
   "source": [
    "## Uniting\n",
    "\n",
    "Now `sep` has `make` and `model` columns that can be combined into a single column. In other words, we want to unite them.\n",
    "\n",
    "Parameters:\n",
    " * Name of united column/variable\n",
    " * Names of columns/variables to be united\n",
    " * `sep`: Separator value. Default is '_'\n",
    "\n"
   ]
  },
  {
   "cell_type": "code",
   "execution_count": null,
   "metadata": {},
   "outputs": [],
   "source": [
    "unite(sep, new, make, model)"
   ]
  },
  {
   "cell_type": "code",
   "execution_count": null,
   "metadata": {},
   "outputs": [],
   "source": [
    "unite(sep, makemodel, make, model, sep=' ')"
   ]
  },
  {
   "cell_type": "markdown",
   "metadata": {},
   "source": [
    "## Piping\n",
    "\n",
    "**dplyr** from **tidyverse** contains the 'pipe' (`%>%`) which allows you to combine multiple operations, directly taking output from a funtion as input to the next. Can save time and memory as well as make code easier to read. Can think of it this way: `x %>% f(y)` becomes `f(x,y)`, and `x %>% f(y) %>% g(z)` becomes `g(f(x,y),z)`, etc."
   ]
  },
  {
   "cell_type": "code",
   "execution_count": null,
   "metadata": {},
   "outputs": [],
   "source": [
    "unite(sep, makemodel, make, model, sep=' ') %>%\n",
    "    separate(mileages, into=c(\"cty\",\"hwy\"))"
   ]
  },
  {
   "cell_type": "markdown",
   "metadata": {},
   "source": [
    "## Not all data should be tidy\n",
    "\n",
    "Matrices, phylogenetic trees (although `ggtree` and `treeio` have tidy representations that help with annotating trees), etc."
   ]
  },
  {
   "cell_type": "markdown",
   "metadata": {},
   "source": [
    "# Transforming (Tidy) Data\n",
    "\n",
    "Now we know how to get tidy data. At this point we can already start visualizing our data. However in many cases we will need to further transform our data to narrow down variables and observations we are really interested in or to create new variables that are functions of our existing variables and data. This is known as **transforming** data.\n",
    "\n",
    " * `filter()` to pick observations (rows) by their values\n",
    " * `arrange()` to reorder rows, default is by ascending value\n",
    " * `select()` to pick variables (columns) by their names\n",
    " * `mutate()` to create new variables with functions of existing variables\n",
    " * `summarise()` to collapes many values down to a single summary\n",
    " * `group_by()` to set up functions to operate on groups rather than the whole data set\n",
    " * `%>%` propagates the output from a function as input to another. eg: x %>% f(y) becomes f(x,y), and x %>% f(y) %>% g(z) becomes g(f(x,y),z).\n",
    " \n",
    "All functions have similar structure:\n",
    " 1. First argument is data frame\n",
    " 2. Next arguments describe what to do with data frame using variable names\n",
    " 3. Result is new data frame\n",
    " \n",
    "We will be working with the **mpg** data frame for the rest of workshop which comes with the **tidyverse** library."
   ]
  },
  {
   "cell_type": "code",
   "execution_count": null,
   "metadata": {},
   "outputs": [],
   "source": [
    "data(mpg)\n",
    "head(mpg)"
   ]
  },
  {
   "cell_type": "markdown",
   "metadata": {},
   "source": [
    "## `filter()` rows/observations\n",
    "\n",
    "As name suggests filters out rows. First argument is name of data frame, next arguments are expressions that filter the data frame."
   ]
  },
  {
   "cell_type": "code",
   "execution_count": null,
   "metadata": {},
   "outputs": [],
   "source": [
    "# filter out 2 seater cars\n",
    "table(mpg$class)\n",
    "no_2seaters <- filter(mpg, class != \"2seater\")\n",
    "head(no_2seaters)\n",
    "table(no_2seaters$class)"
   ]
  },
  {
   "cell_type": "code",
   "execution_count": null,
   "metadata": {},
   "outputs": [],
   "source": [
    "# filter out audis, chevys, and hondas\n",
    "mpg %>% filter(!manufacturer %in% c(\"audi\",\"chevrolet\",\"honda\")) %>% head"
   ]
  },
  {
   "cell_type": "markdown",
   "metadata": {},
   "source": [
    "## `arrange()` rows/observations\n",
    "\n",
    "Changes order of rows. First argument is name of data frame, next arguments are column names (or more complicated expressions) to order by. Default column ordering is by ascending order, can use `desc()` to do descending order. Missing values get sorted at the end regardless of what column ordering is chosen."
   ]
  },
  {
   "cell_type": "code",
   "execution_count": null,
   "metadata": {},
   "outputs": [],
   "source": [
    "# arrange/reorder mpg by class\n",
    "arrange(mpg, class) %>% head"
   ]
  },
  {
   "cell_type": "code",
   "execution_count": null,
   "metadata": {},
   "outputs": [],
   "source": [
    "# arrange/reorder data frame with 2seaters filtered out by class\n",
    "# 2seaters does not appear which is as it should be\n",
    "arrange(no_2seaters, class) %>% head"
   ]
  },
  {
   "cell_type": "markdown",
   "metadata": {},
   "source": [
    "What kinds of cars have the best highway and city gas mileage?"
   ]
  },
  {
   "cell_type": "code",
   "execution_count": null,
   "metadata": {},
   "outputs": [],
   "source": [
    "# arrange mpg so that first hwy mileage is by descending order, then cty mileage is by descending order\n",
    "arrange(mpg, desc(hwy), desc(cty)) %>% head"
   ]
  },
  {
   "cell_type": "markdown",
   "metadata": {},
   "source": [
    "Example of missing data getting placed at bottom."
   ]
  },
  {
   "cell_type": "code",
   "execution_count": null,
   "metadata": {},
   "outputs": [],
   "source": [
    "df <- data.frame(x=c(5,2,NA,6))\n",
    "df"
   ]
  },
  {
   "cell_type": "code",
   "execution_count": null,
   "metadata": {},
   "outputs": [],
   "source": [
    "# arrange df by ascending order, NA will be at bottom\n",
    "arrange(df, x)"
   ]
  },
  {
   "cell_type": "code",
   "execution_count": null,
   "metadata": {},
   "outputs": [],
   "source": [
    "# arrange df by descending order, NA will be at bottom\n",
    "arrange(df, desc(x))"
   ]
  },
  {
   "cell_type": "code",
   "execution_count": null,
   "metadata": {},
   "outputs": [],
   "source": [
    "# rest of the values are unsorted because they are all T for !is.na(x)\n",
    "arrange(df,!is.na(x))"
   ]
  },
  {
   "cell_type": "code",
   "execution_count": null,
   "metadata": {},
   "outputs": [],
   "source": [
    "# can arrange by x again to get ascending order\n",
    "arrange(df,!is.na(x),desc(x))"
   ]
  },
  {
   "cell_type": "markdown",
   "metadata": {},
   "source": [
    "## `select()` columns/variables\n",
    "\n",
    "Selects columns, which can be useful when you have hundreds or thousands of variables in order to narrow down to what variables you're actually interested in. First argument is name of data frame, subsequent arguments are columns to select. Can use `a:b` to select all columns between `a` and `b`, or use `-a` to select all columns *except* a."
   ]
  },
  {
   "cell_type": "code",
   "execution_count": null,
   "metadata": {},
   "outputs": [],
   "source": [
    "# select manufacturer, model, year, cty, hwy\n",
    "select(mpg, manufacturer, model, year, cty, hwy) %>% head"
   ]
  },
  {
   "cell_type": "code",
   "execution_count": null,
   "metadata": {},
   "outputs": [],
   "source": [
    "# select all columns model thru hwy\n",
    "select(mpg, model:hwy) %>% head\n",
    "head(mpg)"
   ]
  },
  {
   "cell_type": "code",
   "execution_count": null,
   "metadata": {},
   "outputs": [],
   "source": [
    "# select all columns except cyl thru drv and class\n",
    "select(mpg, -(cyl:drv), -class) %>% head"
   ]
  },
  {
   "cell_type": "markdown",
   "metadata": {},
   "source": [
    "## `mutate()` to add new variables or `transmute()` to keep only new variables\n",
    "\n",
    "Adds new columns that are functions of existing columns. First argument is name of data frame, next arguments are of the form `new_column_name = f(existing columns)`."
   ]
  },
  {
   "cell_type": "code",
   "execution_count": null,
   "metadata": {},
   "outputs": [],
   "source": [
    "# add a new column that takes average mileage between city and highway\n",
    "mutate(mpg, avg_mileage = (cty+hwy)/2) %>% head"
   ]
  },
  {
   "cell_type": "code",
   "execution_count": null,
   "metadata": {},
   "outputs": [],
   "source": [
    "# keep only average mileage between city and highway\n",
    "transmute(mpg,cty,avg_mileage=(cty+hwy)/2) %>% head"
   ]
  },
  {
   "cell_type": "markdown",
   "metadata": {},
   "source": [
    "## `summarise()` and `group_by()` for grouped summaries\n",
    "\n",
    "`summarise()` collapses a data frame into a single row, and `group_by()` changes analysis from entire data frame into individual groups."
   ]
  },
  {
   "cell_type": "code",
   "execution_count": null,
   "metadata": {},
   "outputs": [],
   "source": [
    "# get average mileage grouped by engine cylinder\n",
    "m <- mutate(mpg, avg_mileage=(cty+hwy)/2)\n",
    "# behavior is actually different in R/RStudio compared to notebooks\n",
    "m %>% group_by(cyl) %>%\n",
    "    summarise(avg=mean(avg_mileage)) %>%\n",
    "    head"
   ]
  },
  {
   "cell_type": "markdown",
   "metadata": {},
   "source": [
    "**Note:** If you look at the output of `group_by` in R/RStudio you will actually be able to see what your groupings are as well as how many of them you have. For example if we did `group_by(mpg, cyl)` the output would include `cyl [4]` which shows that our grouping is by `cyl` and there are 4 groups. Jupyter notebook doesn't display this for reasons having to do with [how data frames are outputted](https://github.com/IRkernel/repr/issues/113). Some other differences exist between how certain objects from **tidyverse** are displayed as well."
   ]
  },
  {
   "cell_type": "code",
   "execution_count": null,
   "metadata": {},
   "outputs": [],
   "source": [
    "group_by(m, drv) %>%\n",
    "    summarise(avg=mean(avg_mileage))"
   ]
  },
  {
   "cell_type": "code",
   "execution_count": null,
   "metadata": {},
   "outputs": [],
   "source": [
    "# df after group_by would show that we have 9 groups\n",
    "drv_cyl <- group_by(m, drv, cyl) %>%\n",
    "    summarise(avg=mean(avg_mileage)) %>%\n",
    "    arrange(desc(avg))\n",
    "drv_cyl"
   ]
  },
  {
   "cell_type": "markdown",
   "metadata": {},
   "source": [
    "Can also run `ungroup` to ungroup your observations."
   ]
  },
  {
   "cell_type": "code",
   "execution_count": null,
   "metadata": {},
   "outputs": [],
   "source": [
    "drv_cyl %>% summarise(max=max(avg))"
   ]
  },
  {
   "cell_type": "code",
   "execution_count": null,
   "metadata": {},
   "outputs": [],
   "source": [
    "ungroup(drv_cyl) %>% summarise(max=max(avg))"
   ]
  },
  {
   "cell_type": "markdown",
   "metadata": {},
   "source": [
    "# Appendix "
   ]
  },
  {
   "cell_type": "markdown",
   "metadata": {},
   "source": [
    "### Exercises\n",
    "\n",
    "1. Consider the example below, where we spread and then gather observations from the same columns in `stocks`. Why are `gather()` and `spread()` not perfectly symmetrical? (Hint: look at the variable types and column names)"
   ]
  },
  {
   "cell_type": "code",
   "execution_count": null,
   "metadata": {},
   "outputs": [],
   "source": [
    "stocks <- tibble(\n",
    "  year   = c(2015, 2015, 2016, 2016),\n",
    "  half  = c(   1,    2,     1,    2),\n",
    "  return = c(1.88, 0.59, 0.92, 0.17)\n",
    ")\n",
    "\n",
    "stocks\n",
    "\n",
    "stocks %>% \n",
    "  spread(year, return) %>% \n",
    "  gather(\"year\", \"return\", `2015`:`2016`)"
   ]
  },
  {
   "cell_type": "markdown",
   "metadata": {},
   "source": [
    "2. Why does the code below fail?"
   ]
  },
  {
   "cell_type": "code",
   "execution_count": null,
   "metadata": {},
   "outputs": [],
   "source": [
    "table4a %>% \n",
    "  gather(1999, 2000, key = \"year\", value = \"cases\")"
   ]
  },
  {
   "cell_type": "markdown",
   "metadata": {},
   "source": [
    "3. Why does spreading this tibble fail? How could you fix it?"
   ]
  },
  {
   "cell_type": "code",
   "execution_count": null,
   "metadata": {},
   "outputs": [],
   "source": [
    "people <- tribble(\n",
    "  ~name,             ~key,    ~value,\n",
    "  #-----------------|--------|------\n",
    "  \"Phillip Woods\",   \"age\",       45,\n",
    "  \"Phillip Woods\",   \"height\",   186,\n",
    "  \"Phillip Woods\",   \"age\",       50,\n",
    "  \"Jessica Cordero\", \"age\",       37,\n",
    "  \"Jessica Cordero\", \"height\",   156\n",
    ")"
   ]
  },
  {
   "cell_type": "markdown",
   "metadata": {},
   "source": [
    "### Exercises\n",
    "\n",
    "1. What do the `extra` and `fill` arguments do in `separate()`? Experiment with the various options for the following two toy datasets."
   ]
  },
  {
   "cell_type": "code",
   "execution_count": null,
   "metadata": {},
   "outputs": [],
   "source": [
    "tibble(x = c(\"a,b,c\", \"d,e,f,g\", \"h,i,j\")) %>% \n",
    "  separate(x, c(\"one\", \"two\", \"three\"))\n",
    "\n",
    "tibble(x = c(\"a,b,c\", \"d,e\", \"f,g,i\")) %>% \n",
    "  separate(x, c(\"one\", \"two\", \"three\"))"
   ]
  }
 ],
 "metadata": {
  "kernelspec": {
   "display_name": "R",
   "language": "R",
   "name": "ir"
  },
  "language_info": {
   "codemirror_mode": "r",
   "file_extension": ".r",
   "mimetype": "text/x-r-source",
   "name": "R",
   "pygments_lexer": "r",
   "version": "4.0.3"
  }
 },
 "nbformat": 4,
 "nbformat_minor": 4
}
