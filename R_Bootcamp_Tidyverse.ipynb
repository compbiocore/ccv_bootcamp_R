{
 "cells": [
  {
   "cell_type": "markdown",
   "metadata": {},
   "source": [
    "# Data Wrangling and Tidyverse  \n",
    "\n",
    "In this notebook you'll learn principles behind data wrangling and management, including tidying and transforming data to answer questions you might want to ask. \n",
    "\n",
    "## Some useful notes\n",
    "\n",
    "With Jupyter Notebook you can get a nice popup of function definitions just like you can in RStudio. Simply navigate to a cell or start a new one, and enter in ?function like you would normally. A popup will appear.\n",
    "\n",
    "You should see an Insert dropdown menu and Run button at the top which lets you add cells as well as run code or render Markdown in the cells, but these are very useful keyboard shortcuts for the same functions: \n",
    "\n",
    "- Shift+Enter: Run code or render Markdown in the current cell you're on\n",
    "- Esc+a: Add a cell above\n",
    "- Esc+b: Add a cell below\n",
    "- Esc+dd: Delete a cell"
   ]
  },
  {
   "cell_type": "markdown",
   "metadata": {},
   "source": [
    "## Package prerequisites \n",
    "\n",
    "Packages that are required in this workshop are tidyverse (which includes the packages ggplot2, dplyr, purrr, and others), gridExtra, which helps with arranging plots next to each other, ggrepel, which helps with plotting labels, and maps, which is for map data. "
   ]
  },
  {
   "cell_type": "code",
   "execution_count": 1,
   "metadata": {},
   "outputs": [
    {
     "name": "stderr",
     "output_type": "stream",
     "text": [
      "Warning message in system(\"timedatectl\", intern = TRUE):\n",
      "“running command 'timedatectl' had status 1”\n",
      "── \u001b[1mAttaching core tidyverse packages\u001b[22m ──────────────────────────────────────────────────────────────────────────────────────────────── tidyverse 2.0.0 ──\n",
      "\u001b[32m✔\u001b[39m \u001b[34mdplyr    \u001b[39m 1.1.2     \u001b[32m✔\u001b[39m \u001b[34mreadr    \u001b[39m 2.1.4\n",
      "\u001b[32m✔\u001b[39m \u001b[34mforcats  \u001b[39m 1.0.0     \u001b[32m✔\u001b[39m \u001b[34mstringr  \u001b[39m 1.5.0\n",
      "\u001b[32m✔\u001b[39m \u001b[34mggplot2  \u001b[39m 3.4.2     \u001b[32m✔\u001b[39m \u001b[34mtibble   \u001b[39m 3.2.1\n",
      "\u001b[32m✔\u001b[39m \u001b[34mlubridate\u001b[39m 1.9.2     \u001b[32m✔\u001b[39m \u001b[34mtidyr    \u001b[39m 1.3.0\n",
      "\u001b[32m✔\u001b[39m \u001b[34mpurrr    \u001b[39m 1.0.1     \n",
      "── \u001b[1mConflicts\u001b[22m ────────────────────────────────────────────────────────────────────────────────────────────────────────────────── tidyverse_conflicts() ──\n",
      "\u001b[31m✖\u001b[39m \u001b[34mdplyr\u001b[39m::\u001b[32mfilter()\u001b[39m masks \u001b[34mstats\u001b[39m::filter()\n",
      "\u001b[31m✖\u001b[39m \u001b[34mdplyr\u001b[39m::\u001b[32mlag()\u001b[39m    masks \u001b[34mstats\u001b[39m::lag()\n",
      "\u001b[36mℹ\u001b[39m Use the conflicted package (\u001b[3m\u001b[34m<http://conflicted.r-lib.org/>\u001b[39m\u001b[23m) to force all conflicts to become errors\n",
      "\n",
      "Attaching package: ‘gridExtra’\n",
      "\n",
      "\n",
      "The following object is masked from ‘package:dplyr’:\n",
      "\n",
      "    combine\n",
      "\n",
      "\n",
      "\n",
      "Attaching package: ‘maps’\n",
      "\n",
      "\n",
      "The following object is masked from ‘package:purrr’:\n",
      "\n",
      "    map\n",
      "\n",
      "\n",
      "\n",
      "Attaching package: ‘pillar’\n",
      "\n",
      "\n",
      "The following object is masked from ‘package:dplyr’:\n",
      "\n",
      "    dim_desc\n",
      "\n",
      "\n"
     ]
    }
   ],
   "source": [
    "library(tidyverse)\n",
    "library(gridExtra)\n",
    "library(ggrepel)\n",
    "library(maps)\n",
    "library(pillar)"
   ]
  },
  {
   "cell_type": "markdown",
   "metadata": {},
   "source": [
    "# Data Frames\n",
    "\n",
    "- A data frame is another way to organize a collection of rows and columns.\n",
    "- It is a collection of lists organized into columns.\n",
    "- It is similar to a matrix, except data frames allow different data types in different columns.\n",
    "- We can use the `data.frame()` function to create a data frame from vectors using the following format:\n",
    "\n",
    "```\n",
    "dataframe <- data.frame(column_1, column_2, column_3)\n",
    "```"
   ]
  },
  {
   "cell_type": "code",
   "execution_count": 2,
   "metadata": {},
   "outputs": [
    {
     "name": "stdout",
     "output_type": "stream",
     "text": [
      "  c..a....b....c.. c.1..3..5. c.TRUE..TRUE..FALSE.\n",
      "1                a          1                 TRUE\n",
      "2                b          3                 TRUE\n",
      "3                c          5                FALSE\n"
     ]
    }
   ],
   "source": [
    "example_df <- data.frame(\n",
    "    c('a','b','c'), \n",
    "    c(1, 3, 5), \n",
    "    c(TRUE, TRUE, FALSE))\n",
    "\n",
    "print(example_df)"
   ]
  },
  {
   "cell_type": "markdown",
   "metadata": {},
   "source": [
    "Use `names()` or `colnames()` to name columns,  `rownames()` to name rows, or `dimnames()` to assign both column and row names to the data frame:"
   ]
  },
  {
   "cell_type": "code",
   "execution_count": 3,
   "metadata": {},
   "outputs": [
    {
     "name": "stdout",
     "output_type": "stream",
     "text": [
      "       letters numbers boolean\n",
      "first        a       1    TRUE\n",
      "second       b       3    TRUE\n",
      "             c       5   FALSE\n"
     ]
    }
   ],
   "source": [
    "colnames(example_df) <- c('letters', 'numbers', 'boolean')\n",
    "rownames(example_df) <- c('first', 'second', '')\n",
    "print(example_df)"
   ]
  },
  {
   "cell_type": "code",
   "execution_count": 4,
   "metadata": {},
   "outputs": [
    {
     "name": "stdout",
     "output_type": "stream",
     "text": [
      "       _letters_ _numbers_ _boolean_\n",
      "first          a         1      TRUE\n",
      "second         b         3      TRUE\n",
      "               c         5     FALSE\n"
     ]
    }
   ],
   "source": [
    "names(example_df) <- c('_letters_', '_numbers_', '_boolean_')\n",
    "print(example_df)"
   ]
  },
  {
   "cell_type": "code",
   "execution_count": 5,
   "metadata": {},
   "outputs": [
    {
     "name": "stdout",
     "output_type": "stream",
     "text": [
      "         __letters __numbers __boolean\n",
      "__first          a         1      TRUE\n",
      "__second         b         3      TRUE\n",
      "__third          c         5     FALSE\n"
     ]
    }
   ],
   "source": [
    "dimnames(example_df) <- list(c('__first', '__second', '__third'), c('__letters', '__numbers', '__boolean'))\n",
    "print(example_df)"
   ]
  },
  {
   "cell_type": "markdown",
   "metadata": {},
   "source": [
    "We can use the `attributes()` and `str()` functions to get some information about our data frame:"
   ]
  },
  {
   "cell_type": "code",
   "execution_count": 6,
   "metadata": {},
   "outputs": [
    {
     "data": {
      "text/html": [
       "<dl>\n",
       "\t<dt>$names</dt>\n",
       "\t\t<dd><style>\n",
       ".list-inline {list-style: none; margin:0; padding: 0}\n",
       ".list-inline>li {display: inline-block}\n",
       ".list-inline>li:not(:last-child)::after {content: \"\\00b7\"; padding: 0 .5ex}\n",
       "</style>\n",
       "<ol class=list-inline><li>'__letters'</li><li>'__numbers'</li><li>'__boolean'</li></ol>\n",
       "</dd>\n",
       "\t<dt>$class</dt>\n",
       "\t\t<dd>'data.frame'</dd>\n",
       "\t<dt>$row.names</dt>\n",
       "\t\t<dd><style>\n",
       ".list-inline {list-style: none; margin:0; padding: 0}\n",
       ".list-inline>li {display: inline-block}\n",
       ".list-inline>li:not(:last-child)::after {content: \"\\00b7\"; padding: 0 .5ex}\n",
       "</style>\n",
       "<ol class=list-inline><li>'__first'</li><li>'__second'</li><li>'__third'</li></ol>\n",
       "</dd>\n",
       "</dl>\n"
      ],
      "text/latex": [
       "\\begin{description}\n",
       "\\item[\\$names] \\begin{enumerate*}\n",
       "\\item '\\_\\_letters'\n",
       "\\item '\\_\\_numbers'\n",
       "\\item '\\_\\_boolean'\n",
       "\\end{enumerate*}\n",
       "\n",
       "\\item[\\$class] 'data.frame'\n",
       "\\item[\\$row.names] \\begin{enumerate*}\n",
       "\\item '\\_\\_first'\n",
       "\\item '\\_\\_second'\n",
       "\\item '\\_\\_third'\n",
       "\\end{enumerate*}\n",
       "\n",
       "\\end{description}\n"
      ],
      "text/markdown": [
       "$names\n",
       ":   1. '__letters'\n",
       "2. '__numbers'\n",
       "3. '__boolean'\n",
       "\n",
       "\n",
       "\n",
       "$class\n",
       ":   'data.frame'\n",
       "$row.names\n",
       ":   1. '__first'\n",
       "2. '__second'\n",
       "3. '__third'\n",
       "\n",
       "\n",
       "\n",
       "\n",
       "\n"
      ],
      "text/plain": [
       "$names\n",
       "[1] \"__letters\" \"__numbers\" \"__boolean\"\n",
       "\n",
       "$class\n",
       "[1] \"data.frame\"\n",
       "\n",
       "$row.names\n",
       "[1] \"__first\"  \"__second\" \"__third\" \n"
      ]
     },
     "metadata": {},
     "output_type": "display_data"
    }
   ],
   "source": [
    "attributes(example_df)"
   ]
  },
  {
   "cell_type": "code",
   "execution_count": 7,
   "metadata": {},
   "outputs": [
    {
     "name": "stdout",
     "output_type": "stream",
     "text": [
      "'data.frame':\t3 obs. of  3 variables:\n",
      " $ __letters: chr  \"a\" \"b\" \"c\"\n",
      " $ __numbers: num  1 3 5\n",
      " $ __boolean: logi  TRUE TRUE FALSE\n"
     ]
    }
   ],
   "source": [
    "str(example_df)"
   ]
  },
  {
   "cell_type": "markdown",
   "metadata": {},
   "source": [
    "Data frames can be classified into two broad categories: wide format and long format. All data frames shown so far have been presented in wide format. A wide format data frame has each row describe a sample and each column describe a feature. Here is a short example of a data frame in wide format, tabulating counts for three genes in three patients:"
   ]
  },
  {
   "cell_type": "code",
   "execution_count": 8,
   "metadata": {},
   "outputs": [
    {
     "data": {
      "text/html": [
       "<table class=\"dataframe\">\n",
       "<caption>A data.frame: 3 × 4</caption>\n",
       "<thead>\n",
       "\t<tr><th scope=col>id</th><th scope=col>gene.1</th><th scope=col>gene.2</th><th scope=col>gene.3</th></tr>\n",
       "\t<tr><th scope=col>&lt;chr&gt;</th><th scope=col>&lt;dbl&gt;</th><th scope=col>&lt;dbl&gt;</th><th scope=col>&lt;dbl&gt;</th></tr>\n",
       "</thead>\n",
       "<tbody>\n",
       "\t<tr><td>A</td><td>1</td><td>5</td><td>0</td></tr>\n",
       "\t<tr><td>B</td><td>1</td><td>6</td><td>1</td></tr>\n",
       "\t<tr><td>C</td><td>2</td><td>7</td><td>0</td></tr>\n",
       "</tbody>\n",
       "</table>\n"
      ],
      "text/latex": [
       "A data.frame: 3 × 4\n",
       "\\begin{tabular}{llll}\n",
       " id & gene.1 & gene.2 & gene.3\\\\\n",
       " <chr> & <dbl> & <dbl> & <dbl>\\\\\n",
       "\\hline\n",
       "\t A & 1 & 5 & 0\\\\\n",
       "\t B & 1 & 6 & 1\\\\\n",
       "\t C & 2 & 7 & 0\\\\\n",
       "\\end{tabular}\n"
      ],
      "text/markdown": [
       "\n",
       "A data.frame: 3 × 4\n",
       "\n",
       "| id &lt;chr&gt; | gene.1 &lt;dbl&gt; | gene.2 &lt;dbl&gt; | gene.3 &lt;dbl&gt; |\n",
       "|---|---|---|---|\n",
       "| A | 1 | 5 | 0 |\n",
       "| B | 1 | 6 | 1 |\n",
       "| C | 2 | 7 | 0 |\n",
       "\n"
      ],
      "text/plain": [
       "  id gene.1 gene.2 gene.3\n",
       "1 A  1      5      0     \n",
       "2 B  1      6      1     \n",
       "3 C  2      7      0     "
      ]
     },
     "metadata": {},
     "output_type": "display_data"
    }
   ],
   "source": [
    "wide_df <- data.frame(c(\"A\", \"B\", \"C\"), c(1, 1, 2), c(5, 6, 7), c(0, 1, 0))\n",
    "colnames(wide_df) <- c(\"id\", \"gene.1\", \"gene.2\", \"gene.3\")\n",
    "wide_df"
   ]
  },
  {
   "cell_type": "markdown",
   "metadata": {},
   "source": [
    "Long format stacks features on top of one another; each row is the combination of a sample and a feature.  One column exists to denote the feature in question, and another column exists to denote that feature' value:"
   ]
  },
  {
   "cell_type": "code",
   "execution_count": 9,
   "metadata": {},
   "outputs": [
    {
     "data": {
      "text/html": [
       "<table class=\"dataframe\">\n",
       "<caption>A data.frame: 9 × 3</caption>\n",
       "<thead>\n",
       "\t<tr><th scope=col>id</th><th scope=col>gene</th><th scope=col>count</th></tr>\n",
       "\t<tr><th scope=col>&lt;chr&gt;</th><th scope=col>&lt;chr&gt;</th><th scope=col>&lt;dbl&gt;</th></tr>\n",
       "</thead>\n",
       "<tbody>\n",
       "\t<tr><td>A</td><td>gene.1</td><td>1</td></tr>\n",
       "\t<tr><td>A</td><td>gene.2</td><td>5</td></tr>\n",
       "\t<tr><td>A</td><td>gene.3</td><td>0</td></tr>\n",
       "\t<tr><td>B</td><td>gene.1</td><td>1</td></tr>\n",
       "\t<tr><td>B</td><td>gene.2</td><td>6</td></tr>\n",
       "\t<tr><td>B</td><td>gene.3</td><td>1</td></tr>\n",
       "\t<tr><td>C</td><td>gene.1</td><td>2</td></tr>\n",
       "\t<tr><td>C</td><td>gene.2</td><td>7</td></tr>\n",
       "\t<tr><td>C</td><td>gene.3</td><td>0</td></tr>\n",
       "</tbody>\n",
       "</table>\n"
      ],
      "text/latex": [
       "A data.frame: 9 × 3\n",
       "\\begin{tabular}{lll}\n",
       " id & gene & count\\\\\n",
       " <chr> & <chr> & <dbl>\\\\\n",
       "\\hline\n",
       "\t A & gene.1 & 1\\\\\n",
       "\t A & gene.2 & 5\\\\\n",
       "\t A & gene.3 & 0\\\\\n",
       "\t B & gene.1 & 1\\\\\n",
       "\t B & gene.2 & 6\\\\\n",
       "\t B & gene.3 & 1\\\\\n",
       "\t C & gene.1 & 2\\\\\n",
       "\t C & gene.2 & 7\\\\\n",
       "\t C & gene.3 & 0\\\\\n",
       "\\end{tabular}\n"
      ],
      "text/markdown": [
       "\n",
       "A data.frame: 9 × 3\n",
       "\n",
       "| id &lt;chr&gt; | gene &lt;chr&gt; | count &lt;dbl&gt; |\n",
       "|---|---|---|\n",
       "| A | gene.1 | 1 |\n",
       "| A | gene.2 | 5 |\n",
       "| A | gene.3 | 0 |\n",
       "| B | gene.1 | 1 |\n",
       "| B | gene.2 | 6 |\n",
       "| B | gene.3 | 1 |\n",
       "| C | gene.1 | 2 |\n",
       "| C | gene.2 | 7 |\n",
       "| C | gene.3 | 0 |\n",
       "\n"
      ],
      "text/plain": [
       "  id gene   count\n",
       "1 A  gene.1 1    \n",
       "2 A  gene.2 5    \n",
       "3 A  gene.3 0    \n",
       "4 B  gene.1 1    \n",
       "5 B  gene.2 6    \n",
       "6 B  gene.3 1    \n",
       "7 C  gene.1 2    \n",
       "8 C  gene.2 7    \n",
       "9 C  gene.3 0    "
      ]
     },
     "metadata": {},
     "output_type": "display_data"
    }
   ],
   "source": [
    "long_df <- data.frame(c(\"A\", \"A\", \"A\", \"B\", \"B\", \"B\", \"C\", \"C\", \"C\"), c(\"gene.1\", \"gene.2\", \"gene.3\", \"gene.1\", \"gene.2\", \"gene.3\", \"gene.1\", \"gene.2\", \"gene.3\"), c(1, 5, 0, 1, 6, 1, 2, 7, 0))\n",
    "colnames(long_df) <- c(\"id\", \"gene\", \"count\")\n",
    "long_df"
   ]
  },
  {
   "cell_type": "markdown",
   "metadata": {},
   "source": [
    "These formats both contain the exact same data but represent it in different ways. Various functions exist to convert between wide and long format and we'll get into this a bit more shortly when discussing the `tidyr` package.  "
   ]
  },
  {
   "cell_type": "markdown",
   "metadata": {},
   "source": [
    "# Adding columns to a data frame"
   ]
  },
  {
   "cell_type": "markdown",
   "metadata": {},
   "source": [
    "Let's make a new example dataframe to work with:"
   ]
  },
  {
   "cell_type": "code",
   "execution_count": 10,
   "metadata": {},
   "outputs": [
    {
     "name": "stdout",
     "output_type": "stream",
     "text": [
      "  c..Boo....Rex....Chuckles.. c.1..3..5. c..dog....dog....dog..\n",
      "1                         Boo          1                    dog\n",
      "2                         Rex          3                    dog\n",
      "3                    Chuckles          5                    dog\n"
     ]
    }
   ],
   "source": [
    "patients_1 <- data.frame(\n",
    "    c('Boo','Rex','Chuckles'), \n",
    "    c(1, 3, 5), \n",
    "    c('dog', 'dog', 'dog'))\n",
    "print(patients_1)"
   ]
  },
  {
   "cell_type": "markdown",
   "metadata": {},
   "source": [
    "Use `names()` or `colnames()` to name columns,  `rownames()` to name rows, or `dimnames()` to assign both column and row names to the data frame.\n",
    "Here we will use `names()` to name the columns:"
   ]
  },
  {
   "cell_type": "code",
   "execution_count": 11,
   "metadata": {},
   "outputs": [
    {
     "name": "stdout",
     "output_type": "stream",
     "text": [
      "      name number_of_visits type\n",
      "1      Boo                1  dog\n",
      "2      Rex                3  dog\n",
      "3 Chuckles                5  dog\n"
     ]
    }
   ],
   "source": [
    "names(patients_1) <- c('name', 'number_of_visits', 'type')\n",
    "print(patients_1)"
   ]
  },
  {
   "cell_type": "markdown",
   "metadata": {},
   "source": [
    "We can use the column names to extract a single column using the notation `dataframe$column`, e.g.:"
   ]
  },
  {
   "cell_type": "code",
   "execution_count": 12,
   "metadata": {},
   "outputs": [
    {
     "name": "stdout",
     "output_type": "stream",
     "text": [
      "[1] \"Boo\"      \"Rex\"      \"Chuckles\"\n"
     ]
    }
   ],
   "source": [
    "print(patients_1$name)"
   ]
  },
  {
   "cell_type": "markdown",
   "metadata": {},
   "source": [
    "The `cbind()` function can be used to add more columns to a dataframe:"
   ]
  },
  {
   "cell_type": "code",
   "execution_count": 13,
   "metadata": {},
   "outputs": [
    {
     "name": "stdout",
     "output_type": "stream",
     "text": [
      "      name number_of_visits type column_4\n",
      "1      Boo                1  dog        4\n",
      "2      Rex                3  dog        2\n",
      "3 Chuckles                5  dog        6\n"
     ]
    }
   ],
   "source": [
    "column_4 <- c(4, 2, 6)\n",
    "patients_1 <- cbind(patients_1, column_4)\n",
    "print(patients_1)"
   ]
  },
  {
   "cell_type": "markdown",
   "metadata": {},
   "source": [
    "We can also rename individual columns of the dataframe using index notation, lets rename the 4th column we just added:"
   ]
  },
  {
   "cell_type": "code",
   "execution_count": 14,
   "metadata": {},
   "outputs": [
    {
     "name": "stdout",
     "output_type": "stream",
     "text": [
      "      name number_of_visits type age_in_years\n",
      "1      Boo                1  dog            4\n",
      "2      Rex                3  dog            2\n",
      "3 Chuckles                5  dog            6\n"
     ]
    }
   ],
   "source": [
    "colnames(patients_1)[4] <- 'age_in_years'\n",
    "print(patients_1)"
   ]
  },
  {
   "cell_type": "markdown",
   "metadata": {},
   "source": [
    "We can also use the `dataframe$column` notation to add a new column and name it at the same time:"
   ]
  },
  {
   "cell_type": "code",
   "execution_count": 15,
   "metadata": {},
   "outputs": [
    {
     "name": "stdout",
     "output_type": "stream",
     "text": [
      "      name number_of_visits type age_in_years weight_in_pounds\n",
      "1      Boo                1  dog            4               35\n",
      "2      Rex                3  dog            2               75\n",
      "3 Chuckles                5  dog            6               15\n"
     ]
    }
   ],
   "source": [
    "patients_1$weight_in_pounds <- c(35, 75, 15)\n",
    "print(patients_1)"
   ]
  },
  {
   "cell_type": "markdown",
   "metadata": {},
   "source": [
    "Let's use `str()` and `attributes()` functions to look at the structure and attributes of this data frame:"
   ]
  },
  {
   "cell_type": "code",
   "execution_count": 16,
   "metadata": {},
   "outputs": [
    {
     "name": "stdout",
     "output_type": "stream",
     "text": [
      "'data.frame':\t3 obs. of  5 variables:\n",
      " $ name            : chr  \"Boo\" \"Rex\" \"Chuckles\"\n",
      " $ number_of_visits: num  1 3 5\n",
      " $ type            : chr  \"dog\" \"dog\" \"dog\"\n",
      " $ age_in_years    : num  4 2 6\n",
      " $ weight_in_pounds: num  35 75 15\n"
     ]
    }
   ],
   "source": [
    "str(patients_1)"
   ]
  },
  {
   "cell_type": "code",
   "execution_count": 17,
   "metadata": {},
   "outputs": [
    {
     "data": {
      "text/html": [
       "<dl>\n",
       "\t<dt>$names</dt>\n",
       "\t\t<dd><style>\n",
       ".list-inline {list-style: none; margin:0; padding: 0}\n",
       ".list-inline>li {display: inline-block}\n",
       ".list-inline>li:not(:last-child)::after {content: \"\\00b7\"; padding: 0 .5ex}\n",
       "</style>\n",
       "<ol class=list-inline><li>'name'</li><li>'number_of_visits'</li><li>'type'</li><li>'age_in_years'</li><li>'weight_in_pounds'</li></ol>\n",
       "</dd>\n",
       "\t<dt>$row.names</dt>\n",
       "\t\t<dd><style>\n",
       ".list-inline {list-style: none; margin:0; padding: 0}\n",
       ".list-inline>li {display: inline-block}\n",
       ".list-inline>li:not(:last-child)::after {content: \"\\00b7\"; padding: 0 .5ex}\n",
       "</style>\n",
       "<ol class=list-inline><li>1</li><li>2</li><li>3</li></ol>\n",
       "</dd>\n",
       "\t<dt>$class</dt>\n",
       "\t\t<dd>'data.frame'</dd>\n",
       "</dl>\n"
      ],
      "text/latex": [
       "\\begin{description}\n",
       "\\item[\\$names] \\begin{enumerate*}\n",
       "\\item 'name'\n",
       "\\item 'number\\_of\\_visits'\n",
       "\\item 'type'\n",
       "\\item 'age\\_in\\_years'\n",
       "\\item 'weight\\_in\\_pounds'\n",
       "\\end{enumerate*}\n",
       "\n",
       "\\item[\\$row.names] \\begin{enumerate*}\n",
       "\\item 1\n",
       "\\item 2\n",
       "\\item 3\n",
       "\\end{enumerate*}\n",
       "\n",
       "\\item[\\$class] 'data.frame'\n",
       "\\end{description}\n"
      ],
      "text/markdown": [
       "$names\n",
       ":   1. 'name'\n",
       "2. 'number_of_visits'\n",
       "3. 'type'\n",
       "4. 'age_in_years'\n",
       "5. 'weight_in_pounds'\n",
       "\n",
       "\n",
       "\n",
       "$row.names\n",
       ":   1. 1\n",
       "2. 2\n",
       "3. 3\n",
       "\n",
       "\n",
       "\n",
       "$class\n",
       ":   'data.frame'\n",
       "\n",
       "\n"
      ],
      "text/plain": [
       "$names\n",
       "[1] \"name\"             \"number_of_visits\" \"type\"             \"age_in_years\"    \n",
       "[5] \"weight_in_pounds\"\n",
       "\n",
       "$row.names\n",
       "[1] 1 2 3\n",
       "\n",
       "$class\n",
       "[1] \"data.frame\"\n"
      ]
     },
     "metadata": {},
     "output_type": "display_data"
    }
   ],
   "source": [
    "attributes(patients_1)"
   ]
  },
  {
   "cell_type": "markdown",
   "metadata": {},
   "source": [
    "# Data frame merging\n",
    "- Data is often spread across more than one file, reading each file into R will result in more than one data frame. \n",
    "- If the data frames have some common identifying column, we can use that common ID to combine the data frames. \n",
    "\n",
    "For example:"
   ]
  },
  {
   "cell_type": "code",
   "execution_count": 18,
   "metadata": {},
   "outputs": [
    {
     "name": "stdout",
     "output_type": "stream",
     "text": [
      "      name number_of_visits type age_in_years weight_in_pounds\n",
      "1      Boo                1  dog            4               35\n",
      "2      Rex                3  dog            2               75\n",
      "3 Chuckles                5  dog            6               15\n"
     ]
    }
   ],
   "source": [
    "print(patients_1)"
   ]
  },
  {
   "cell_type": "markdown",
   "metadata": {},
   "source": [
    "Let's make another data frame:"
   ]
  },
  {
   "cell_type": "code",
   "execution_count": 19,
   "metadata": {},
   "outputs": [
    {
     "name": "stdout",
     "output_type": "stream",
     "text": [
      "    name number_of_visits type age_in_years\n",
      "1 Fluffy                1  cat            1\n",
      "2 Smokey                1  dog            3\n",
      "3  Kitty                2  cat            5\n"
     ]
    }
   ],
   "source": [
    "patients_2 <- data.frame(\n",
    "    c('Fluffy', 'Smokey', 'Kitty'), \n",
    "    c(1, 1, 2), \n",
    "    c('cat', 'dog', 'cat'),\n",
    "    c(1, 3, 5))\n",
    "colnames(patients_2) <- c('name', 'number_of_visits', 'type', 'age_in_years')\n",
    "print(patients_2)"
   ]
  },
  {
   "cell_type": "markdown",
   "metadata": {},
   "source": [
    "We can use the `merge()` function to combine them:"
   ]
  },
  {
   "cell_type": "code",
   "execution_count": 20,
   "metadata": {},
   "outputs": [
    {
     "name": "stdout",
     "output_type": "stream",
     "text": [
      "      name number_of_visits type age_in_years weight_in_pounds\n",
      "1      Boo                1  dog            4               35\n",
      "2 Chuckles                5  dog            6               15\n",
      "3   Fluffy                1  cat            1               NA\n",
      "4    Kitty                2  cat            5               NA\n",
      "5      Rex                3  dog            2               75\n",
      "6   Smokey                1  dog            3               NA\n"
     ]
    }
   ],
   "source": [
    "patients_df <- merge(patients_1, patients_2, all = TRUE)\n",
    "print(patients_df)"
   ]
  },
  {
   "cell_type": "markdown",
   "metadata": {},
   "source": [
    "- Using `all = TRUE` will fill in blank values if needed (for example, the weight of any of the animals in `patients_2`).\n",
    "- Using the `all.x = TRUE` argument will return all values in the `patients_1` dataframe, as well as any entries with the same ID column(s) from `patients_2`."
   ]
  },
  {
   "cell_type": "code",
   "execution_count": 21,
   "metadata": {},
   "outputs": [
    {
     "name": "stdout",
     "output_type": "stream",
     "text": [
      "      name number_of_visits type age_in_years weight_in_pounds\n",
      "1      Boo                1  dog            4               35\n",
      "2 Chuckles                5  dog            6               15\n",
      "3      Rex                3  dog            2               75\n"
     ]
    }
   ],
   "source": [
    "patients_df <- merge(patients_1, patients_2, all.x = TRUE)\n",
    "print(patients_df)"
   ]
  },
  {
   "cell_type": "markdown",
   "metadata": {},
   "source": [
    "- Using the `all.y = TRUE` argument will return all values in the `patients_2` dataframe, as well as any entries with the same ID column(s) from `patients_1`."
   ]
  },
  {
   "cell_type": "code",
   "execution_count": 22,
   "metadata": {},
   "outputs": [
    {
     "name": "stdout",
     "output_type": "stream",
     "text": [
      "    name number_of_visits type age_in_years weight_in_pounds\n",
      "1 Fluffy                1  cat            1               NA\n",
      "2  Kitty                2  cat            5               NA\n",
      "3 Smokey                1  dog            3               NA\n"
     ]
    }
   ],
   "source": [
    "patients_df <- merge(patients_1, patients_2, all.y = TRUE)\n",
    "print(patients_df)"
   ]
  },
  {
   "cell_type": "markdown",
   "metadata": {},
   "source": [
    "You can also specify which columns to join on:"
   ]
  },
  {
   "cell_type": "code",
   "execution_count": 23,
   "metadata": {},
   "outputs": [
    {
     "name": "stdout",
     "output_type": "stream",
     "text": [
      "      name type number_of_visits age_in_years weight_in_pounds\n",
      "1      Boo  dog                1            4               35\n",
      "2 Chuckles  dog                5            6               15\n",
      "3   Fluffy  cat                1            1               NA\n",
      "4    Kitty  cat                2            5               NA\n",
      "5      Rex  dog                3            2               75\n",
      "6   Smokey  dog                1            3               NA\n"
     ]
    }
   ],
   "source": [
    "patients_df <- merge(patients_1, patients_2, by = c('name', 'type', 'number_of_visits', 'age_in_years'), all = TRUE)\n",
    "print(patients_df)"
   ]
  },
  {
   "cell_type": "markdown",
   "metadata": {},
   "source": [
    "# Tidying Data\n",
    "\n",
    "Most datasets are data frames made up of rows and columns. However, talking about data frames just in terms of what rows and columns it has is not enough.\n",
    "\n",
    " * **Variable:** quantity, quality, property that can be measured.\n",
    " * **Value:** State of variable when measured.\n",
    " * **Observation:** Set of measurements made under similar conditions\n",
    " * **Tabular data:** Set of values, each associated with a variable and an observation.\n",
    "\n",
    "Tidy data:\n",
    " * Each variable is its own column\n",
    " * Each observation is its own row\n",
    " * Each value is in a single cell\n",
    " \n",
    "Benefits:\n",
    " * Easy to manipulate\n",
    " * Easy to model\n",
    " * Easy to visualize\n",
    " * Has a specific and consistent structure\n",
    " * Stucture makes it easy to tidy other data\n",
    " \n",
    "Cons:\n",
    " * Data frame is not as easy to look at\n",
    "\n",
    "Consider the following tables:"
   ]
  },
  {
   "cell_type": "code",
   "execution_count": 24,
   "metadata": {},
   "outputs": [
    {
     "data": {
      "text/html": [
       "<table class=\"dataframe\">\n",
       "<caption>A data.frame: 6 × 4</caption>\n",
       "<thead>\n",
       "\t<tr><th scope=col>makemodel</th><th scope=col>year</th><th scope=col>cty</th><th scope=col>hwy</th></tr>\n",
       "\t<tr><th scope=col>&lt;chr&gt;</th><th scope=col>&lt;dbl&gt;</th><th scope=col>&lt;dbl&gt;</th><th scope=col>&lt;dbl&gt;</th></tr>\n",
       "</thead>\n",
       "<tbody>\n",
       "\t<tr><td>audi a4           </td><td>1999</td><td>18</td><td>29</td></tr>\n",
       "\t<tr><td>audi a4           </td><td>2008</td><td>21</td><td>30</td></tr>\n",
       "\t<tr><td>chevrolet corvette</td><td>1999</td><td>15</td><td>23</td></tr>\n",
       "\t<tr><td>chevrolet corvette</td><td>2008</td><td>15</td><td>25</td></tr>\n",
       "\t<tr><td>honda civic       </td><td>1999</td><td>24</td><td>32</td></tr>\n",
       "\t<tr><td>honda civic       </td><td>2008</td><td>25</td><td>36</td></tr>\n",
       "</tbody>\n",
       "</table>\n"
      ],
      "text/latex": [
       "A data.frame: 6 × 4\n",
       "\\begin{tabular}{llll}\n",
       " makemodel & year & cty & hwy\\\\\n",
       " <chr> & <dbl> & <dbl> & <dbl>\\\\\n",
       "\\hline\n",
       "\t audi a4            & 1999 & 18 & 29\\\\\n",
       "\t audi a4            & 2008 & 21 & 30\\\\\n",
       "\t chevrolet corvette & 1999 & 15 & 23\\\\\n",
       "\t chevrolet corvette & 2008 & 15 & 25\\\\\n",
       "\t honda civic        & 1999 & 24 & 32\\\\\n",
       "\t honda civic        & 2008 & 25 & 36\\\\\n",
       "\\end{tabular}\n"
      ],
      "text/markdown": [
       "\n",
       "A data.frame: 6 × 4\n",
       "\n",
       "| makemodel &lt;chr&gt; | year &lt;dbl&gt; | cty &lt;dbl&gt; | hwy &lt;dbl&gt; |\n",
       "|---|---|---|---|\n",
       "| audi a4            | 1999 | 18 | 29 |\n",
       "| audi a4            | 2008 | 21 | 30 |\n",
       "| chevrolet corvette | 1999 | 15 | 23 |\n",
       "| chevrolet corvette | 2008 | 15 | 25 |\n",
       "| honda civic        | 1999 | 24 | 32 |\n",
       "| honda civic        | 2008 | 25 | 36 |\n",
       "\n"
      ],
      "text/plain": [
       "  makemodel          year cty hwy\n",
       "1 audi a4            1999 18  29 \n",
       "2 audi a4            2008 21  30 \n",
       "3 chevrolet corvette 1999 15  23 \n",
       "4 chevrolet corvette 2008 15  25 \n",
       "5 honda civic        1999 24  32 \n",
       "6 honda civic        2008 25  36 "
      ]
     },
     "metadata": {},
     "output_type": "display_data"
    }
   ],
   "source": [
    "table1 <- data.frame(makemodel=c(\"audi a4\",\"audi a4\",\"chevrolet corvette\",\"chevrolet corvette\",\"honda civic\",\"honda civic\"),\n",
    "                    year=rep(c(1999,2008),3),\n",
    "                    cty=c(18,21,15,15,24,25),\n",
    "                    hwy=c(29,30,23,25,32,36))\n",
    "table1"
   ]
  },
  {
   "cell_type": "markdown",
   "metadata": {},
   "source": [
    "This is tidy data, because each column is a variable, each observation is a row, and each value is in a single cell\n",
    "\n",
    "Next we will look at some non-tidy data and operations from the **tidyr** package (part of **tidyverse**) to make the data tidy. Note that many of you might be more used to using operations from **reshape2**, like melting and casting. It's a very useful package with more functionality including aggregating data, but syntax with **tidyr** commands is simpler and more intuitive for the purposes of tidying data."
   ]
  },
  {
   "cell_type": "markdown",
   "metadata": {},
   "source": [
    "## pivot_wider"
   ]
  },
  {
   "cell_type": "markdown",
   "metadata": {},
   "source": [
    "We can use the `pivot_wider` function to get our data in wide format (less rows, more columns). It accepts the following arguments:\n",
    "`id_cols` - a set of columns that uniquely identified each observation, defaults to all values in your data except what you specify in `names_from` and `values_from`. `names_from` and `values_from` describe which columns will be used to name the output column (`names_from`) and which column will be used to populate the call values (`values_from`). To see the rest of the optional arguments, use `?pivot_wider`."
   ]
  },
  {
   "cell_type": "code",
   "execution_count": 65,
   "metadata": {},
   "outputs": [],
   "source": [
    "?tidyr::pivot_wider"
   ]
  },
  {
   "cell_type": "code",
   "execution_count": 25,
   "metadata": {},
   "outputs": [
    {
     "data": {
      "text/html": [
       "<table class=\"dataframe\">\n",
       "<caption>A tibble: 3 × 5</caption>\n",
       "<thead>\n",
       "\t<tr><th scope=col>makemodel</th><th scope=col>cty_1999</th><th scope=col>cty_2008</th><th scope=col>hwy_1999</th><th scope=col>hwy_2008</th></tr>\n",
       "\t<tr><th scope=col>&lt;chr&gt;</th><th scope=col>&lt;dbl&gt;</th><th scope=col>&lt;dbl&gt;</th><th scope=col>&lt;dbl&gt;</th><th scope=col>&lt;dbl&gt;</th></tr>\n",
       "</thead>\n",
       "<tbody>\n",
       "\t<tr><td>audi a4           </td><td>18</td><td>21</td><td>29</td><td>30</td></tr>\n",
       "\t<tr><td>chevrolet corvette</td><td>15</td><td>15</td><td>23</td><td>25</td></tr>\n",
       "\t<tr><td>honda civic       </td><td>24</td><td>25</td><td>32</td><td>36</td></tr>\n",
       "</tbody>\n",
       "</table>\n"
      ],
      "text/latex": [
       "A tibble: 3 × 5\n",
       "\\begin{tabular}{lllll}\n",
       " makemodel & cty\\_1999 & cty\\_2008 & hwy\\_1999 & hwy\\_2008\\\\\n",
       " <chr> & <dbl> & <dbl> & <dbl> & <dbl>\\\\\n",
       "\\hline\n",
       "\t audi a4            & 18 & 21 & 29 & 30\\\\\n",
       "\t chevrolet corvette & 15 & 15 & 23 & 25\\\\\n",
       "\t honda civic        & 24 & 25 & 32 & 36\\\\\n",
       "\\end{tabular}\n"
      ],
      "text/markdown": [
       "\n",
       "A tibble: 3 × 5\n",
       "\n",
       "| makemodel &lt;chr&gt; | cty_1999 &lt;dbl&gt; | cty_2008 &lt;dbl&gt; | hwy_1999 &lt;dbl&gt; | hwy_2008 &lt;dbl&gt; |\n",
       "|---|---|---|---|---|\n",
       "| audi a4            | 18 | 21 | 29 | 30 |\n",
       "| chevrolet corvette | 15 | 15 | 23 | 25 |\n",
       "| honda civic        | 24 | 25 | 32 | 36 |\n",
       "\n"
      ],
      "text/plain": [
       "  makemodel          cty_1999 cty_2008 hwy_1999 hwy_2008\n",
       "1 audi a4            18       21       29       30      \n",
       "2 chevrolet corvette 15       15       23       25      \n",
       "3 honda civic        24       25       32       36      "
      ]
     },
     "metadata": {},
     "output_type": "display_data"
    }
   ],
   "source": [
    "table2 <- tidyr::pivot_wider(table1,\n",
    "            names_from = year,\n",
    "            values_from = c(cty, hwy))\n",
    "table2"
   ]
  },
  {
   "cell_type": "markdown",
   "metadata": {},
   "source": [
    "## pivot_longer"
   ]
  },
  {
   "cell_type": "markdown",
   "metadata": {},
   "source": [
    "`pivot_longer` is the inverse transformation of `pivot_wider`. It'll make your data longer (more rows, less columns). It accepts the following arguments:`cols` are the columns to pivot into longer format, `names_to` a string specifying the name of the column to create from the data stored in the column names of the input data, `values_to` a string specifying the name of the column to create from the data stored in the cell values."
   ]
  },
  {
   "cell_type": "code",
   "execution_count": null,
   "metadata": {},
   "outputs": [],
   "source": [
    "tidyr::pivot_longer"
   ]
  },
  {
   "cell_type": "code",
   "execution_count": 26,
   "metadata": {
    "scrolled": false
   },
   "outputs": [
    {
     "data": {
      "text/html": [
       "<table class=\"dataframe\">\n",
       "<caption>A tibble: 12 × 3</caption>\n",
       "<thead>\n",
       "\t<tr><th scope=col>makemodel</th><th scope=col>mpg_year</th><th scope=col>value</th></tr>\n",
       "\t<tr><th scope=col>&lt;chr&gt;</th><th scope=col>&lt;chr&gt;</th><th scope=col>&lt;dbl&gt;</th></tr>\n",
       "</thead>\n",
       "<tbody>\n",
       "\t<tr><td>audi a4           </td><td>cty_1999</td><td>18</td></tr>\n",
       "\t<tr><td>audi a4           </td><td>cty_2008</td><td>21</td></tr>\n",
       "\t<tr><td>audi a4           </td><td>hwy_1999</td><td>29</td></tr>\n",
       "\t<tr><td>audi a4           </td><td>hwy_2008</td><td>30</td></tr>\n",
       "\t<tr><td>chevrolet corvette</td><td>cty_1999</td><td>15</td></tr>\n",
       "\t<tr><td>chevrolet corvette</td><td>cty_2008</td><td>15</td></tr>\n",
       "\t<tr><td>chevrolet corvette</td><td>hwy_1999</td><td>23</td></tr>\n",
       "\t<tr><td>chevrolet corvette</td><td>hwy_2008</td><td>25</td></tr>\n",
       "\t<tr><td>honda civic       </td><td>cty_1999</td><td>24</td></tr>\n",
       "\t<tr><td>honda civic       </td><td>cty_2008</td><td>25</td></tr>\n",
       "\t<tr><td>honda civic       </td><td>hwy_1999</td><td>32</td></tr>\n",
       "\t<tr><td>honda civic       </td><td>hwy_2008</td><td>36</td></tr>\n",
       "</tbody>\n",
       "</table>\n"
      ],
      "text/latex": [
       "A tibble: 12 × 3\n",
       "\\begin{tabular}{lll}\n",
       " makemodel & mpg\\_year & value\\\\\n",
       " <chr> & <chr> & <dbl>\\\\\n",
       "\\hline\n",
       "\t audi a4            & cty\\_1999 & 18\\\\\n",
       "\t audi a4            & cty\\_2008 & 21\\\\\n",
       "\t audi a4            & hwy\\_1999 & 29\\\\\n",
       "\t audi a4            & hwy\\_2008 & 30\\\\\n",
       "\t chevrolet corvette & cty\\_1999 & 15\\\\\n",
       "\t chevrolet corvette & cty\\_2008 & 15\\\\\n",
       "\t chevrolet corvette & hwy\\_1999 & 23\\\\\n",
       "\t chevrolet corvette & hwy\\_2008 & 25\\\\\n",
       "\t honda civic        & cty\\_1999 & 24\\\\\n",
       "\t honda civic        & cty\\_2008 & 25\\\\\n",
       "\t honda civic        & hwy\\_1999 & 32\\\\\n",
       "\t honda civic        & hwy\\_2008 & 36\\\\\n",
       "\\end{tabular}\n"
      ],
      "text/markdown": [
       "\n",
       "A tibble: 12 × 3\n",
       "\n",
       "| makemodel &lt;chr&gt; | mpg_year &lt;chr&gt; | value &lt;dbl&gt; |\n",
       "|---|---|---|\n",
       "| audi a4            | cty_1999 | 18 |\n",
       "| audi a4            | cty_2008 | 21 |\n",
       "| audi a4            | hwy_1999 | 29 |\n",
       "| audi a4            | hwy_2008 | 30 |\n",
       "| chevrolet corvette | cty_1999 | 15 |\n",
       "| chevrolet corvette | cty_2008 | 15 |\n",
       "| chevrolet corvette | hwy_1999 | 23 |\n",
       "| chevrolet corvette | hwy_2008 | 25 |\n",
       "| honda civic        | cty_1999 | 24 |\n",
       "| honda civic        | cty_2008 | 25 |\n",
       "| honda civic        | hwy_1999 | 32 |\n",
       "| honda civic        | hwy_2008 | 36 |\n",
       "\n"
      ],
      "text/plain": [
       "   makemodel          mpg_year value\n",
       "1  audi a4            cty_1999 18   \n",
       "2  audi a4            cty_2008 21   \n",
       "3  audi a4            hwy_1999 29   \n",
       "4  audi a4            hwy_2008 30   \n",
       "5  chevrolet corvette cty_1999 15   \n",
       "6  chevrolet corvette cty_2008 15   \n",
       "7  chevrolet corvette hwy_1999 23   \n",
       "8  chevrolet corvette hwy_2008 25   \n",
       "9  honda civic        cty_1999 24   \n",
       "10 honda civic        cty_2008 25   \n",
       "11 honda civic        hwy_1999 32   \n",
       "12 honda civic        hwy_2008 36   "
      ]
     },
     "metadata": {},
     "output_type": "display_data"
    }
   ],
   "source": [
    "table3 <- tidyr::pivot_longer(table2,\n",
    "                       cols = !makemodel,\n",
    "                       names_to = 'mpg_year',\n",
    "                      values_to = 'value')\n",
    "table3\n"
   ]
  },
  {
   "cell_type": "markdown",
   "metadata": {},
   "source": [
    "## Separating"
   ]
  },
  {
   "cell_type": "markdown",
   "metadata": {},
   "source": [
    "`table3` has a `mpg_year` column that actually contains two variables, which we can separate into two columns.\n",
    "\n",
    "Parameters:\n",
    " * table and column/variable that needs to be separated.\n",
    " * `into`: columns to split into\n",
    " * `sep`: separator value. Can be regexp or positions to split at. If not provided then splits at non-alphanumeric characters.We can split the new `mpg_year` column we just made using `separate`."
   ]
  },
  {
   "cell_type": "code",
   "execution_count": 67,
   "metadata": {},
   "outputs": [],
   "source": [
    "?tidyr::separate"
   ]
  },
  {
   "cell_type": "code",
   "execution_count": 27,
   "metadata": {},
   "outputs": [
    {
     "data": {
      "text/html": [
       "<table class=\"dataframe\">\n",
       "<caption>A tibble: 12 × 4</caption>\n",
       "<thead>\n",
       "\t<tr><th scope=col>makemodel</th><th scope=col>mpg</th><th scope=col>year</th><th scope=col>value</th></tr>\n",
       "\t<tr><th scope=col>&lt;chr&gt;</th><th scope=col>&lt;chr&gt;</th><th scope=col>&lt;chr&gt;</th><th scope=col>&lt;dbl&gt;</th></tr>\n",
       "</thead>\n",
       "<tbody>\n",
       "\t<tr><td>audi a4           </td><td>cty</td><td>1999</td><td>18</td></tr>\n",
       "\t<tr><td>audi a4           </td><td>cty</td><td>2008</td><td>21</td></tr>\n",
       "\t<tr><td>audi a4           </td><td>hwy</td><td>1999</td><td>29</td></tr>\n",
       "\t<tr><td>audi a4           </td><td>hwy</td><td>2008</td><td>30</td></tr>\n",
       "\t<tr><td>chevrolet corvette</td><td>cty</td><td>1999</td><td>15</td></tr>\n",
       "\t<tr><td>chevrolet corvette</td><td>cty</td><td>2008</td><td>15</td></tr>\n",
       "\t<tr><td>chevrolet corvette</td><td>hwy</td><td>1999</td><td>23</td></tr>\n",
       "\t<tr><td>chevrolet corvette</td><td>hwy</td><td>2008</td><td>25</td></tr>\n",
       "\t<tr><td>honda civic       </td><td>cty</td><td>1999</td><td>24</td></tr>\n",
       "\t<tr><td>honda civic       </td><td>cty</td><td>2008</td><td>25</td></tr>\n",
       "\t<tr><td>honda civic       </td><td>hwy</td><td>1999</td><td>32</td></tr>\n",
       "\t<tr><td>honda civic       </td><td>hwy</td><td>2008</td><td>36</td></tr>\n",
       "</tbody>\n",
       "</table>\n"
      ],
      "text/latex": [
       "A tibble: 12 × 4\n",
       "\\begin{tabular}{llll}\n",
       " makemodel & mpg & year & value\\\\\n",
       " <chr> & <chr> & <chr> & <dbl>\\\\\n",
       "\\hline\n",
       "\t audi a4            & cty & 1999 & 18\\\\\n",
       "\t audi a4            & cty & 2008 & 21\\\\\n",
       "\t audi a4            & hwy & 1999 & 29\\\\\n",
       "\t audi a4            & hwy & 2008 & 30\\\\\n",
       "\t chevrolet corvette & cty & 1999 & 15\\\\\n",
       "\t chevrolet corvette & cty & 2008 & 15\\\\\n",
       "\t chevrolet corvette & hwy & 1999 & 23\\\\\n",
       "\t chevrolet corvette & hwy & 2008 & 25\\\\\n",
       "\t honda civic        & cty & 1999 & 24\\\\\n",
       "\t honda civic        & cty & 2008 & 25\\\\\n",
       "\t honda civic        & hwy & 1999 & 32\\\\\n",
       "\t honda civic        & hwy & 2008 & 36\\\\\n",
       "\\end{tabular}\n"
      ],
      "text/markdown": [
       "\n",
       "A tibble: 12 × 4\n",
       "\n",
       "| makemodel &lt;chr&gt; | mpg &lt;chr&gt; | year &lt;chr&gt; | value &lt;dbl&gt; |\n",
       "|---|---|---|---|\n",
       "| audi a4            | cty | 1999 | 18 |\n",
       "| audi a4            | cty | 2008 | 21 |\n",
       "| audi a4            | hwy | 1999 | 29 |\n",
       "| audi a4            | hwy | 2008 | 30 |\n",
       "| chevrolet corvette | cty | 1999 | 15 |\n",
       "| chevrolet corvette | cty | 2008 | 15 |\n",
       "| chevrolet corvette | hwy | 1999 | 23 |\n",
       "| chevrolet corvette | hwy | 2008 | 25 |\n",
       "| honda civic        | cty | 1999 | 24 |\n",
       "| honda civic        | cty | 2008 | 25 |\n",
       "| honda civic        | hwy | 1999 | 32 |\n",
       "| honda civic        | hwy | 2008 | 36 |\n",
       "\n"
      ],
      "text/plain": [
       "   makemodel          mpg year value\n",
       "1  audi a4            cty 1999 18   \n",
       "2  audi a4            cty 2008 21   \n",
       "3  audi a4            hwy 1999 29   \n",
       "4  audi a4            hwy 2008 30   \n",
       "5  chevrolet corvette cty 1999 15   \n",
       "6  chevrolet corvette cty 2008 15   \n",
       "7  chevrolet corvette hwy 1999 23   \n",
       "8  chevrolet corvette hwy 2008 25   \n",
       "9  honda civic        cty 1999 24   \n",
       "10 honda civic        cty 2008 25   \n",
       "11 honda civic        hwy 1999 32   \n",
       "12 honda civic        hwy 2008 36   "
      ]
     },
     "metadata": {},
     "output_type": "display_data"
    }
   ],
   "source": [
    "table4 <- tidyr::separate(table3, mpg_year, into = c(\"mpg\", \"year\"), sep=\"_\")\n",
    "table4"
   ]
  },
  {
   "cell_type": "markdown",
   "metadata": {},
   "source": [
    "`pivot_wider` to get things tidy again"
   ]
  },
  {
   "cell_type": "code",
   "execution_count": 28,
   "metadata": {},
   "outputs": [
    {
     "data": {
      "text/html": [
       "<table class=\"dataframe\">\n",
       "<caption>A tibble: 6 × 4</caption>\n",
       "<thead>\n",
       "\t<tr><th scope=col>makemodel</th><th scope=col>year</th><th scope=col>cty</th><th scope=col>hwy</th></tr>\n",
       "\t<tr><th scope=col>&lt;chr&gt;</th><th scope=col>&lt;chr&gt;</th><th scope=col>&lt;dbl&gt;</th><th scope=col>&lt;dbl&gt;</th></tr>\n",
       "</thead>\n",
       "<tbody>\n",
       "\t<tr><td>audi a4           </td><td>1999</td><td>18</td><td>29</td></tr>\n",
       "\t<tr><td>audi a4           </td><td>2008</td><td>21</td><td>30</td></tr>\n",
       "\t<tr><td>chevrolet corvette</td><td>1999</td><td>15</td><td>23</td></tr>\n",
       "\t<tr><td>chevrolet corvette</td><td>2008</td><td>15</td><td>25</td></tr>\n",
       "\t<tr><td>honda civic       </td><td>1999</td><td>24</td><td>32</td></tr>\n",
       "\t<tr><td>honda civic       </td><td>2008</td><td>25</td><td>36</td></tr>\n",
       "</tbody>\n",
       "</table>\n"
      ],
      "text/latex": [
       "A tibble: 6 × 4\n",
       "\\begin{tabular}{llll}\n",
       " makemodel & year & cty & hwy\\\\\n",
       " <chr> & <chr> & <dbl> & <dbl>\\\\\n",
       "\\hline\n",
       "\t audi a4            & 1999 & 18 & 29\\\\\n",
       "\t audi a4            & 2008 & 21 & 30\\\\\n",
       "\t chevrolet corvette & 1999 & 15 & 23\\\\\n",
       "\t chevrolet corvette & 2008 & 15 & 25\\\\\n",
       "\t honda civic        & 1999 & 24 & 32\\\\\n",
       "\t honda civic        & 2008 & 25 & 36\\\\\n",
       "\\end{tabular}\n"
      ],
      "text/markdown": [
       "\n",
       "A tibble: 6 × 4\n",
       "\n",
       "| makemodel &lt;chr&gt; | year &lt;chr&gt; | cty &lt;dbl&gt; | hwy &lt;dbl&gt; |\n",
       "|---|---|---|---|\n",
       "| audi a4            | 1999 | 18 | 29 |\n",
       "| audi a4            | 2008 | 21 | 30 |\n",
       "| chevrolet corvette | 1999 | 15 | 23 |\n",
       "| chevrolet corvette | 2008 | 15 | 25 |\n",
       "| honda civic        | 1999 | 24 | 32 |\n",
       "| honda civic        | 2008 | 25 | 36 |\n",
       "\n"
      ],
      "text/plain": [
       "  makemodel          year cty hwy\n",
       "1 audi a4            1999 18  29 \n",
       "2 audi a4            2008 21  30 \n",
       "3 chevrolet corvette 1999 15  23 \n",
       "4 chevrolet corvette 2008 15  25 \n",
       "5 honda civic        1999 24  32 \n",
       "6 honda civic        2008 25  36 "
      ]
     },
     "metadata": {},
     "output_type": "display_data"
    }
   ],
   "source": [
    "table5 <- tidyr::pivot_wider(table4,\n",
    "            names_from = mpg,\n",
    "            values_from = value)\n",
    "table5"
   ]
  },
  {
   "cell_type": "markdown",
   "metadata": {},
   "source": [
    "## Uniting"
   ]
  },
  {
   "cell_type": "markdown",
   "metadata": {},
   "source": [
    "Let's say we want to unite `cty` and `hwy` to be one column. We can do this using the `unite` function.\n",
    "\n",
    "`Unite` will accept the following arguments: `col` the name of the new column, `sep` as the separator between values, and the columns to unite are indicated using `:` or listing them out as below.\n"
   ]
  },
  {
   "cell_type": "code",
   "execution_count": 69,
   "metadata": {},
   "outputs": [],
   "source": [
    "?tidyr::unite"
   ]
  },
  {
   "cell_type": "code",
   "execution_count": 29,
   "metadata": {},
   "outputs": [
    {
     "data": {
      "text/html": [
       "<table class=\"dataframe\">\n",
       "<caption>A tibble: 6 × 3</caption>\n",
       "<thead>\n",
       "\t<tr><th scope=col>makemodel</th><th scope=col>year</th><th scope=col>cty_hwy</th></tr>\n",
       "\t<tr><th scope=col>&lt;chr&gt;</th><th scope=col>&lt;chr&gt;</th><th scope=col>&lt;chr&gt;</th></tr>\n",
       "</thead>\n",
       "<tbody>\n",
       "\t<tr><td>audi a4           </td><td>1999</td><td>18_29</td></tr>\n",
       "\t<tr><td>audi a4           </td><td>2008</td><td>21_30</td></tr>\n",
       "\t<tr><td>chevrolet corvette</td><td>1999</td><td>15_23</td></tr>\n",
       "\t<tr><td>chevrolet corvette</td><td>2008</td><td>15_25</td></tr>\n",
       "\t<tr><td>honda civic       </td><td>1999</td><td>24_32</td></tr>\n",
       "\t<tr><td>honda civic       </td><td>2008</td><td>25_36</td></tr>\n",
       "</tbody>\n",
       "</table>\n"
      ],
      "text/latex": [
       "A tibble: 6 × 3\n",
       "\\begin{tabular}{lll}\n",
       " makemodel & year & cty\\_hwy\\\\\n",
       " <chr> & <chr> & <chr>\\\\\n",
       "\\hline\n",
       "\t audi a4            & 1999 & 18\\_29\\\\\n",
       "\t audi a4            & 2008 & 21\\_30\\\\\n",
       "\t chevrolet corvette & 1999 & 15\\_23\\\\\n",
       "\t chevrolet corvette & 2008 & 15\\_25\\\\\n",
       "\t honda civic        & 1999 & 24\\_32\\\\\n",
       "\t honda civic        & 2008 & 25\\_36\\\\\n",
       "\\end{tabular}\n"
      ],
      "text/markdown": [
       "\n",
       "A tibble: 6 × 3\n",
       "\n",
       "| makemodel &lt;chr&gt; | year &lt;chr&gt; | cty_hwy &lt;chr&gt; |\n",
       "|---|---|---|\n",
       "| audi a4            | 1999 | 18_29 |\n",
       "| audi a4            | 2008 | 21_30 |\n",
       "| chevrolet corvette | 1999 | 15_23 |\n",
       "| chevrolet corvette | 2008 | 15_25 |\n",
       "| honda civic        | 1999 | 24_32 |\n",
       "| honda civic        | 2008 | 25_36 |\n",
       "\n"
      ],
      "text/plain": [
       "  makemodel          year cty_hwy\n",
       "1 audi a4            1999 18_29  \n",
       "2 audi a4            2008 21_30  \n",
       "3 chevrolet corvette 1999 15_23  \n",
       "4 chevrolet corvette 2008 15_25  \n",
       "5 honda civic        1999 24_32  \n",
       "6 honda civic        2008 25_36  "
      ]
     },
     "metadata": {},
     "output_type": "display_data"
    }
   ],
   "source": [
    "table6 <- tidyr::unite(table5, col = cty_hwy, cty, hwy, sep='_')\n",
    "table6"
   ]
  },
  {
   "cell_type": "markdown",
   "metadata": {},
   "source": [
    "## Piping"
   ]
  },
  {
   "cell_type": "markdown",
   "metadata": {},
   "source": [
    "dplyr from tidyverse contains the 'pipe' (%>%) which allows you to combine multiple operations, directly taking output from a funtion as input to the next. Can save time and memory as well as make code easier to read. Can think of it this way: x %>% f(y) becomes f(x,y), and x %>% f(y) %>% g(z) becomes g(f(x,y),z), etc."
   ]
  },
  {
   "cell_type": "code",
   "execution_count": 30,
   "metadata": {},
   "outputs": [
    {
     "data": {
      "text/html": [
       "<table class=\"dataframe\">\n",
       "<caption>A tibble: 3 × 3</caption>\n",
       "<thead>\n",
       "\t<tr><th scope=col>makemodel</th><th scope=col>year</th><th scope=col>cty_hwy</th></tr>\n",
       "\t<tr><th scope=col>&lt;chr&gt;</th><th scope=col>&lt;chr&gt;</th><th scope=col>&lt;chr&gt;</th></tr>\n",
       "</thead>\n",
       "<tbody>\n",
       "\t<tr><td>audi a4           </td><td>1999</td><td>18_29</td></tr>\n",
       "\t<tr><td>chevrolet corvette</td><td>1999</td><td>15_23</td></tr>\n",
       "\t<tr><td>honda civic       </td><td>1999</td><td>24_32</td></tr>\n",
       "</tbody>\n",
       "</table>\n"
      ],
      "text/latex": [
       "A tibble: 3 × 3\n",
       "\\begin{tabular}{lll}\n",
       " makemodel & year & cty\\_hwy\\\\\n",
       " <chr> & <chr> & <chr>\\\\\n",
       "\\hline\n",
       "\t audi a4            & 1999 & 18\\_29\\\\\n",
       "\t chevrolet corvette & 1999 & 15\\_23\\\\\n",
       "\t honda civic        & 1999 & 24\\_32\\\\\n",
       "\\end{tabular}\n"
      ],
      "text/markdown": [
       "\n",
       "A tibble: 3 × 3\n",
       "\n",
       "| makemodel &lt;chr&gt; | year &lt;chr&gt; | cty_hwy &lt;chr&gt; |\n",
       "|---|---|---|\n",
       "| audi a4            | 1999 | 18_29 |\n",
       "| chevrolet corvette | 1999 | 15_23 |\n",
       "| honda civic        | 1999 | 24_32 |\n",
       "\n"
      ],
      "text/plain": [
       "  makemodel          year cty_hwy\n",
       "1 audi a4            1999 18_29  \n",
       "2 chevrolet corvette 1999 15_23  \n",
       "3 honda civic        1999 24_32  "
      ]
     },
     "metadata": {},
     "output_type": "display_data"
    },
    {
     "data": {
      "text/html": [
       "<table class=\"dataframe\">\n",
       "<caption>A tibble: 3 × 3</caption>\n",
       "<thead>\n",
       "\t<tr><th scope=col>makemodel</th><th scope=col>year</th><th scope=col>cty_hwy</th></tr>\n",
       "\t<tr><th scope=col>&lt;chr&gt;</th><th scope=col>&lt;chr&gt;</th><th scope=col>&lt;chr&gt;</th></tr>\n",
       "</thead>\n",
       "<tbody>\n",
       "\t<tr><td>audi a4           </td><td>2008</td><td>21_30</td></tr>\n",
       "\t<tr><td>chevrolet corvette</td><td>2008</td><td>15_25</td></tr>\n",
       "\t<tr><td>honda civic       </td><td>2008</td><td>25_36</td></tr>\n",
       "</tbody>\n",
       "</table>\n"
      ],
      "text/latex": [
       "A tibble: 3 × 3\n",
       "\\begin{tabular}{lll}\n",
       " makemodel & year & cty\\_hwy\\\\\n",
       " <chr> & <chr> & <chr>\\\\\n",
       "\\hline\n",
       "\t audi a4            & 2008 & 21\\_30\\\\\n",
       "\t chevrolet corvette & 2008 & 15\\_25\\\\\n",
       "\t honda civic        & 2008 & 25\\_36\\\\\n",
       "\\end{tabular}\n"
      ],
      "text/markdown": [
       "\n",
       "A tibble: 3 × 3\n",
       "\n",
       "| makemodel &lt;chr&gt; | year &lt;chr&gt; | cty_hwy &lt;chr&gt; |\n",
       "|---|---|---|\n",
       "| audi a4            | 2008 | 21_30 |\n",
       "| chevrolet corvette | 2008 | 15_25 |\n",
       "| honda civic        | 2008 | 25_36 |\n",
       "\n"
      ],
      "text/plain": [
       "  makemodel          year cty_hwy\n",
       "1 audi a4            2008 21_30  \n",
       "2 chevrolet corvette 2008 15_25  \n",
       "3 honda civic        2008 25_36  "
      ]
     },
     "metadata": {},
     "output_type": "display_data"
    }
   ],
   "source": [
    "table_1999 <- tidyr::unite(table5, col = cty_hwy, cty, hwy, sep='_') %>% filter(year == 1999)\n",
    "table_1999\n",
    "\n",
    "table_2008 <- tidyr::unite(table5, col = cty_hwy, cty, hwy, sep='_') %>% filter(year == 2008)\n",
    "table_2008"
   ]
  },
  {
   "cell_type": "markdown",
   "metadata": {},
   "source": [
    "We can merge tables using join function -- https://dplyr.tidyverse.org/reference/mutate-joins.html). \n",
    "\n",
    "    inner_join(): includes all rows in x and y.\n",
    "\n",
    "    left_join(): includes all rows in x.\n",
    "\n",
    "    right_join(): includes all rows in y.\n",
    "\n",
    "    full_join(): includes all rows in x or y.\n",
    "\n",
    "This will combine dataframes based on what column you specify in the `by` argument."
   ]
  },
  {
   "cell_type": "code",
   "execution_count": 31,
   "metadata": {},
   "outputs": [
    {
     "data": {
      "text/html": [
       "<table class=\"dataframe\">\n",
       "<caption>A tibble: 3 × 5</caption>\n",
       "<thead>\n",
       "\t<tr><th scope=col>makemodel</th><th scope=col>year.x</th><th scope=col>cty_hwy.x</th><th scope=col>year.y</th><th scope=col>cty_hwy.y</th></tr>\n",
       "\t<tr><th scope=col>&lt;chr&gt;</th><th scope=col>&lt;chr&gt;</th><th scope=col>&lt;chr&gt;</th><th scope=col>&lt;chr&gt;</th><th scope=col>&lt;chr&gt;</th></tr>\n",
       "</thead>\n",
       "<tbody>\n",
       "\t<tr><td>audi a4           </td><td>1999</td><td>18_29</td><td>2008</td><td>21_30</td></tr>\n",
       "\t<tr><td>chevrolet corvette</td><td>1999</td><td>15_23</td><td>2008</td><td>15_25</td></tr>\n",
       "\t<tr><td>honda civic       </td><td>1999</td><td>24_32</td><td>2008</td><td>25_36</td></tr>\n",
       "</tbody>\n",
       "</table>\n"
      ],
      "text/latex": [
       "A tibble: 3 × 5\n",
       "\\begin{tabular}{lllll}\n",
       " makemodel & year.x & cty\\_hwy.x & year.y & cty\\_hwy.y\\\\\n",
       " <chr> & <chr> & <chr> & <chr> & <chr>\\\\\n",
       "\\hline\n",
       "\t audi a4            & 1999 & 18\\_29 & 2008 & 21\\_30\\\\\n",
       "\t chevrolet corvette & 1999 & 15\\_23 & 2008 & 15\\_25\\\\\n",
       "\t honda civic        & 1999 & 24\\_32 & 2008 & 25\\_36\\\\\n",
       "\\end{tabular}\n"
      ],
      "text/markdown": [
       "\n",
       "A tibble: 3 × 5\n",
       "\n",
       "| makemodel &lt;chr&gt; | year.x &lt;chr&gt; | cty_hwy.x &lt;chr&gt; | year.y &lt;chr&gt; | cty_hwy.y &lt;chr&gt; |\n",
       "|---|---|---|---|---|\n",
       "| audi a4            | 1999 | 18_29 | 2008 | 21_30 |\n",
       "| chevrolet corvette | 1999 | 15_23 | 2008 | 15_25 |\n",
       "| honda civic        | 1999 | 24_32 | 2008 | 25_36 |\n",
       "\n"
      ],
      "text/plain": [
       "  makemodel          year.x cty_hwy.x year.y cty_hwy.y\n",
       "1 audi a4            1999   18_29     2008   21_30    \n",
       "2 chevrolet corvette 1999   15_23     2008   15_25    \n",
       "3 honda civic        1999   24_32     2008   25_36    "
      ]
     },
     "metadata": {},
     "output_type": "display_data"
    }
   ],
   "source": [
    "dplyr::left_join(table_1999, table_2008, by = 'makemodel')"
   ]
  },
  {
   "cell_type": "markdown",
   "metadata": {},
   "source": [
    "**join() vs merge()**\n",
    "\n",
    "1. join() is faster than merge(), particularly if data  is large.\n",
    "\n",
    "2. join() preserves the original order of rows, merge() function automatically sorts the rows alphabetically based on the column you used to perform the join."
   ]
  },
  {
   "cell_type": "code",
   "execution_count": 72,
   "metadata": {},
   "outputs": [],
   "source": [
    "?dplyr::join"
   ]
  },
  {
   "cell_type": "code",
   "execution_count": 71,
   "metadata": {},
   "outputs": [],
   "source": [
    "?merge"
   ]
  },
  {
   "cell_type": "markdown",
   "metadata": {},
   "source": [
    "## Not all data should be tidy\n",
    "\n",
    "Matrices, phylogenetic trees (although `ggtree` and `treeio` have tidy representations that help with annotating trees), etc."
   ]
  },
  {
   "cell_type": "markdown",
   "metadata": {},
   "source": [
    "# Transforming (Tidy) Data\n",
    "\n",
    "Now we know how to get tidy data. At this point we can already start visualizing our data. However in many cases we will need to further transform our data to narrow down variables and observations we are really interested in or to create new variables that are functions of our existing variables and data. This is known as **transforming** data.\n",
    "\n",
    " * `filter()` to pick observations (rows) by their values\n",
    " * `arrange()` to reorder rows, default is by ascending value\n",
    " * `select()` to pick variables (columns) by their names\n",
    " * `mutate()` to create new variables with functions of existing variables\n",
    " * `summarise()` to collapes many values down to a single summary\n",
    " * `group_by()` to set up functions to operate on groups rather than the whole data set\n",
    " * `%>%` propagates the output from a function as input to another. eg: x %>% f(y) becomes f(x,y), and x %>% f(y) %>% g(z) becomes g(f(x,y),z).\n",
    " \n",
    "All functions have similar structure:\n",
    " 1. First argument is data frame\n",
    " 2. Next arguments describe what to do with data frame using variable names\n",
    " 3. Result is new data frame\n",
    " \n",
    "We will be working with the **mpg** data frame for the rest of workshop which comes with the **tidyverse** library."
   ]
  },
  {
   "cell_type": "code",
   "execution_count": 32,
   "metadata": {},
   "outputs": [
    {
     "data": {
      "text/html": [
       "<table class=\"dataframe\">\n",
       "<caption>A tibble: 6 × 11</caption>\n",
       "<thead>\n",
       "\t<tr><th scope=col>manufacturer</th><th scope=col>model</th><th scope=col>displ</th><th scope=col>year</th><th scope=col>cyl</th><th scope=col>trans</th><th scope=col>drv</th><th scope=col>cty</th><th scope=col>hwy</th><th scope=col>fl</th><th scope=col>class</th></tr>\n",
       "\t<tr><th scope=col>&lt;chr&gt;</th><th scope=col>&lt;chr&gt;</th><th scope=col>&lt;dbl&gt;</th><th scope=col>&lt;int&gt;</th><th scope=col>&lt;int&gt;</th><th scope=col>&lt;chr&gt;</th><th scope=col>&lt;chr&gt;</th><th scope=col>&lt;int&gt;</th><th scope=col>&lt;int&gt;</th><th scope=col>&lt;chr&gt;</th><th scope=col>&lt;chr&gt;</th></tr>\n",
       "</thead>\n",
       "<tbody>\n",
       "\t<tr><td>audi</td><td>a4</td><td>1.8</td><td>1999</td><td>4</td><td>auto(l5)  </td><td>f</td><td>18</td><td>29</td><td>p</td><td>compact</td></tr>\n",
       "\t<tr><td>audi</td><td>a4</td><td>1.8</td><td>1999</td><td>4</td><td>manual(m5)</td><td>f</td><td>21</td><td>29</td><td>p</td><td>compact</td></tr>\n",
       "\t<tr><td>audi</td><td>a4</td><td>2.0</td><td>2008</td><td>4</td><td>manual(m6)</td><td>f</td><td>20</td><td>31</td><td>p</td><td>compact</td></tr>\n",
       "\t<tr><td>audi</td><td>a4</td><td>2.0</td><td>2008</td><td>4</td><td>auto(av)  </td><td>f</td><td>21</td><td>30</td><td>p</td><td>compact</td></tr>\n",
       "\t<tr><td>audi</td><td>a4</td><td>2.8</td><td>1999</td><td>6</td><td>auto(l5)  </td><td>f</td><td>16</td><td>26</td><td>p</td><td>compact</td></tr>\n",
       "\t<tr><td>audi</td><td>a4</td><td>2.8</td><td>1999</td><td>6</td><td>manual(m5)</td><td>f</td><td>18</td><td>26</td><td>p</td><td>compact</td></tr>\n",
       "</tbody>\n",
       "</table>\n"
      ],
      "text/latex": [
       "A tibble: 6 × 11\n",
       "\\begin{tabular}{lllllllllll}\n",
       " manufacturer & model & displ & year & cyl & trans & drv & cty & hwy & fl & class\\\\\n",
       " <chr> & <chr> & <dbl> & <int> & <int> & <chr> & <chr> & <int> & <int> & <chr> & <chr>\\\\\n",
       "\\hline\n",
       "\t audi & a4 & 1.8 & 1999 & 4 & auto(l5)   & f & 18 & 29 & p & compact\\\\\n",
       "\t audi & a4 & 1.8 & 1999 & 4 & manual(m5) & f & 21 & 29 & p & compact\\\\\n",
       "\t audi & a4 & 2.0 & 2008 & 4 & manual(m6) & f & 20 & 31 & p & compact\\\\\n",
       "\t audi & a4 & 2.0 & 2008 & 4 & auto(av)   & f & 21 & 30 & p & compact\\\\\n",
       "\t audi & a4 & 2.8 & 1999 & 6 & auto(l5)   & f & 16 & 26 & p & compact\\\\\n",
       "\t audi & a4 & 2.8 & 1999 & 6 & manual(m5) & f & 18 & 26 & p & compact\\\\\n",
       "\\end{tabular}\n"
      ],
      "text/markdown": [
       "\n",
       "A tibble: 6 × 11\n",
       "\n",
       "| manufacturer &lt;chr&gt; | model &lt;chr&gt; | displ &lt;dbl&gt; | year &lt;int&gt; | cyl &lt;int&gt; | trans &lt;chr&gt; | drv &lt;chr&gt; | cty &lt;int&gt; | hwy &lt;int&gt; | fl &lt;chr&gt; | class &lt;chr&gt; |\n",
       "|---|---|---|---|---|---|---|---|---|---|---|\n",
       "| audi | a4 | 1.8 | 1999 | 4 | auto(l5)   | f | 18 | 29 | p | compact |\n",
       "| audi | a4 | 1.8 | 1999 | 4 | manual(m5) | f | 21 | 29 | p | compact |\n",
       "| audi | a4 | 2.0 | 2008 | 4 | manual(m6) | f | 20 | 31 | p | compact |\n",
       "| audi | a4 | 2.0 | 2008 | 4 | auto(av)   | f | 21 | 30 | p | compact |\n",
       "| audi | a4 | 2.8 | 1999 | 6 | auto(l5)   | f | 16 | 26 | p | compact |\n",
       "| audi | a4 | 2.8 | 1999 | 6 | manual(m5) | f | 18 | 26 | p | compact |\n",
       "\n"
      ],
      "text/plain": [
       "  manufacturer model displ year cyl trans      drv cty hwy fl class  \n",
       "1 audi         a4    1.8   1999 4   auto(l5)   f   18  29  p  compact\n",
       "2 audi         a4    1.8   1999 4   manual(m5) f   21  29  p  compact\n",
       "3 audi         a4    2.0   2008 4   manual(m6) f   20  31  p  compact\n",
       "4 audi         a4    2.0   2008 4   auto(av)   f   21  30  p  compact\n",
       "5 audi         a4    2.8   1999 6   auto(l5)   f   16  26  p  compact\n",
       "6 audi         a4    2.8   1999 6   manual(m5) f   18  26  p  compact"
      ]
     },
     "metadata": {},
     "output_type": "display_data"
    }
   ],
   "source": [
    "data(mpg)\n",
    "head(mpg)"
   ]
  },
  {
   "cell_type": "markdown",
   "metadata": {},
   "source": [
    "## `filter()` rows/observations\n",
    "\n",
    "As name suggests filters out rows. First argument is name of data frame, next arguments are expressions that filter the data frame."
   ]
  },
  {
   "cell_type": "code",
   "execution_count": 58,
   "metadata": {},
   "outputs": [],
   "source": [
    "?dplyr::filter"
   ]
  },
  {
   "cell_type": "code",
   "execution_count": 33,
   "metadata": {},
   "outputs": [
    {
     "data": {
      "text/plain": [
       "\n",
       "   2seater    compact    midsize    minivan     pickup subcompact        suv \n",
       "         5         47         41         11         33         35         62 "
      ]
     },
     "metadata": {},
     "output_type": "display_data"
    },
    {
     "data": {
      "text/html": [
       "<table class=\"dataframe\">\n",
       "<caption>A tibble: 6 × 11</caption>\n",
       "<thead>\n",
       "\t<tr><th scope=col>manufacturer</th><th scope=col>model</th><th scope=col>displ</th><th scope=col>year</th><th scope=col>cyl</th><th scope=col>trans</th><th scope=col>drv</th><th scope=col>cty</th><th scope=col>hwy</th><th scope=col>fl</th><th scope=col>class</th></tr>\n",
       "\t<tr><th scope=col>&lt;chr&gt;</th><th scope=col>&lt;chr&gt;</th><th scope=col>&lt;dbl&gt;</th><th scope=col>&lt;int&gt;</th><th scope=col>&lt;int&gt;</th><th scope=col>&lt;chr&gt;</th><th scope=col>&lt;chr&gt;</th><th scope=col>&lt;int&gt;</th><th scope=col>&lt;int&gt;</th><th scope=col>&lt;chr&gt;</th><th scope=col>&lt;chr&gt;</th></tr>\n",
       "</thead>\n",
       "<tbody>\n",
       "\t<tr><td>audi</td><td>a4</td><td>1.8</td><td>1999</td><td>4</td><td>auto(l5)  </td><td>f</td><td>18</td><td>29</td><td>p</td><td>compact</td></tr>\n",
       "\t<tr><td>audi</td><td>a4</td><td>1.8</td><td>1999</td><td>4</td><td>manual(m5)</td><td>f</td><td>21</td><td>29</td><td>p</td><td>compact</td></tr>\n",
       "\t<tr><td>audi</td><td>a4</td><td>2.0</td><td>2008</td><td>4</td><td>manual(m6)</td><td>f</td><td>20</td><td>31</td><td>p</td><td>compact</td></tr>\n",
       "\t<tr><td>audi</td><td>a4</td><td>2.0</td><td>2008</td><td>4</td><td>auto(av)  </td><td>f</td><td>21</td><td>30</td><td>p</td><td>compact</td></tr>\n",
       "\t<tr><td>audi</td><td>a4</td><td>2.8</td><td>1999</td><td>6</td><td>auto(l5)  </td><td>f</td><td>16</td><td>26</td><td>p</td><td>compact</td></tr>\n",
       "\t<tr><td>audi</td><td>a4</td><td>2.8</td><td>1999</td><td>6</td><td>manual(m5)</td><td>f</td><td>18</td><td>26</td><td>p</td><td>compact</td></tr>\n",
       "</tbody>\n",
       "</table>\n"
      ],
      "text/latex": [
       "A tibble: 6 × 11\n",
       "\\begin{tabular}{lllllllllll}\n",
       " manufacturer & model & displ & year & cyl & trans & drv & cty & hwy & fl & class\\\\\n",
       " <chr> & <chr> & <dbl> & <int> & <int> & <chr> & <chr> & <int> & <int> & <chr> & <chr>\\\\\n",
       "\\hline\n",
       "\t audi & a4 & 1.8 & 1999 & 4 & auto(l5)   & f & 18 & 29 & p & compact\\\\\n",
       "\t audi & a4 & 1.8 & 1999 & 4 & manual(m5) & f & 21 & 29 & p & compact\\\\\n",
       "\t audi & a4 & 2.0 & 2008 & 4 & manual(m6) & f & 20 & 31 & p & compact\\\\\n",
       "\t audi & a4 & 2.0 & 2008 & 4 & auto(av)   & f & 21 & 30 & p & compact\\\\\n",
       "\t audi & a4 & 2.8 & 1999 & 6 & auto(l5)   & f & 16 & 26 & p & compact\\\\\n",
       "\t audi & a4 & 2.8 & 1999 & 6 & manual(m5) & f & 18 & 26 & p & compact\\\\\n",
       "\\end{tabular}\n"
      ],
      "text/markdown": [
       "\n",
       "A tibble: 6 × 11\n",
       "\n",
       "| manufacturer &lt;chr&gt; | model &lt;chr&gt; | displ &lt;dbl&gt; | year &lt;int&gt; | cyl &lt;int&gt; | trans &lt;chr&gt; | drv &lt;chr&gt; | cty &lt;int&gt; | hwy &lt;int&gt; | fl &lt;chr&gt; | class &lt;chr&gt; |\n",
       "|---|---|---|---|---|---|---|---|---|---|---|\n",
       "| audi | a4 | 1.8 | 1999 | 4 | auto(l5)   | f | 18 | 29 | p | compact |\n",
       "| audi | a4 | 1.8 | 1999 | 4 | manual(m5) | f | 21 | 29 | p | compact |\n",
       "| audi | a4 | 2.0 | 2008 | 4 | manual(m6) | f | 20 | 31 | p | compact |\n",
       "| audi | a4 | 2.0 | 2008 | 4 | auto(av)   | f | 21 | 30 | p | compact |\n",
       "| audi | a4 | 2.8 | 1999 | 6 | auto(l5)   | f | 16 | 26 | p | compact |\n",
       "| audi | a4 | 2.8 | 1999 | 6 | manual(m5) | f | 18 | 26 | p | compact |\n",
       "\n"
      ],
      "text/plain": [
       "  manufacturer model displ year cyl trans      drv cty hwy fl class  \n",
       "1 audi         a4    1.8   1999 4   auto(l5)   f   18  29  p  compact\n",
       "2 audi         a4    1.8   1999 4   manual(m5) f   21  29  p  compact\n",
       "3 audi         a4    2.0   2008 4   manual(m6) f   20  31  p  compact\n",
       "4 audi         a4    2.0   2008 4   auto(av)   f   21  30  p  compact\n",
       "5 audi         a4    2.8   1999 6   auto(l5)   f   16  26  p  compact\n",
       "6 audi         a4    2.8   1999 6   manual(m5) f   18  26  p  compact"
      ]
     },
     "metadata": {},
     "output_type": "display_data"
    },
    {
     "data": {
      "text/plain": [
       "\n",
       "   compact    midsize    minivan     pickup subcompact        suv \n",
       "        47         41         11         33         35         62 "
      ]
     },
     "metadata": {},
     "output_type": "display_data"
    }
   ],
   "source": [
    "# filter out 2 seater cars\n",
    "table(mpg$class)\n",
    "no_2seaters <- dplyr::filter(mpg, class != \"2seater\")\n",
    "head(no_2seaters)\n",
    "table(no_2seaters$class)"
   ]
  },
  {
   "cell_type": "code",
   "execution_count": 34,
   "metadata": {},
   "outputs": [
    {
     "data": {
      "text/html": [
       "<table class=\"dataframe\">\n",
       "<caption>A tibble: 6 × 11</caption>\n",
       "<thead>\n",
       "\t<tr><th scope=col>manufacturer</th><th scope=col>model</th><th scope=col>displ</th><th scope=col>year</th><th scope=col>cyl</th><th scope=col>trans</th><th scope=col>drv</th><th scope=col>cty</th><th scope=col>hwy</th><th scope=col>fl</th><th scope=col>class</th></tr>\n",
       "\t<tr><th scope=col>&lt;chr&gt;</th><th scope=col>&lt;chr&gt;</th><th scope=col>&lt;dbl&gt;</th><th scope=col>&lt;int&gt;</th><th scope=col>&lt;int&gt;</th><th scope=col>&lt;chr&gt;</th><th scope=col>&lt;chr&gt;</th><th scope=col>&lt;int&gt;</th><th scope=col>&lt;int&gt;</th><th scope=col>&lt;chr&gt;</th><th scope=col>&lt;chr&gt;</th></tr>\n",
       "</thead>\n",
       "<tbody>\n",
       "\t<tr><td>dodge</td><td>caravan 2wd</td><td>2.4</td><td>1999</td><td>4</td><td>auto(l3)</td><td>f</td><td>18</td><td>24</td><td>r</td><td>minivan</td></tr>\n",
       "\t<tr><td>dodge</td><td>caravan 2wd</td><td>3.0</td><td>1999</td><td>6</td><td>auto(l4)</td><td>f</td><td>17</td><td>24</td><td>r</td><td>minivan</td></tr>\n",
       "\t<tr><td>dodge</td><td>caravan 2wd</td><td>3.3</td><td>1999</td><td>6</td><td>auto(l4)</td><td>f</td><td>16</td><td>22</td><td>r</td><td>minivan</td></tr>\n",
       "\t<tr><td>dodge</td><td>caravan 2wd</td><td>3.3</td><td>1999</td><td>6</td><td>auto(l4)</td><td>f</td><td>16</td><td>22</td><td>r</td><td>minivan</td></tr>\n",
       "\t<tr><td>dodge</td><td>caravan 2wd</td><td>3.3</td><td>2008</td><td>6</td><td>auto(l4)</td><td>f</td><td>17</td><td>24</td><td>r</td><td>minivan</td></tr>\n",
       "\t<tr><td>dodge</td><td>caravan 2wd</td><td>3.3</td><td>2008</td><td>6</td><td>auto(l4)</td><td>f</td><td>17</td><td>24</td><td>r</td><td>minivan</td></tr>\n",
       "</tbody>\n",
       "</table>\n"
      ],
      "text/latex": [
       "A tibble: 6 × 11\n",
       "\\begin{tabular}{lllllllllll}\n",
       " manufacturer & model & displ & year & cyl & trans & drv & cty & hwy & fl & class\\\\\n",
       " <chr> & <chr> & <dbl> & <int> & <int> & <chr> & <chr> & <int> & <int> & <chr> & <chr>\\\\\n",
       "\\hline\n",
       "\t dodge & caravan 2wd & 2.4 & 1999 & 4 & auto(l3) & f & 18 & 24 & r & minivan\\\\\n",
       "\t dodge & caravan 2wd & 3.0 & 1999 & 6 & auto(l4) & f & 17 & 24 & r & minivan\\\\\n",
       "\t dodge & caravan 2wd & 3.3 & 1999 & 6 & auto(l4) & f & 16 & 22 & r & minivan\\\\\n",
       "\t dodge & caravan 2wd & 3.3 & 1999 & 6 & auto(l4) & f & 16 & 22 & r & minivan\\\\\n",
       "\t dodge & caravan 2wd & 3.3 & 2008 & 6 & auto(l4) & f & 17 & 24 & r & minivan\\\\\n",
       "\t dodge & caravan 2wd & 3.3 & 2008 & 6 & auto(l4) & f & 17 & 24 & r & minivan\\\\\n",
       "\\end{tabular}\n"
      ],
      "text/markdown": [
       "\n",
       "A tibble: 6 × 11\n",
       "\n",
       "| manufacturer &lt;chr&gt; | model &lt;chr&gt; | displ &lt;dbl&gt; | year &lt;int&gt; | cyl &lt;int&gt; | trans &lt;chr&gt; | drv &lt;chr&gt; | cty &lt;int&gt; | hwy &lt;int&gt; | fl &lt;chr&gt; | class &lt;chr&gt; |\n",
       "|---|---|---|---|---|---|---|---|---|---|---|\n",
       "| dodge | caravan 2wd | 2.4 | 1999 | 4 | auto(l3) | f | 18 | 24 | r | minivan |\n",
       "| dodge | caravan 2wd | 3.0 | 1999 | 6 | auto(l4) | f | 17 | 24 | r | minivan |\n",
       "| dodge | caravan 2wd | 3.3 | 1999 | 6 | auto(l4) | f | 16 | 22 | r | minivan |\n",
       "| dodge | caravan 2wd | 3.3 | 1999 | 6 | auto(l4) | f | 16 | 22 | r | minivan |\n",
       "| dodge | caravan 2wd | 3.3 | 2008 | 6 | auto(l4) | f | 17 | 24 | r | minivan |\n",
       "| dodge | caravan 2wd | 3.3 | 2008 | 6 | auto(l4) | f | 17 | 24 | r | minivan |\n",
       "\n"
      ],
      "text/plain": [
       "  manufacturer model       displ year cyl trans    drv cty hwy fl class  \n",
       "1 dodge        caravan 2wd 2.4   1999 4   auto(l3) f   18  24  r  minivan\n",
       "2 dodge        caravan 2wd 3.0   1999 6   auto(l4) f   17  24  r  minivan\n",
       "3 dodge        caravan 2wd 3.3   1999 6   auto(l4) f   16  22  r  minivan\n",
       "4 dodge        caravan 2wd 3.3   1999 6   auto(l4) f   16  22  r  minivan\n",
       "5 dodge        caravan 2wd 3.3   2008 6   auto(l4) f   17  24  r  minivan\n",
       "6 dodge        caravan 2wd 3.3   2008 6   auto(l4) f   17  24  r  minivan"
      ]
     },
     "metadata": {},
     "output_type": "display_data"
    }
   ],
   "source": [
    "# filter out audis, chevys, and hondas\n",
    "mpg %>% dplyr::filter(!manufacturer %in% c(\"audi\",\"chevrolet\",\"honda\")) %>% head"
   ]
  },
  {
   "cell_type": "markdown",
   "metadata": {},
   "source": [
    "## `arrange()` rows/observations\n",
    "\n",
    "Changes order of rows. First argument is name of data frame, next arguments are column names (or more complicated expressions) to order by. Default column ordering is by ascending order, can use `desc()` to do descending order. Missing values get sorted at the end regardless of what column ordering is chosen."
   ]
  },
  {
   "cell_type": "code",
   "execution_count": 73,
   "metadata": {},
   "outputs": [],
   "source": [
    "?dplyr::arrange"
   ]
  },
  {
   "cell_type": "code",
   "execution_count": 35,
   "metadata": {},
   "outputs": [
    {
     "data": {
      "text/html": [
       "<table class=\"dataframe\">\n",
       "<caption>A tibble: 6 × 11</caption>\n",
       "<thead>\n",
       "\t<tr><th scope=col>manufacturer</th><th scope=col>model</th><th scope=col>displ</th><th scope=col>year</th><th scope=col>cyl</th><th scope=col>trans</th><th scope=col>drv</th><th scope=col>cty</th><th scope=col>hwy</th><th scope=col>fl</th><th scope=col>class</th></tr>\n",
       "\t<tr><th scope=col>&lt;chr&gt;</th><th scope=col>&lt;chr&gt;</th><th scope=col>&lt;dbl&gt;</th><th scope=col>&lt;int&gt;</th><th scope=col>&lt;int&gt;</th><th scope=col>&lt;chr&gt;</th><th scope=col>&lt;chr&gt;</th><th scope=col>&lt;int&gt;</th><th scope=col>&lt;int&gt;</th><th scope=col>&lt;chr&gt;</th><th scope=col>&lt;chr&gt;</th></tr>\n",
       "</thead>\n",
       "<tbody>\n",
       "\t<tr><td>chevrolet</td><td>corvette</td><td>5.7</td><td>1999</td><td>8</td><td>manual(m6)</td><td>r</td><td>16</td><td>26</td><td>p</td><td>2seater</td></tr>\n",
       "\t<tr><td>chevrolet</td><td>corvette</td><td>5.7</td><td>1999</td><td>8</td><td>auto(l4)  </td><td>r</td><td>15</td><td>23</td><td>p</td><td>2seater</td></tr>\n",
       "\t<tr><td>chevrolet</td><td>corvette</td><td>6.2</td><td>2008</td><td>8</td><td>manual(m6)</td><td>r</td><td>16</td><td>26</td><td>p</td><td>2seater</td></tr>\n",
       "\t<tr><td>chevrolet</td><td>corvette</td><td>6.2</td><td>2008</td><td>8</td><td>auto(s6)  </td><td>r</td><td>15</td><td>25</td><td>p</td><td>2seater</td></tr>\n",
       "\t<tr><td>chevrolet</td><td>corvette</td><td>7.0</td><td>2008</td><td>8</td><td>manual(m6)</td><td>r</td><td>15</td><td>24</td><td>p</td><td>2seater</td></tr>\n",
       "\t<tr><td>audi     </td><td>a4      </td><td>1.8</td><td>1999</td><td>4</td><td>auto(l5)  </td><td>f</td><td>18</td><td>29</td><td>p</td><td>compact</td></tr>\n",
       "</tbody>\n",
       "</table>\n"
      ],
      "text/latex": [
       "A tibble: 6 × 11\n",
       "\\begin{tabular}{lllllllllll}\n",
       " manufacturer & model & displ & year & cyl & trans & drv & cty & hwy & fl & class\\\\\n",
       " <chr> & <chr> & <dbl> & <int> & <int> & <chr> & <chr> & <int> & <int> & <chr> & <chr>\\\\\n",
       "\\hline\n",
       "\t chevrolet & corvette & 5.7 & 1999 & 8 & manual(m6) & r & 16 & 26 & p & 2seater\\\\\n",
       "\t chevrolet & corvette & 5.7 & 1999 & 8 & auto(l4)   & r & 15 & 23 & p & 2seater\\\\\n",
       "\t chevrolet & corvette & 6.2 & 2008 & 8 & manual(m6) & r & 16 & 26 & p & 2seater\\\\\n",
       "\t chevrolet & corvette & 6.2 & 2008 & 8 & auto(s6)   & r & 15 & 25 & p & 2seater\\\\\n",
       "\t chevrolet & corvette & 7.0 & 2008 & 8 & manual(m6) & r & 15 & 24 & p & 2seater\\\\\n",
       "\t audi      & a4       & 1.8 & 1999 & 4 & auto(l5)   & f & 18 & 29 & p & compact\\\\\n",
       "\\end{tabular}\n"
      ],
      "text/markdown": [
       "\n",
       "A tibble: 6 × 11\n",
       "\n",
       "| manufacturer &lt;chr&gt; | model &lt;chr&gt; | displ &lt;dbl&gt; | year &lt;int&gt; | cyl &lt;int&gt; | trans &lt;chr&gt; | drv &lt;chr&gt; | cty &lt;int&gt; | hwy &lt;int&gt; | fl &lt;chr&gt; | class &lt;chr&gt; |\n",
       "|---|---|---|---|---|---|---|---|---|---|---|\n",
       "| chevrolet | corvette | 5.7 | 1999 | 8 | manual(m6) | r | 16 | 26 | p | 2seater |\n",
       "| chevrolet | corvette | 5.7 | 1999 | 8 | auto(l4)   | r | 15 | 23 | p | 2seater |\n",
       "| chevrolet | corvette | 6.2 | 2008 | 8 | manual(m6) | r | 16 | 26 | p | 2seater |\n",
       "| chevrolet | corvette | 6.2 | 2008 | 8 | auto(s6)   | r | 15 | 25 | p | 2seater |\n",
       "| chevrolet | corvette | 7.0 | 2008 | 8 | manual(m6) | r | 15 | 24 | p | 2seater |\n",
       "| audi      | a4       | 1.8 | 1999 | 4 | auto(l5)   | f | 18 | 29 | p | compact |\n",
       "\n"
      ],
      "text/plain": [
       "  manufacturer model    displ year cyl trans      drv cty hwy fl class  \n",
       "1 chevrolet    corvette 5.7   1999 8   manual(m6) r   16  26  p  2seater\n",
       "2 chevrolet    corvette 5.7   1999 8   auto(l4)   r   15  23  p  2seater\n",
       "3 chevrolet    corvette 6.2   2008 8   manual(m6) r   16  26  p  2seater\n",
       "4 chevrolet    corvette 6.2   2008 8   auto(s6)   r   15  25  p  2seater\n",
       "5 chevrolet    corvette 7.0   2008 8   manual(m6) r   15  24  p  2seater\n",
       "6 audi         a4       1.8   1999 4   auto(l5)   f   18  29  p  compact"
      ]
     },
     "metadata": {},
     "output_type": "display_data"
    }
   ],
   "source": [
    "# arrange/reorder mpg by class\n",
    "dplyr::arrange(mpg, class) %>% head"
   ]
  },
  {
   "cell_type": "code",
   "execution_count": 36,
   "metadata": {},
   "outputs": [
    {
     "data": {
      "text/html": [
       "<table class=\"dataframe\">\n",
       "<caption>A tibble: 6 × 11</caption>\n",
       "<thead>\n",
       "\t<tr><th scope=col>manufacturer</th><th scope=col>model</th><th scope=col>displ</th><th scope=col>year</th><th scope=col>cyl</th><th scope=col>trans</th><th scope=col>drv</th><th scope=col>cty</th><th scope=col>hwy</th><th scope=col>fl</th><th scope=col>class</th></tr>\n",
       "\t<tr><th scope=col>&lt;chr&gt;</th><th scope=col>&lt;chr&gt;</th><th scope=col>&lt;dbl&gt;</th><th scope=col>&lt;int&gt;</th><th scope=col>&lt;int&gt;</th><th scope=col>&lt;chr&gt;</th><th scope=col>&lt;chr&gt;</th><th scope=col>&lt;int&gt;</th><th scope=col>&lt;int&gt;</th><th scope=col>&lt;chr&gt;</th><th scope=col>&lt;chr&gt;</th></tr>\n",
       "</thead>\n",
       "<tbody>\n",
       "\t<tr><td>audi</td><td>a4</td><td>1.8</td><td>1999</td><td>4</td><td>auto(l5)  </td><td>f</td><td>18</td><td>29</td><td>p</td><td>compact</td></tr>\n",
       "\t<tr><td>audi</td><td>a4</td><td>1.8</td><td>1999</td><td>4</td><td>manual(m5)</td><td>f</td><td>21</td><td>29</td><td>p</td><td>compact</td></tr>\n",
       "\t<tr><td>audi</td><td>a4</td><td>2.0</td><td>2008</td><td>4</td><td>manual(m6)</td><td>f</td><td>20</td><td>31</td><td>p</td><td>compact</td></tr>\n",
       "\t<tr><td>audi</td><td>a4</td><td>2.0</td><td>2008</td><td>4</td><td>auto(av)  </td><td>f</td><td>21</td><td>30</td><td>p</td><td>compact</td></tr>\n",
       "\t<tr><td>audi</td><td>a4</td><td>2.8</td><td>1999</td><td>6</td><td>auto(l5)  </td><td>f</td><td>16</td><td>26</td><td>p</td><td>compact</td></tr>\n",
       "\t<tr><td>audi</td><td>a4</td><td>2.8</td><td>1999</td><td>6</td><td>manual(m5)</td><td>f</td><td>18</td><td>26</td><td>p</td><td>compact</td></tr>\n",
       "</tbody>\n",
       "</table>\n"
      ],
      "text/latex": [
       "A tibble: 6 × 11\n",
       "\\begin{tabular}{lllllllllll}\n",
       " manufacturer & model & displ & year & cyl & trans & drv & cty & hwy & fl & class\\\\\n",
       " <chr> & <chr> & <dbl> & <int> & <int> & <chr> & <chr> & <int> & <int> & <chr> & <chr>\\\\\n",
       "\\hline\n",
       "\t audi & a4 & 1.8 & 1999 & 4 & auto(l5)   & f & 18 & 29 & p & compact\\\\\n",
       "\t audi & a4 & 1.8 & 1999 & 4 & manual(m5) & f & 21 & 29 & p & compact\\\\\n",
       "\t audi & a4 & 2.0 & 2008 & 4 & manual(m6) & f & 20 & 31 & p & compact\\\\\n",
       "\t audi & a4 & 2.0 & 2008 & 4 & auto(av)   & f & 21 & 30 & p & compact\\\\\n",
       "\t audi & a4 & 2.8 & 1999 & 6 & auto(l5)   & f & 16 & 26 & p & compact\\\\\n",
       "\t audi & a4 & 2.8 & 1999 & 6 & manual(m5) & f & 18 & 26 & p & compact\\\\\n",
       "\\end{tabular}\n"
      ],
      "text/markdown": [
       "\n",
       "A tibble: 6 × 11\n",
       "\n",
       "| manufacturer &lt;chr&gt; | model &lt;chr&gt; | displ &lt;dbl&gt; | year &lt;int&gt; | cyl &lt;int&gt; | trans &lt;chr&gt; | drv &lt;chr&gt; | cty &lt;int&gt; | hwy &lt;int&gt; | fl &lt;chr&gt; | class &lt;chr&gt; |\n",
       "|---|---|---|---|---|---|---|---|---|---|---|\n",
       "| audi | a4 | 1.8 | 1999 | 4 | auto(l5)   | f | 18 | 29 | p | compact |\n",
       "| audi | a4 | 1.8 | 1999 | 4 | manual(m5) | f | 21 | 29 | p | compact |\n",
       "| audi | a4 | 2.0 | 2008 | 4 | manual(m6) | f | 20 | 31 | p | compact |\n",
       "| audi | a4 | 2.0 | 2008 | 4 | auto(av)   | f | 21 | 30 | p | compact |\n",
       "| audi | a4 | 2.8 | 1999 | 6 | auto(l5)   | f | 16 | 26 | p | compact |\n",
       "| audi | a4 | 2.8 | 1999 | 6 | manual(m5) | f | 18 | 26 | p | compact |\n",
       "\n"
      ],
      "text/plain": [
       "  manufacturer model displ year cyl trans      drv cty hwy fl class  \n",
       "1 audi         a4    1.8   1999 4   auto(l5)   f   18  29  p  compact\n",
       "2 audi         a4    1.8   1999 4   manual(m5) f   21  29  p  compact\n",
       "3 audi         a4    2.0   2008 4   manual(m6) f   20  31  p  compact\n",
       "4 audi         a4    2.0   2008 4   auto(av)   f   21  30  p  compact\n",
       "5 audi         a4    2.8   1999 6   auto(l5)   f   16  26  p  compact\n",
       "6 audi         a4    2.8   1999 6   manual(m5) f   18  26  p  compact"
      ]
     },
     "metadata": {},
     "output_type": "display_data"
    }
   ],
   "source": [
    "# arrange/reorder data frame with 2seaters filtered out by class\n",
    "# 2seaters does not appear which is as it should be\n",
    "## `arrange()` rows/observations\n",
    "\n",
    "dplyr::arrange(no_2seaters, class) %>% head"
   ]
  },
  {
   "cell_type": "markdown",
   "metadata": {},
   "source": [
    "What kinds of cars have the best highway and city gas mileage?"
   ]
  },
  {
   "cell_type": "code",
   "execution_count": 37,
   "metadata": {},
   "outputs": [
    {
     "data": {
      "text/html": [
       "<table class=\"dataframe\">\n",
       "<caption>A tibble: 6 × 11</caption>\n",
       "<thead>\n",
       "\t<tr><th scope=col>manufacturer</th><th scope=col>model</th><th scope=col>displ</th><th scope=col>year</th><th scope=col>cyl</th><th scope=col>trans</th><th scope=col>drv</th><th scope=col>cty</th><th scope=col>hwy</th><th scope=col>fl</th><th scope=col>class</th></tr>\n",
       "\t<tr><th scope=col>&lt;chr&gt;</th><th scope=col>&lt;chr&gt;</th><th scope=col>&lt;dbl&gt;</th><th scope=col>&lt;int&gt;</th><th scope=col>&lt;int&gt;</th><th scope=col>&lt;chr&gt;</th><th scope=col>&lt;chr&gt;</th><th scope=col>&lt;int&gt;</th><th scope=col>&lt;int&gt;</th><th scope=col>&lt;chr&gt;</th><th scope=col>&lt;chr&gt;</th></tr>\n",
       "</thead>\n",
       "<tbody>\n",
       "\t<tr><td>volkswagen</td><td>new beetle</td><td>1.9</td><td>1999</td><td>4</td><td>manual(m5)</td><td>f</td><td>35</td><td>44</td><td>d</td><td>subcompact</td></tr>\n",
       "\t<tr><td>volkswagen</td><td>jetta     </td><td>1.9</td><td>1999</td><td>4</td><td>manual(m5)</td><td>f</td><td>33</td><td>44</td><td>d</td><td>compact   </td></tr>\n",
       "\t<tr><td>volkswagen</td><td>new beetle</td><td>1.9</td><td>1999</td><td>4</td><td>auto(l4)  </td><td>f</td><td>29</td><td>41</td><td>d</td><td>subcompact</td></tr>\n",
       "\t<tr><td>toyota    </td><td>corolla   </td><td>1.8</td><td>2008</td><td>4</td><td>manual(m5)</td><td>f</td><td>28</td><td>37</td><td>r</td><td>compact   </td></tr>\n",
       "\t<tr><td>honda     </td><td>civic     </td><td>1.8</td><td>2008</td><td>4</td><td>auto(l5)  </td><td>f</td><td>25</td><td>36</td><td>r</td><td>subcompact</td></tr>\n",
       "\t<tr><td>honda     </td><td>civic     </td><td>1.8</td><td>2008</td><td>4</td><td>auto(l5)  </td><td>f</td><td>24</td><td>36</td><td>c</td><td>subcompact</td></tr>\n",
       "</tbody>\n",
       "</table>\n"
      ],
      "text/latex": [
       "A tibble: 6 × 11\n",
       "\\begin{tabular}{lllllllllll}\n",
       " manufacturer & model & displ & year & cyl & trans & drv & cty & hwy & fl & class\\\\\n",
       " <chr> & <chr> & <dbl> & <int> & <int> & <chr> & <chr> & <int> & <int> & <chr> & <chr>\\\\\n",
       "\\hline\n",
       "\t volkswagen & new beetle & 1.9 & 1999 & 4 & manual(m5) & f & 35 & 44 & d & subcompact\\\\\n",
       "\t volkswagen & jetta      & 1.9 & 1999 & 4 & manual(m5) & f & 33 & 44 & d & compact   \\\\\n",
       "\t volkswagen & new beetle & 1.9 & 1999 & 4 & auto(l4)   & f & 29 & 41 & d & subcompact\\\\\n",
       "\t toyota     & corolla    & 1.8 & 2008 & 4 & manual(m5) & f & 28 & 37 & r & compact   \\\\\n",
       "\t honda      & civic      & 1.8 & 2008 & 4 & auto(l5)   & f & 25 & 36 & r & subcompact\\\\\n",
       "\t honda      & civic      & 1.8 & 2008 & 4 & auto(l5)   & f & 24 & 36 & c & subcompact\\\\\n",
       "\\end{tabular}\n"
      ],
      "text/markdown": [
       "\n",
       "A tibble: 6 × 11\n",
       "\n",
       "| manufacturer &lt;chr&gt; | model &lt;chr&gt; | displ &lt;dbl&gt; | year &lt;int&gt; | cyl &lt;int&gt; | trans &lt;chr&gt; | drv &lt;chr&gt; | cty &lt;int&gt; | hwy &lt;int&gt; | fl &lt;chr&gt; | class &lt;chr&gt; |\n",
       "|---|---|---|---|---|---|---|---|---|---|---|\n",
       "| volkswagen | new beetle | 1.9 | 1999 | 4 | manual(m5) | f | 35 | 44 | d | subcompact |\n",
       "| volkswagen | jetta      | 1.9 | 1999 | 4 | manual(m5) | f | 33 | 44 | d | compact    |\n",
       "| volkswagen | new beetle | 1.9 | 1999 | 4 | auto(l4)   | f | 29 | 41 | d | subcompact |\n",
       "| toyota     | corolla    | 1.8 | 2008 | 4 | manual(m5) | f | 28 | 37 | r | compact    |\n",
       "| honda      | civic      | 1.8 | 2008 | 4 | auto(l5)   | f | 25 | 36 | r | subcompact |\n",
       "| honda      | civic      | 1.8 | 2008 | 4 | auto(l5)   | f | 24 | 36 | c | subcompact |\n",
       "\n"
      ],
      "text/plain": [
       "  manufacturer model      displ year cyl trans      drv cty hwy fl class     \n",
       "1 volkswagen   new beetle 1.9   1999 4   manual(m5) f   35  44  d  subcompact\n",
       "2 volkswagen   jetta      1.9   1999 4   manual(m5) f   33  44  d  compact   \n",
       "3 volkswagen   new beetle 1.9   1999 4   auto(l4)   f   29  41  d  subcompact\n",
       "4 toyota       corolla    1.8   2008 4   manual(m5) f   28  37  r  compact   \n",
       "5 honda        civic      1.8   2008 4   auto(l5)   f   25  36  r  subcompact\n",
       "6 honda        civic      1.8   2008 4   auto(l5)   f   24  36  c  subcompact"
      ]
     },
     "metadata": {},
     "output_type": "display_data"
    }
   ],
   "source": [
    "# arrange mpg so that first hwy mileage is by descending order, then cty mileage is by descending order\n",
    "dplyr::arrange(mpg, desc(hwy), desc(cty)) %>% head"
   ]
  },
  {
   "cell_type": "markdown",
   "metadata": {},
   "source": [
    "Example of missing data getting placed at bottom."
   ]
  },
  {
   "cell_type": "code",
   "execution_count": 38,
   "metadata": {},
   "outputs": [
    {
     "data": {
      "text/html": [
       "<table class=\"dataframe\">\n",
       "<caption>A data.frame: 4 × 1</caption>\n",
       "<thead>\n",
       "\t<tr><th scope=col>x</th></tr>\n",
       "\t<tr><th scope=col>&lt;dbl&gt;</th></tr>\n",
       "</thead>\n",
       "<tbody>\n",
       "\t<tr><td> 5</td></tr>\n",
       "\t<tr><td> 2</td></tr>\n",
       "\t<tr><td>NA</td></tr>\n",
       "\t<tr><td> 6</td></tr>\n",
       "</tbody>\n",
       "</table>\n"
      ],
      "text/latex": [
       "A data.frame: 4 × 1\n",
       "\\begin{tabular}{l}\n",
       " x\\\\\n",
       " <dbl>\\\\\n",
       "\\hline\n",
       "\t  5\\\\\n",
       "\t  2\\\\\n",
       "\t NA\\\\\n",
       "\t  6\\\\\n",
       "\\end{tabular}\n"
      ],
      "text/markdown": [
       "\n",
       "A data.frame: 4 × 1\n",
       "\n",
       "| x &lt;dbl&gt; |\n",
       "|---|\n",
       "|  5 |\n",
       "|  2 |\n",
       "| NA |\n",
       "|  6 |\n",
       "\n"
      ],
      "text/plain": [
       "  x \n",
       "1  5\n",
       "2  2\n",
       "3 NA\n",
       "4  6"
      ]
     },
     "metadata": {},
     "output_type": "display_data"
    }
   ],
   "source": [
    "df <- data.frame(x=c(5,2,NA,6))\n",
    "df"
   ]
  },
  {
   "cell_type": "code",
   "execution_count": 39,
   "metadata": {},
   "outputs": [
    {
     "data": {
      "text/html": [
       "<table class=\"dataframe\">\n",
       "<caption>A data.frame: 4 × 1</caption>\n",
       "<thead>\n",
       "\t<tr><th scope=col>x</th></tr>\n",
       "\t<tr><th scope=col>&lt;dbl&gt;</th></tr>\n",
       "</thead>\n",
       "<tbody>\n",
       "\t<tr><td> 2</td></tr>\n",
       "\t<tr><td> 5</td></tr>\n",
       "\t<tr><td> 6</td></tr>\n",
       "\t<tr><td>NA</td></tr>\n",
       "</tbody>\n",
       "</table>\n"
      ],
      "text/latex": [
       "A data.frame: 4 × 1\n",
       "\\begin{tabular}{l}\n",
       " x\\\\\n",
       " <dbl>\\\\\n",
       "\\hline\n",
       "\t  2\\\\\n",
       "\t  5\\\\\n",
       "\t  6\\\\\n",
       "\t NA\\\\\n",
       "\\end{tabular}\n"
      ],
      "text/markdown": [
       "\n",
       "A data.frame: 4 × 1\n",
       "\n",
       "| x &lt;dbl&gt; |\n",
       "|---|\n",
       "|  2 |\n",
       "|  5 |\n",
       "|  6 |\n",
       "| NA |\n",
       "\n"
      ],
      "text/plain": [
       "  x \n",
       "1  2\n",
       "2  5\n",
       "3  6\n",
       "4 NA"
      ]
     },
     "metadata": {},
     "output_type": "display_data"
    }
   ],
   "source": [
    "# arrange df by ascending order, NA will be at bottom\n",
    "dplyr::arrange(df, x)"
   ]
  },
  {
   "cell_type": "code",
   "execution_count": 40,
   "metadata": {},
   "outputs": [
    {
     "data": {
      "text/html": [
       "<table class=\"dataframe\">\n",
       "<caption>A data.frame: 4 × 1</caption>\n",
       "<thead>\n",
       "\t<tr><th scope=col>x</th></tr>\n",
       "\t<tr><th scope=col>&lt;dbl&gt;</th></tr>\n",
       "</thead>\n",
       "<tbody>\n",
       "\t<tr><td> 6</td></tr>\n",
       "\t<tr><td> 5</td></tr>\n",
       "\t<tr><td> 2</td></tr>\n",
       "\t<tr><td>NA</td></tr>\n",
       "</tbody>\n",
       "</table>\n"
      ],
      "text/latex": [
       "A data.frame: 4 × 1\n",
       "\\begin{tabular}{l}\n",
       " x\\\\\n",
       " <dbl>\\\\\n",
       "\\hline\n",
       "\t  6\\\\\n",
       "\t  5\\\\\n",
       "\t  2\\\\\n",
       "\t NA\\\\\n",
       "\\end{tabular}\n"
      ],
      "text/markdown": [
       "\n",
       "A data.frame: 4 × 1\n",
       "\n",
       "| x &lt;dbl&gt; |\n",
       "|---|\n",
       "|  6 |\n",
       "|  5 |\n",
       "|  2 |\n",
       "| NA |\n",
       "\n"
      ],
      "text/plain": [
       "  x \n",
       "1  6\n",
       "2  5\n",
       "3  2\n",
       "4 NA"
      ]
     },
     "metadata": {},
     "output_type": "display_data"
    }
   ],
   "source": [
    "# arrange df by descending order, NA will be at bottom\n",
    "dplyr::arrange(df, desc(x))"
   ]
  },
  {
   "cell_type": "code",
   "execution_count": 41,
   "metadata": {},
   "outputs": [
    {
     "data": {
      "text/html": [
       "<table class=\"dataframe\">\n",
       "<caption>A data.frame: 4 × 1</caption>\n",
       "<thead>\n",
       "\t<tr><th scope=col>x</th></tr>\n",
       "\t<tr><th scope=col>&lt;dbl&gt;</th></tr>\n",
       "</thead>\n",
       "<tbody>\n",
       "\t<tr><td>NA</td></tr>\n",
       "\t<tr><td> 5</td></tr>\n",
       "\t<tr><td> 2</td></tr>\n",
       "\t<tr><td> 6</td></tr>\n",
       "</tbody>\n",
       "</table>\n"
      ],
      "text/latex": [
       "A data.frame: 4 × 1\n",
       "\\begin{tabular}{l}\n",
       " x\\\\\n",
       " <dbl>\\\\\n",
       "\\hline\n",
       "\t NA\\\\\n",
       "\t  5\\\\\n",
       "\t  2\\\\\n",
       "\t  6\\\\\n",
       "\\end{tabular}\n"
      ],
      "text/markdown": [
       "\n",
       "A data.frame: 4 × 1\n",
       "\n",
       "| x &lt;dbl&gt; |\n",
       "|---|\n",
       "| NA |\n",
       "|  5 |\n",
       "|  2 |\n",
       "|  6 |\n",
       "\n"
      ],
      "text/plain": [
       "  x \n",
       "1 NA\n",
       "2  5\n",
       "3  2\n",
       "4  6"
      ]
     },
     "metadata": {},
     "output_type": "display_data"
    }
   ],
   "source": [
    "# rest of the values are unsorted because they are all T for !is.na(x)\n",
    "dplyr::arrange(df,!is.na(x))"
   ]
  },
  {
   "cell_type": "code",
   "execution_count": 42,
   "metadata": {},
   "outputs": [
    {
     "data": {
      "text/html": [
       "<table class=\"dataframe\">\n",
       "<caption>A data.frame: 4 × 1</caption>\n",
       "<thead>\n",
       "\t<tr><th scope=col>x</th></tr>\n",
       "\t<tr><th scope=col>&lt;dbl&gt;</th></tr>\n",
       "</thead>\n",
       "<tbody>\n",
       "\t<tr><td>NA</td></tr>\n",
       "\t<tr><td> 6</td></tr>\n",
       "\t<tr><td> 5</td></tr>\n",
       "\t<tr><td> 2</td></tr>\n",
       "</tbody>\n",
       "</table>\n"
      ],
      "text/latex": [
       "A data.frame: 4 × 1\n",
       "\\begin{tabular}{l}\n",
       " x\\\\\n",
       " <dbl>\\\\\n",
       "\\hline\n",
       "\t NA\\\\\n",
       "\t  6\\\\\n",
       "\t  5\\\\\n",
       "\t  2\\\\\n",
       "\\end{tabular}\n"
      ],
      "text/markdown": [
       "\n",
       "A data.frame: 4 × 1\n",
       "\n",
       "| x &lt;dbl&gt; |\n",
       "|---|\n",
       "| NA |\n",
       "|  6 |\n",
       "|  5 |\n",
       "|  2 |\n",
       "\n"
      ],
      "text/plain": [
       "  x \n",
       "1 NA\n",
       "2  6\n",
       "3  5\n",
       "4  2"
      ]
     },
     "metadata": {},
     "output_type": "display_data"
    }
   ],
   "source": [
    "# can arrange by x again to get ascending order\n",
    "dplyr::arrange(df,!is.na(x),desc(x))"
   ]
  },
  {
   "cell_type": "markdown",
   "metadata": {},
   "source": [
    "## `select()` columns/variables\n",
    "\n",
    "Selects columns, which can be useful when you have hundreds or thousands of variables in order to narrow down to what variables you're actually interested in. First argument is name of data frame, subsequent arguments are columns to select. Can use `a:b` to select all columns between `a` and `b`, or use `-a` to select all columns *except* a."
   ]
  },
  {
   "cell_type": "code",
   "execution_count": null,
   "metadata": {},
   "outputs": [],
   "source": [
    "?dplyr::select"
   ]
  },
  {
   "cell_type": "code",
   "execution_count": 43,
   "metadata": {},
   "outputs": [
    {
     "data": {
      "text/html": [
       "<table class=\"dataframe\">\n",
       "<caption>A tibble: 6 × 5</caption>\n",
       "<thead>\n",
       "\t<tr><th scope=col>manufacturer</th><th scope=col>model</th><th scope=col>year</th><th scope=col>cty</th><th scope=col>hwy</th></tr>\n",
       "\t<tr><th scope=col>&lt;chr&gt;</th><th scope=col>&lt;chr&gt;</th><th scope=col>&lt;int&gt;</th><th scope=col>&lt;int&gt;</th><th scope=col>&lt;int&gt;</th></tr>\n",
       "</thead>\n",
       "<tbody>\n",
       "\t<tr><td>audi</td><td>a4</td><td>1999</td><td>18</td><td>29</td></tr>\n",
       "\t<tr><td>audi</td><td>a4</td><td>1999</td><td>21</td><td>29</td></tr>\n",
       "\t<tr><td>audi</td><td>a4</td><td>2008</td><td>20</td><td>31</td></tr>\n",
       "\t<tr><td>audi</td><td>a4</td><td>2008</td><td>21</td><td>30</td></tr>\n",
       "\t<tr><td>audi</td><td>a4</td><td>1999</td><td>16</td><td>26</td></tr>\n",
       "\t<tr><td>audi</td><td>a4</td><td>1999</td><td>18</td><td>26</td></tr>\n",
       "</tbody>\n",
       "</table>\n"
      ],
      "text/latex": [
       "A tibble: 6 × 5\n",
       "\\begin{tabular}{lllll}\n",
       " manufacturer & model & year & cty & hwy\\\\\n",
       " <chr> & <chr> & <int> & <int> & <int>\\\\\n",
       "\\hline\n",
       "\t audi & a4 & 1999 & 18 & 29\\\\\n",
       "\t audi & a4 & 1999 & 21 & 29\\\\\n",
       "\t audi & a4 & 2008 & 20 & 31\\\\\n",
       "\t audi & a4 & 2008 & 21 & 30\\\\\n",
       "\t audi & a4 & 1999 & 16 & 26\\\\\n",
       "\t audi & a4 & 1999 & 18 & 26\\\\\n",
       "\\end{tabular}\n"
      ],
      "text/markdown": [
       "\n",
       "A tibble: 6 × 5\n",
       "\n",
       "| manufacturer &lt;chr&gt; | model &lt;chr&gt; | year &lt;int&gt; | cty &lt;int&gt; | hwy &lt;int&gt; |\n",
       "|---|---|---|---|---|\n",
       "| audi | a4 | 1999 | 18 | 29 |\n",
       "| audi | a4 | 1999 | 21 | 29 |\n",
       "| audi | a4 | 2008 | 20 | 31 |\n",
       "| audi | a4 | 2008 | 21 | 30 |\n",
       "| audi | a4 | 1999 | 16 | 26 |\n",
       "| audi | a4 | 1999 | 18 | 26 |\n",
       "\n"
      ],
      "text/plain": [
       "  manufacturer model year cty hwy\n",
       "1 audi         a4    1999 18  29 \n",
       "2 audi         a4    1999 21  29 \n",
       "3 audi         a4    2008 20  31 \n",
       "4 audi         a4    2008 21  30 \n",
       "5 audi         a4    1999 16  26 \n",
       "6 audi         a4    1999 18  26 "
      ]
     },
     "metadata": {},
     "output_type": "display_data"
    }
   ],
   "source": [
    "# select manufacturer, model, year, cty, hwy\n",
    "dplyr::select(mpg, manufacturer, model, year, cty, hwy) %>% head"
   ]
  },
  {
   "cell_type": "code",
   "execution_count": 44,
   "metadata": {},
   "outputs": [
    {
     "data": {
      "text/html": [
       "<table class=\"dataframe\">\n",
       "<caption>A tibble: 6 × 8</caption>\n",
       "<thead>\n",
       "\t<tr><th scope=col>model</th><th scope=col>displ</th><th scope=col>year</th><th scope=col>cyl</th><th scope=col>trans</th><th scope=col>drv</th><th scope=col>cty</th><th scope=col>hwy</th></tr>\n",
       "\t<tr><th scope=col>&lt;chr&gt;</th><th scope=col>&lt;dbl&gt;</th><th scope=col>&lt;int&gt;</th><th scope=col>&lt;int&gt;</th><th scope=col>&lt;chr&gt;</th><th scope=col>&lt;chr&gt;</th><th scope=col>&lt;int&gt;</th><th scope=col>&lt;int&gt;</th></tr>\n",
       "</thead>\n",
       "<tbody>\n",
       "\t<tr><td>a4</td><td>1.8</td><td>1999</td><td>4</td><td>auto(l5)  </td><td>f</td><td>18</td><td>29</td></tr>\n",
       "\t<tr><td>a4</td><td>1.8</td><td>1999</td><td>4</td><td>manual(m5)</td><td>f</td><td>21</td><td>29</td></tr>\n",
       "\t<tr><td>a4</td><td>2.0</td><td>2008</td><td>4</td><td>manual(m6)</td><td>f</td><td>20</td><td>31</td></tr>\n",
       "\t<tr><td>a4</td><td>2.0</td><td>2008</td><td>4</td><td>auto(av)  </td><td>f</td><td>21</td><td>30</td></tr>\n",
       "\t<tr><td>a4</td><td>2.8</td><td>1999</td><td>6</td><td>auto(l5)  </td><td>f</td><td>16</td><td>26</td></tr>\n",
       "\t<tr><td>a4</td><td>2.8</td><td>1999</td><td>6</td><td>manual(m5)</td><td>f</td><td>18</td><td>26</td></tr>\n",
       "</tbody>\n",
       "</table>\n"
      ],
      "text/latex": [
       "A tibble: 6 × 8\n",
       "\\begin{tabular}{llllllll}\n",
       " model & displ & year & cyl & trans & drv & cty & hwy\\\\\n",
       " <chr> & <dbl> & <int> & <int> & <chr> & <chr> & <int> & <int>\\\\\n",
       "\\hline\n",
       "\t a4 & 1.8 & 1999 & 4 & auto(l5)   & f & 18 & 29\\\\\n",
       "\t a4 & 1.8 & 1999 & 4 & manual(m5) & f & 21 & 29\\\\\n",
       "\t a4 & 2.0 & 2008 & 4 & manual(m6) & f & 20 & 31\\\\\n",
       "\t a4 & 2.0 & 2008 & 4 & auto(av)   & f & 21 & 30\\\\\n",
       "\t a4 & 2.8 & 1999 & 6 & auto(l5)   & f & 16 & 26\\\\\n",
       "\t a4 & 2.8 & 1999 & 6 & manual(m5) & f & 18 & 26\\\\\n",
       "\\end{tabular}\n"
      ],
      "text/markdown": [
       "\n",
       "A tibble: 6 × 8\n",
       "\n",
       "| model &lt;chr&gt; | displ &lt;dbl&gt; | year &lt;int&gt; | cyl &lt;int&gt; | trans &lt;chr&gt; | drv &lt;chr&gt; | cty &lt;int&gt; | hwy &lt;int&gt; |\n",
       "|---|---|---|---|---|---|---|---|\n",
       "| a4 | 1.8 | 1999 | 4 | auto(l5)   | f | 18 | 29 |\n",
       "| a4 | 1.8 | 1999 | 4 | manual(m5) | f | 21 | 29 |\n",
       "| a4 | 2.0 | 2008 | 4 | manual(m6) | f | 20 | 31 |\n",
       "| a4 | 2.0 | 2008 | 4 | auto(av)   | f | 21 | 30 |\n",
       "| a4 | 2.8 | 1999 | 6 | auto(l5)   | f | 16 | 26 |\n",
       "| a4 | 2.8 | 1999 | 6 | manual(m5) | f | 18 | 26 |\n",
       "\n"
      ],
      "text/plain": [
       "  model displ year cyl trans      drv cty hwy\n",
       "1 a4    1.8   1999 4   auto(l5)   f   18  29 \n",
       "2 a4    1.8   1999 4   manual(m5) f   21  29 \n",
       "3 a4    2.0   2008 4   manual(m6) f   20  31 \n",
       "4 a4    2.0   2008 4   auto(av)   f   21  30 \n",
       "5 a4    2.8   1999 6   auto(l5)   f   16  26 \n",
       "6 a4    2.8   1999 6   manual(m5) f   18  26 "
      ]
     },
     "metadata": {},
     "output_type": "display_data"
    },
    {
     "data": {
      "text/html": [
       "<table class=\"dataframe\">\n",
       "<caption>A tibble: 6 × 11</caption>\n",
       "<thead>\n",
       "\t<tr><th scope=col>manufacturer</th><th scope=col>model</th><th scope=col>displ</th><th scope=col>year</th><th scope=col>cyl</th><th scope=col>trans</th><th scope=col>drv</th><th scope=col>cty</th><th scope=col>hwy</th><th scope=col>fl</th><th scope=col>class</th></tr>\n",
       "\t<tr><th scope=col>&lt;chr&gt;</th><th scope=col>&lt;chr&gt;</th><th scope=col>&lt;dbl&gt;</th><th scope=col>&lt;int&gt;</th><th scope=col>&lt;int&gt;</th><th scope=col>&lt;chr&gt;</th><th scope=col>&lt;chr&gt;</th><th scope=col>&lt;int&gt;</th><th scope=col>&lt;int&gt;</th><th scope=col>&lt;chr&gt;</th><th scope=col>&lt;chr&gt;</th></tr>\n",
       "</thead>\n",
       "<tbody>\n",
       "\t<tr><td>audi</td><td>a4</td><td>1.8</td><td>1999</td><td>4</td><td>auto(l5)  </td><td>f</td><td>18</td><td>29</td><td>p</td><td>compact</td></tr>\n",
       "\t<tr><td>audi</td><td>a4</td><td>1.8</td><td>1999</td><td>4</td><td>manual(m5)</td><td>f</td><td>21</td><td>29</td><td>p</td><td>compact</td></tr>\n",
       "\t<tr><td>audi</td><td>a4</td><td>2.0</td><td>2008</td><td>4</td><td>manual(m6)</td><td>f</td><td>20</td><td>31</td><td>p</td><td>compact</td></tr>\n",
       "\t<tr><td>audi</td><td>a4</td><td>2.0</td><td>2008</td><td>4</td><td>auto(av)  </td><td>f</td><td>21</td><td>30</td><td>p</td><td>compact</td></tr>\n",
       "\t<tr><td>audi</td><td>a4</td><td>2.8</td><td>1999</td><td>6</td><td>auto(l5)  </td><td>f</td><td>16</td><td>26</td><td>p</td><td>compact</td></tr>\n",
       "\t<tr><td>audi</td><td>a4</td><td>2.8</td><td>1999</td><td>6</td><td>manual(m5)</td><td>f</td><td>18</td><td>26</td><td>p</td><td>compact</td></tr>\n",
       "</tbody>\n",
       "</table>\n"
      ],
      "text/latex": [
       "A tibble: 6 × 11\n",
       "\\begin{tabular}{lllllllllll}\n",
       " manufacturer & model & displ & year & cyl & trans & drv & cty & hwy & fl & class\\\\\n",
       " <chr> & <chr> & <dbl> & <int> & <int> & <chr> & <chr> & <int> & <int> & <chr> & <chr>\\\\\n",
       "\\hline\n",
       "\t audi & a4 & 1.8 & 1999 & 4 & auto(l5)   & f & 18 & 29 & p & compact\\\\\n",
       "\t audi & a4 & 1.8 & 1999 & 4 & manual(m5) & f & 21 & 29 & p & compact\\\\\n",
       "\t audi & a4 & 2.0 & 2008 & 4 & manual(m6) & f & 20 & 31 & p & compact\\\\\n",
       "\t audi & a4 & 2.0 & 2008 & 4 & auto(av)   & f & 21 & 30 & p & compact\\\\\n",
       "\t audi & a4 & 2.8 & 1999 & 6 & auto(l5)   & f & 16 & 26 & p & compact\\\\\n",
       "\t audi & a4 & 2.8 & 1999 & 6 & manual(m5) & f & 18 & 26 & p & compact\\\\\n",
       "\\end{tabular}\n"
      ],
      "text/markdown": [
       "\n",
       "A tibble: 6 × 11\n",
       "\n",
       "| manufacturer &lt;chr&gt; | model &lt;chr&gt; | displ &lt;dbl&gt; | year &lt;int&gt; | cyl &lt;int&gt; | trans &lt;chr&gt; | drv &lt;chr&gt; | cty &lt;int&gt; | hwy &lt;int&gt; | fl &lt;chr&gt; | class &lt;chr&gt; |\n",
       "|---|---|---|---|---|---|---|---|---|---|---|\n",
       "| audi | a4 | 1.8 | 1999 | 4 | auto(l5)   | f | 18 | 29 | p | compact |\n",
       "| audi | a4 | 1.8 | 1999 | 4 | manual(m5) | f | 21 | 29 | p | compact |\n",
       "| audi | a4 | 2.0 | 2008 | 4 | manual(m6) | f | 20 | 31 | p | compact |\n",
       "| audi | a4 | 2.0 | 2008 | 4 | auto(av)   | f | 21 | 30 | p | compact |\n",
       "| audi | a4 | 2.8 | 1999 | 6 | auto(l5)   | f | 16 | 26 | p | compact |\n",
       "| audi | a4 | 2.8 | 1999 | 6 | manual(m5) | f | 18 | 26 | p | compact |\n",
       "\n"
      ],
      "text/plain": [
       "  manufacturer model displ year cyl trans      drv cty hwy fl class  \n",
       "1 audi         a4    1.8   1999 4   auto(l5)   f   18  29  p  compact\n",
       "2 audi         a4    1.8   1999 4   manual(m5) f   21  29  p  compact\n",
       "3 audi         a4    2.0   2008 4   manual(m6) f   20  31  p  compact\n",
       "4 audi         a4    2.0   2008 4   auto(av)   f   21  30  p  compact\n",
       "5 audi         a4    2.8   1999 6   auto(l5)   f   16  26  p  compact\n",
       "6 audi         a4    2.8   1999 6   manual(m5) f   18  26  p  compact"
      ]
     },
     "metadata": {},
     "output_type": "display_data"
    }
   ],
   "source": [
    "# select all columns model thru hwy\n",
    "dplyr::select(mpg, model:hwy) %>% head\n",
    "head(mpg)"
   ]
  },
  {
   "cell_type": "code",
   "execution_count": 45,
   "metadata": {},
   "outputs": [
    {
     "data": {
      "text/html": [
       "<table class=\"dataframe\">\n",
       "<caption>A tibble: 6 × 7</caption>\n",
       "<thead>\n",
       "\t<tr><th scope=col>manufacturer</th><th scope=col>model</th><th scope=col>displ</th><th scope=col>year</th><th scope=col>cty</th><th scope=col>hwy</th><th scope=col>fl</th></tr>\n",
       "\t<tr><th scope=col>&lt;chr&gt;</th><th scope=col>&lt;chr&gt;</th><th scope=col>&lt;dbl&gt;</th><th scope=col>&lt;int&gt;</th><th scope=col>&lt;int&gt;</th><th scope=col>&lt;int&gt;</th><th scope=col>&lt;chr&gt;</th></tr>\n",
       "</thead>\n",
       "<tbody>\n",
       "\t<tr><td>audi</td><td>a4</td><td>1.8</td><td>1999</td><td>18</td><td>29</td><td>p</td></tr>\n",
       "\t<tr><td>audi</td><td>a4</td><td>1.8</td><td>1999</td><td>21</td><td>29</td><td>p</td></tr>\n",
       "\t<tr><td>audi</td><td>a4</td><td>2.0</td><td>2008</td><td>20</td><td>31</td><td>p</td></tr>\n",
       "\t<tr><td>audi</td><td>a4</td><td>2.0</td><td>2008</td><td>21</td><td>30</td><td>p</td></tr>\n",
       "\t<tr><td>audi</td><td>a4</td><td>2.8</td><td>1999</td><td>16</td><td>26</td><td>p</td></tr>\n",
       "\t<tr><td>audi</td><td>a4</td><td>2.8</td><td>1999</td><td>18</td><td>26</td><td>p</td></tr>\n",
       "</tbody>\n",
       "</table>\n"
      ],
      "text/latex": [
       "A tibble: 6 × 7\n",
       "\\begin{tabular}{lllllll}\n",
       " manufacturer & model & displ & year & cty & hwy & fl\\\\\n",
       " <chr> & <chr> & <dbl> & <int> & <int> & <int> & <chr>\\\\\n",
       "\\hline\n",
       "\t audi & a4 & 1.8 & 1999 & 18 & 29 & p\\\\\n",
       "\t audi & a4 & 1.8 & 1999 & 21 & 29 & p\\\\\n",
       "\t audi & a4 & 2.0 & 2008 & 20 & 31 & p\\\\\n",
       "\t audi & a4 & 2.0 & 2008 & 21 & 30 & p\\\\\n",
       "\t audi & a4 & 2.8 & 1999 & 16 & 26 & p\\\\\n",
       "\t audi & a4 & 2.8 & 1999 & 18 & 26 & p\\\\\n",
       "\\end{tabular}\n"
      ],
      "text/markdown": [
       "\n",
       "A tibble: 6 × 7\n",
       "\n",
       "| manufacturer &lt;chr&gt; | model &lt;chr&gt; | displ &lt;dbl&gt; | year &lt;int&gt; | cty &lt;int&gt; | hwy &lt;int&gt; | fl &lt;chr&gt; |\n",
       "|---|---|---|---|---|---|---|\n",
       "| audi | a4 | 1.8 | 1999 | 18 | 29 | p |\n",
       "| audi | a4 | 1.8 | 1999 | 21 | 29 | p |\n",
       "| audi | a4 | 2.0 | 2008 | 20 | 31 | p |\n",
       "| audi | a4 | 2.0 | 2008 | 21 | 30 | p |\n",
       "| audi | a4 | 2.8 | 1999 | 16 | 26 | p |\n",
       "| audi | a4 | 2.8 | 1999 | 18 | 26 | p |\n",
       "\n"
      ],
      "text/plain": [
       "  manufacturer model displ year cty hwy fl\n",
       "1 audi         a4    1.8   1999 18  29  p \n",
       "2 audi         a4    1.8   1999 21  29  p \n",
       "3 audi         a4    2.0   2008 20  31  p \n",
       "4 audi         a4    2.0   2008 21  30  p \n",
       "5 audi         a4    2.8   1999 16  26  p \n",
       "6 audi         a4    2.8   1999 18  26  p "
      ]
     },
     "metadata": {},
     "output_type": "display_data"
    }
   ],
   "source": [
    "# select all columns except cyl thru drv and class\n",
    "dplyr::select(mpg, -(cyl:drv), -class) %>% head"
   ]
  },
  {
   "cell_type": "markdown",
   "metadata": {},
   "source": [
    "## `mutate()` to add new variables or `transmute()` to keep only new variables\n",
    "\n",
    "Adds new columns that are functions of existing columns. First argument is name of data frame, next arguments are of the form `new_column_name = f(existing columns)`."
   ]
  },
  {
   "cell_type": "code",
   "execution_count": 74,
   "metadata": {},
   "outputs": [],
   "source": [
    "?dplyr::mutate"
   ]
  },
  {
   "cell_type": "code",
   "execution_count": 46,
   "metadata": {},
   "outputs": [
    {
     "data": {
      "text/html": [
       "<table class=\"dataframe\">\n",
       "<caption>A tibble: 6 × 12</caption>\n",
       "<thead>\n",
       "\t<tr><th scope=col>manufacturer</th><th scope=col>model</th><th scope=col>displ</th><th scope=col>year</th><th scope=col>cyl</th><th scope=col>trans</th><th scope=col>drv</th><th scope=col>cty</th><th scope=col>hwy</th><th scope=col>fl</th><th scope=col>class</th><th scope=col>avg_mileage</th></tr>\n",
       "\t<tr><th scope=col>&lt;chr&gt;</th><th scope=col>&lt;chr&gt;</th><th scope=col>&lt;dbl&gt;</th><th scope=col>&lt;int&gt;</th><th scope=col>&lt;int&gt;</th><th scope=col>&lt;chr&gt;</th><th scope=col>&lt;chr&gt;</th><th scope=col>&lt;int&gt;</th><th scope=col>&lt;int&gt;</th><th scope=col>&lt;chr&gt;</th><th scope=col>&lt;chr&gt;</th><th scope=col>&lt;dbl&gt;</th></tr>\n",
       "</thead>\n",
       "<tbody>\n",
       "\t<tr><td>audi</td><td>a4</td><td>1.8</td><td>1999</td><td>4</td><td>auto(l5)  </td><td>f</td><td>18</td><td>29</td><td>p</td><td>compact</td><td>23.5</td></tr>\n",
       "\t<tr><td>audi</td><td>a4</td><td>1.8</td><td>1999</td><td>4</td><td>manual(m5)</td><td>f</td><td>21</td><td>29</td><td>p</td><td>compact</td><td>25.0</td></tr>\n",
       "\t<tr><td>audi</td><td>a4</td><td>2.0</td><td>2008</td><td>4</td><td>manual(m6)</td><td>f</td><td>20</td><td>31</td><td>p</td><td>compact</td><td>25.5</td></tr>\n",
       "\t<tr><td>audi</td><td>a4</td><td>2.0</td><td>2008</td><td>4</td><td>auto(av)  </td><td>f</td><td>21</td><td>30</td><td>p</td><td>compact</td><td>25.5</td></tr>\n",
       "\t<tr><td>audi</td><td>a4</td><td>2.8</td><td>1999</td><td>6</td><td>auto(l5)  </td><td>f</td><td>16</td><td>26</td><td>p</td><td>compact</td><td>21.0</td></tr>\n",
       "\t<tr><td>audi</td><td>a4</td><td>2.8</td><td>1999</td><td>6</td><td>manual(m5)</td><td>f</td><td>18</td><td>26</td><td>p</td><td>compact</td><td>22.0</td></tr>\n",
       "</tbody>\n",
       "</table>\n"
      ],
      "text/latex": [
       "A tibble: 6 × 12\n",
       "\\begin{tabular}{llllllllllll}\n",
       " manufacturer & model & displ & year & cyl & trans & drv & cty & hwy & fl & class & avg\\_mileage\\\\\n",
       " <chr> & <chr> & <dbl> & <int> & <int> & <chr> & <chr> & <int> & <int> & <chr> & <chr> & <dbl>\\\\\n",
       "\\hline\n",
       "\t audi & a4 & 1.8 & 1999 & 4 & auto(l5)   & f & 18 & 29 & p & compact & 23.5\\\\\n",
       "\t audi & a4 & 1.8 & 1999 & 4 & manual(m5) & f & 21 & 29 & p & compact & 25.0\\\\\n",
       "\t audi & a4 & 2.0 & 2008 & 4 & manual(m6) & f & 20 & 31 & p & compact & 25.5\\\\\n",
       "\t audi & a4 & 2.0 & 2008 & 4 & auto(av)   & f & 21 & 30 & p & compact & 25.5\\\\\n",
       "\t audi & a4 & 2.8 & 1999 & 6 & auto(l5)   & f & 16 & 26 & p & compact & 21.0\\\\\n",
       "\t audi & a4 & 2.8 & 1999 & 6 & manual(m5) & f & 18 & 26 & p & compact & 22.0\\\\\n",
       "\\end{tabular}\n"
      ],
      "text/markdown": [
       "\n",
       "A tibble: 6 × 12\n",
       "\n",
       "| manufacturer &lt;chr&gt; | model &lt;chr&gt; | displ &lt;dbl&gt; | year &lt;int&gt; | cyl &lt;int&gt; | trans &lt;chr&gt; | drv &lt;chr&gt; | cty &lt;int&gt; | hwy &lt;int&gt; | fl &lt;chr&gt; | class &lt;chr&gt; | avg_mileage &lt;dbl&gt; |\n",
       "|---|---|---|---|---|---|---|---|---|---|---|---|\n",
       "| audi | a4 | 1.8 | 1999 | 4 | auto(l5)   | f | 18 | 29 | p | compact | 23.5 |\n",
       "| audi | a4 | 1.8 | 1999 | 4 | manual(m5) | f | 21 | 29 | p | compact | 25.0 |\n",
       "| audi | a4 | 2.0 | 2008 | 4 | manual(m6) | f | 20 | 31 | p | compact | 25.5 |\n",
       "| audi | a4 | 2.0 | 2008 | 4 | auto(av)   | f | 21 | 30 | p | compact | 25.5 |\n",
       "| audi | a4 | 2.8 | 1999 | 6 | auto(l5)   | f | 16 | 26 | p | compact | 21.0 |\n",
       "| audi | a4 | 2.8 | 1999 | 6 | manual(m5) | f | 18 | 26 | p | compact | 22.0 |\n",
       "\n"
      ],
      "text/plain": [
       "  manufacturer model displ year cyl trans      drv cty hwy fl class  \n",
       "1 audi         a4    1.8   1999 4   auto(l5)   f   18  29  p  compact\n",
       "2 audi         a4    1.8   1999 4   manual(m5) f   21  29  p  compact\n",
       "3 audi         a4    2.0   2008 4   manual(m6) f   20  31  p  compact\n",
       "4 audi         a4    2.0   2008 4   auto(av)   f   21  30  p  compact\n",
       "5 audi         a4    2.8   1999 6   auto(l5)   f   16  26  p  compact\n",
       "6 audi         a4    2.8   1999 6   manual(m5) f   18  26  p  compact\n",
       "  avg_mileage\n",
       "1 23.5       \n",
       "2 25.0       \n",
       "3 25.5       \n",
       "4 25.5       \n",
       "5 21.0       \n",
       "6 22.0       "
      ]
     },
     "metadata": {},
     "output_type": "display_data"
    }
   ],
   "source": [
    "# add a new column that takes average mileage between city and highway\n",
    "dplyr::mutate(mpg, avg_mileage = (cty+hwy)/2) %>% head"
   ]
  },
  {
   "cell_type": "code",
   "execution_count": 47,
   "metadata": {},
   "outputs": [
    {
     "data": {
      "text/html": [
       "<table class=\"dataframe\">\n",
       "<caption>A tibble: 6 × 2</caption>\n",
       "<thead>\n",
       "\t<tr><th scope=col>cty</th><th scope=col>avg_mileage</th></tr>\n",
       "\t<tr><th scope=col>&lt;int&gt;</th><th scope=col>&lt;dbl&gt;</th></tr>\n",
       "</thead>\n",
       "<tbody>\n",
       "\t<tr><td>18</td><td>23.5</td></tr>\n",
       "\t<tr><td>21</td><td>25.0</td></tr>\n",
       "\t<tr><td>20</td><td>25.5</td></tr>\n",
       "\t<tr><td>21</td><td>25.5</td></tr>\n",
       "\t<tr><td>16</td><td>21.0</td></tr>\n",
       "\t<tr><td>18</td><td>22.0</td></tr>\n",
       "</tbody>\n",
       "</table>\n"
      ],
      "text/latex": [
       "A tibble: 6 × 2\n",
       "\\begin{tabular}{ll}\n",
       " cty & avg\\_mileage\\\\\n",
       " <int> & <dbl>\\\\\n",
       "\\hline\n",
       "\t 18 & 23.5\\\\\n",
       "\t 21 & 25.0\\\\\n",
       "\t 20 & 25.5\\\\\n",
       "\t 21 & 25.5\\\\\n",
       "\t 16 & 21.0\\\\\n",
       "\t 18 & 22.0\\\\\n",
       "\\end{tabular}\n"
      ],
      "text/markdown": [
       "\n",
       "A tibble: 6 × 2\n",
       "\n",
       "| cty &lt;int&gt; | avg_mileage &lt;dbl&gt; |\n",
       "|---|---|\n",
       "| 18 | 23.5 |\n",
       "| 21 | 25.0 |\n",
       "| 20 | 25.5 |\n",
       "| 21 | 25.5 |\n",
       "| 16 | 21.0 |\n",
       "| 18 | 22.0 |\n",
       "\n"
      ],
      "text/plain": [
       "  cty avg_mileage\n",
       "1 18  23.5       \n",
       "2 21  25.0       \n",
       "3 20  25.5       \n",
       "4 21  25.5       \n",
       "5 16  21.0       \n",
       "6 18  22.0       "
      ]
     },
     "metadata": {},
     "output_type": "display_data"
    }
   ],
   "source": [
    "# keep only average mileage between city and highway\n",
    "dplyr::transmute(mpg,cty,avg_mileage=(cty+hwy)/2) %>% head"
   ]
  },
  {
   "cell_type": "markdown",
   "metadata": {},
   "source": [
    "## `summarise()` and `group_by()` for grouped summaries\n",
    "\n",
    "`summarise()` collapses a data frame into a single row, and `group_by()` changes analysis from entire data frame into individual groups."
   ]
  },
  {
   "cell_type": "code",
   "execution_count": 76,
   "metadata": {},
   "outputs": [],
   "source": [
    "?dplyr::summarise"
   ]
  },
  {
   "cell_type": "code",
   "execution_count": 75,
   "metadata": {},
   "outputs": [],
   "source": [
    "?dplyr::group_by"
   ]
  },
  {
   "cell_type": "code",
   "execution_count": 48,
   "metadata": {},
   "outputs": [
    {
     "data": {
      "text/html": [
       "<table class=\"dataframe\">\n",
       "<caption>A tibble: 4 × 2</caption>\n",
       "<thead>\n",
       "\t<tr><th scope=col>cyl</th><th scope=col>avg</th></tr>\n",
       "\t<tr><th scope=col>&lt;int&gt;</th><th scope=col>&lt;dbl&gt;</th></tr>\n",
       "</thead>\n",
       "<tbody>\n",
       "\t<tr><td>4</td><td>24.90741</td></tr>\n",
       "\t<tr><td>5</td><td>24.62500</td></tr>\n",
       "\t<tr><td>6</td><td>19.51899</td></tr>\n",
       "\t<tr><td>8</td><td>15.10000</td></tr>\n",
       "</tbody>\n",
       "</table>\n"
      ],
      "text/latex": [
       "A tibble: 4 × 2\n",
       "\\begin{tabular}{ll}\n",
       " cyl & avg\\\\\n",
       " <int> & <dbl>\\\\\n",
       "\\hline\n",
       "\t 4 & 24.90741\\\\\n",
       "\t 5 & 24.62500\\\\\n",
       "\t 6 & 19.51899\\\\\n",
       "\t 8 & 15.10000\\\\\n",
       "\\end{tabular}\n"
      ],
      "text/markdown": [
       "\n",
       "A tibble: 4 × 2\n",
       "\n",
       "| cyl &lt;int&gt; | avg &lt;dbl&gt; |\n",
       "|---|---|\n",
       "| 4 | 24.90741 |\n",
       "| 5 | 24.62500 |\n",
       "| 6 | 19.51899 |\n",
       "| 8 | 15.10000 |\n",
       "\n"
      ],
      "text/plain": [
       "  cyl avg     \n",
       "1 4   24.90741\n",
       "2 5   24.62500\n",
       "3 6   19.51899\n",
       "4 8   15.10000"
      ]
     },
     "metadata": {},
     "output_type": "display_data"
    }
   ],
   "source": [
    "# get average mileage grouped by engine cylinder\n",
    "m <- dplyr::mutate(mpg, avg_mileage=(cty+hwy)/2)\n",
    "# behavior is actually different in R/RStudio compared to notebooks\n",
    "m %>% dplyr::group_by(cyl) %>%\n",
    "    dplyr::summarise(avg=mean(avg_mileage)) %>%\n",
    "    head"
   ]
  },
  {
   "cell_type": "markdown",
   "metadata": {},
   "source": [
    "**Note:** If you look at the output of `group_by` in R/RStudio you will actually be able to see what your groupings are as well as how many of them you have. For example if we did `group_by(mpg, cyl)` the output would include `cyl [4]` which shows that our grouping is by `cyl` and there are 4 groups. Jupyter notebook doesn't display this for reasons having to do with [how data frames are outputted](https://github.com/IRkernel/repr/issues/113). Some other differences exist between how certain objects from **tidyverse** are displayed as well."
   ]
  },
  {
   "cell_type": "code",
   "execution_count": 49,
   "metadata": {},
   "outputs": [
    {
     "data": {
      "text/html": [
       "<table class=\"dataframe\">\n",
       "<caption>A tibble: 3 × 2</caption>\n",
       "<thead>\n",
       "\t<tr><th scope=col>drv</th><th scope=col>avg</th></tr>\n",
       "\t<tr><th scope=col>&lt;chr&gt;</th><th scope=col>&lt;dbl&gt;</th></tr>\n",
       "</thead>\n",
       "<tbody>\n",
       "\t<tr><td>4</td><td>16.75243</td></tr>\n",
       "\t<tr><td>f</td><td>24.06604</td></tr>\n",
       "\t<tr><td>r</td><td>17.54000</td></tr>\n",
       "</tbody>\n",
       "</table>\n"
      ],
      "text/latex": [
       "A tibble: 3 × 2\n",
       "\\begin{tabular}{ll}\n",
       " drv & avg\\\\\n",
       " <chr> & <dbl>\\\\\n",
       "\\hline\n",
       "\t 4 & 16.75243\\\\\n",
       "\t f & 24.06604\\\\\n",
       "\t r & 17.54000\\\\\n",
       "\\end{tabular}\n"
      ],
      "text/markdown": [
       "\n",
       "A tibble: 3 × 2\n",
       "\n",
       "| drv &lt;chr&gt; | avg &lt;dbl&gt; |\n",
       "|---|---|\n",
       "| 4 | 16.75243 |\n",
       "| f | 24.06604 |\n",
       "| r | 17.54000 |\n",
       "\n"
      ],
      "text/plain": [
       "  drv avg     \n",
       "1 4   16.75243\n",
       "2 f   24.06604\n",
       "3 r   17.54000"
      ]
     },
     "metadata": {},
     "output_type": "display_data"
    }
   ],
   "source": [
    "dplyr::group_by(m, drv) %>%\n",
    "    dplyr::summarise(avg=mean(avg_mileage))"
   ]
  },
  {
   "cell_type": "code",
   "execution_count": 50,
   "metadata": {},
   "outputs": [
    {
     "name": "stderr",
     "output_type": "stream",
     "text": [
      "\u001b[1m\u001b[22m`summarise()` has grouped output by 'drv'. You can override using the `.groups` argument.\n"
     ]
    },
    {
     "data": {
      "text/html": [
       "<table class=\"dataframe\">\n",
       "<caption>A grouped_df: 9 × 3</caption>\n",
       "<thead>\n",
       "\t<tr><th scope=col>drv</th><th scope=col>cyl</th><th scope=col>avg</th></tr>\n",
       "\t<tr><th scope=col>&lt;chr&gt;</th><th scope=col>&lt;int&gt;</th><th scope=col>&lt;dbl&gt;</th></tr>\n",
       "</thead>\n",
       "<tbody>\n",
       "\t<tr><td>f</td><td>4</td><td>26.26724</td></tr>\n",
       "\t<tr><td>f</td><td>5</td><td>24.62500</td></tr>\n",
       "\t<tr><td>4</td><td>4</td><td>21.47826</td></tr>\n",
       "\t<tr><td>r</td><td>6</td><td>21.25000</td></tr>\n",
       "\t<tr><td>f</td><td>6</td><td>21.12791</td></tr>\n",
       "\t<tr><td>f</td><td>8</td><td>20.50000</td></tr>\n",
       "\t<tr><td>4</td><td>6</td><td>17.14062</td></tr>\n",
       "\t<tr><td>r</td><td>8</td><td>16.83333</td></tr>\n",
       "\t<tr><td>4</td><td>8</td><td>14.22917</td></tr>\n",
       "</tbody>\n",
       "</table>\n"
      ],
      "text/latex": [
       "A grouped\\_df: 9 × 3\n",
       "\\begin{tabular}{lll}\n",
       " drv & cyl & avg\\\\\n",
       " <chr> & <int> & <dbl>\\\\\n",
       "\\hline\n",
       "\t f & 4 & 26.26724\\\\\n",
       "\t f & 5 & 24.62500\\\\\n",
       "\t 4 & 4 & 21.47826\\\\\n",
       "\t r & 6 & 21.25000\\\\\n",
       "\t f & 6 & 21.12791\\\\\n",
       "\t f & 8 & 20.50000\\\\\n",
       "\t 4 & 6 & 17.14062\\\\\n",
       "\t r & 8 & 16.83333\\\\\n",
       "\t 4 & 8 & 14.22917\\\\\n",
       "\\end{tabular}\n"
      ],
      "text/markdown": [
       "\n",
       "A grouped_df: 9 × 3\n",
       "\n",
       "| drv &lt;chr&gt; | cyl &lt;int&gt; | avg &lt;dbl&gt; |\n",
       "|---|---|---|\n",
       "| f | 4 | 26.26724 |\n",
       "| f | 5 | 24.62500 |\n",
       "| 4 | 4 | 21.47826 |\n",
       "| r | 6 | 21.25000 |\n",
       "| f | 6 | 21.12791 |\n",
       "| f | 8 | 20.50000 |\n",
       "| 4 | 6 | 17.14062 |\n",
       "| r | 8 | 16.83333 |\n",
       "| 4 | 8 | 14.22917 |\n",
       "\n"
      ],
      "text/plain": [
       "  drv cyl avg     \n",
       "1 f   4   26.26724\n",
       "2 f   5   24.62500\n",
       "3 4   4   21.47826\n",
       "4 r   6   21.25000\n",
       "5 f   6   21.12791\n",
       "6 f   8   20.50000\n",
       "7 4   6   17.14062\n",
       "8 r   8   16.83333\n",
       "9 4   8   14.22917"
      ]
     },
     "metadata": {},
     "output_type": "display_data"
    }
   ],
   "source": [
    "# df after group_by would show that we have 9 groups\n",
    "drv_cyl <- dplyr::group_by(m, drv, cyl) %>%\n",
    "    dplyr::summarise(avg=mean(avg_mileage)) %>%\n",
    "    dplyr::arrange(desc(avg))\n",
    "drv_cyl"
   ]
  },
  {
   "cell_type": "markdown",
   "metadata": {},
   "source": [
    "Can also run `ungroup` to ungroup your observations."
   ]
  },
  {
   "cell_type": "code",
   "execution_count": 51,
   "metadata": {},
   "outputs": [
    {
     "data": {
      "text/html": [
       "<table class=\"dataframe\">\n",
       "<caption>A tibble: 3 × 2</caption>\n",
       "<thead>\n",
       "\t<tr><th scope=col>drv</th><th scope=col>max</th></tr>\n",
       "\t<tr><th scope=col>&lt;chr&gt;</th><th scope=col>&lt;dbl&gt;</th></tr>\n",
       "</thead>\n",
       "<tbody>\n",
       "\t<tr><td>4</td><td>21.47826</td></tr>\n",
       "\t<tr><td>f</td><td>26.26724</td></tr>\n",
       "\t<tr><td>r</td><td>21.25000</td></tr>\n",
       "</tbody>\n",
       "</table>\n"
      ],
      "text/latex": [
       "A tibble: 3 × 2\n",
       "\\begin{tabular}{ll}\n",
       " drv & max\\\\\n",
       " <chr> & <dbl>\\\\\n",
       "\\hline\n",
       "\t 4 & 21.47826\\\\\n",
       "\t f & 26.26724\\\\\n",
       "\t r & 21.25000\\\\\n",
       "\\end{tabular}\n"
      ],
      "text/markdown": [
       "\n",
       "A tibble: 3 × 2\n",
       "\n",
       "| drv &lt;chr&gt; | max &lt;dbl&gt; |\n",
       "|---|---|\n",
       "| 4 | 21.47826 |\n",
       "| f | 26.26724 |\n",
       "| r | 21.25000 |\n",
       "\n"
      ],
      "text/plain": [
       "  drv max     \n",
       "1 4   21.47826\n",
       "2 f   26.26724\n",
       "3 r   21.25000"
      ]
     },
     "metadata": {},
     "output_type": "display_data"
    }
   ],
   "source": [
    "drv_cyl %>% dplyr::summarise(max=max(avg))"
   ]
  },
  {
   "cell_type": "code",
   "execution_count": 52,
   "metadata": {},
   "outputs": [
    {
     "data": {
      "text/html": [
       "<table class=\"dataframe\">\n",
       "<caption>A tibble: 1 × 1</caption>\n",
       "<thead>\n",
       "\t<tr><th scope=col>max</th></tr>\n",
       "\t<tr><th scope=col>&lt;dbl&gt;</th></tr>\n",
       "</thead>\n",
       "<tbody>\n",
       "\t<tr><td>26.26724</td></tr>\n",
       "</tbody>\n",
       "</table>\n"
      ],
      "text/latex": [
       "A tibble: 1 × 1\n",
       "\\begin{tabular}{l}\n",
       " max\\\\\n",
       " <dbl>\\\\\n",
       "\\hline\n",
       "\t 26.26724\\\\\n",
       "\\end{tabular}\n"
      ],
      "text/markdown": [
       "\n",
       "A tibble: 1 × 1\n",
       "\n",
       "| max &lt;dbl&gt; |\n",
       "|---|\n",
       "| 26.26724 |\n",
       "\n"
      ],
      "text/plain": [
       "  max     \n",
       "1 26.26724"
      ]
     },
     "metadata": {},
     "output_type": "display_data"
    }
   ],
   "source": [
    "ungroup(drv_cyl) %>% dplyr::summarise(max=max(avg))"
   ]
  }
 ],
 "metadata": {
  "kernelspec": {
   "display_name": "R",
   "language": "R",
   "name": "ir"
  },
  "language_info": {
   "codemirror_mode": "r",
   "file_extension": ".r",
   "mimetype": "text/x-r-source",
   "name": "R",
   "pygments_lexer": "r",
   "version": "4.2.3"
  }
 },
 "nbformat": 4,
 "nbformat_minor": 4
}
